{
 "cells": [
  {
   "cell_type": "markdown",
   "id": "ad9d0eb3-ab7d-419e-9b12-533e116f7b28",
   "metadata": {},
   "source": [
    "# Funzioni\n",
    "## Funzioni Built-in"
   ]
  },
  {
   "cell_type": "markdown",
   "id": "77de2eea-c603-415e-b4f4-23f6b8bf2d39",
   "metadata": {},
   "source": [
    "<a id='partial'></a>\n",
    "### partial"
   ]
  },
  {
   "cell_type": "markdown",
   "id": "e94f2ab4-a2df-4ffc-8bca-913a5663f104",
   "metadata": {},
   "source": [
    "Per funzioni complesse con molti argomenti, da richiamare piu volte senza specificare sempre gli stessi argomenti"
   ]
  },
  {
   "cell_type": "code",
   "execution_count": 1,
   "id": "f2d80b33-35d8-45ad-9a2c-2a9ab846f3e2",
   "metadata": {},
   "outputs": [],
   "source": [
    "from functools import partial"
   ]
  },
  {
   "cell_type": "code",
   "execution_count": 2,
   "id": "5d8ad526-bc56-467c-8e4d-51a3f2e8003c",
   "metadata": {},
   "outputs": [
    {
     "name": "stdout",
     "output_type": "stream",
     "text": [
      "True\n"
     ]
    }
   ],
   "source": [
    "def maggiore_di(a, b):\n",
    "    return a > b\n",
    "print(maggiore_di(15, 10))"
   ]
  },
  {
   "cell_type": "code",
   "execution_count": 3,
   "id": "8922be92-cd06-4c76-bccb-aa284e750ca1",
   "metadata": {},
   "outputs": [
    {
     "name": "stdout",
     "output_type": "stream",
     "text": [
      "False\n"
     ]
    }
   ],
   "source": [
    "maggiore_di_20 = partial(maggiore_di, b=20)\n",
    "print(maggiore_di_20(15))"
   ]
  },
  {
   "cell_type": "markdown",
   "id": "1a4dade8-6427-4416-b7c5-16945f0a203a",
   "metadata": {},
   "source": [
    "Partial rende costante uno o più argomenti della funzione, questo per poterla richiamare più volte in più modi ben leggibili. \n",
    "Da notare che <U>l'implementazione</U> della funzione però, <U>è sempre la stessa</U>.\n",
    "\n",
    "Se si vuole modificare l'implementazione a seconda del tipo di argomento inserito, usare \n",
    "[@singledispatch](#singledispatch)\n",
    "\n",
    "Vi è anche la versione per i metodi nelle classi, sempre in functools, ed è [partialmethod](#partialmethod)\n",
    "\n",
    "Per maggiori dettagli la <a href=\"https://docs.python.org/3/library/functools.html\">documentazione ufficiale di functools</a>."
   ]
  },
  {
   "cell_type": "markdown",
   "id": "f57a9bbd-6da6-4793-8f53-f72afbe5b3e2",
   "metadata": {},
   "source": [
    "## Decoratori di Funzioni\n",
    "### Creazione di un decoratore di funzioni\n",
    "Il decoratore si ciuccia la funzione, ne estrapola gli argomenti args e le keywords kwargs, se li lavora e poi gli rimette dentro i valori args e kwargs modificati.\n",
    "\n",
    "Creiamo l'implementazione del decoratore"
   ]
  },
  {
   "cell_type": "markdown",
   "id": "45304b31-f337-4000-9169-3ce279f52585",
   "metadata": {},
   "source": [
    "Per funzioni complesse con molti argomenti, da richiamare piu volte senza specificare sempre gli stessi argomenti"
   ]
  },
  {
   "cell_type": "code",
   "execution_count": 4,
   "id": "aeafd9d7-44d3-4965-92d8-fa8f6dab171c",
   "metadata": {},
   "outputs": [],
   "source": [
    "from functools import partial"
   ]
  },
  {
   "cell_type": "code",
   "execution_count": 5,
   "id": "6bf1d3f0-c9f2-4e23-9a77-3d7d01866336",
   "metadata": {},
   "outputs": [
    {
     "name": "stdout",
     "output_type": "stream",
     "text": [
      "True\n"
     ]
    }
   ],
   "source": [
    "def maggiore_di(a, b):\n",
    "    return a > b\n",
    "print(maggiore_di(15, 10))"
   ]
  },
  {
   "cell_type": "code",
   "execution_count": 6,
   "id": "6070a8d7-3693-410d-bc7c-5ab3ce005810",
   "metadata": {},
   "outputs": [
    {
     "name": "stdout",
     "output_type": "stream",
     "text": [
      "False\n"
     ]
    }
   ],
   "source": [
    "maggiore_di_20 = partial(maggiore_di, b=20)\n",
    "print(maggiore_di_20(15))"
   ]
  },
  {
   "cell_type": "markdown",
   "id": "c414d5df-0f0e-4261-bff2-ad2716f10ca0",
   "metadata": {},
   "source": [
    "Partial rende costante uno o più argomenti della funzione, questo per poterla richiamare più volte in più modi ben leggibili. \n",
    "Da notare che <U>l'implementazione</U> della funzione però, <U>è sempre la stessa</U>.\n",
    "\n",
    "Se si vuole modificare l'implementazione a seconda del tipo di argomento inserito, usare [@singledispatch](#@singledispatch)\n",
    "\n",
    "Vi è anche la versione per i metodi nelle classi, sempre in functools, ed è [partialmethod](#partialmethod)\n",
    "\n",
    "Per maggiori dettagli la <a href=\"https://docs.python.org/3/library/functools.html\">documentazione ufficiale di functools</a>."
   ]
  },
  {
   "cell_type": "code",
   "execution_count": 7,
   "id": "e7466164-6a7f-4891-8eeb-90aa73656e71",
   "metadata": {},
   "outputs": [],
   "source": [
    "def decoratore(funzione):\n",
    "    def wrapper(*args, **kwargs):\n",
    "        \"\"\"Documentazione del wrapper - non ci interessa\"\"\"\n",
    "        print(args)\n",
    "        print(kwargs)\n",
    "        output = funzione(*args, **kwargs)\n",
    "        return output\n",
    "    return wrapper"
   ]
  },
  {
   "cell_type": "markdown",
   "id": "872af47f-0280-4f5b-8e44-d9e86a070f27",
   "metadata": {},
   "source": [
    "La documentazione che vediamo qui servirà per capire il prossimo capitolo, per adesso non ci interessa. Accenniamo il problema in fondo a questo paragrafo\n",
    "\n",
    "Applichiamo il decoratore ad una funzione dichiarata e implementata"
   ]
  },
  {
   "cell_type": "code",
   "execution_count": 8,
   "id": "6398fea1-5943-4d82-8d11-6379a991ecee",
   "metadata": {},
   "outputs": [],
   "source": [
    "@decoratore\n",
    "def cavia(a, b):\n",
    "    \"\"\"Documentazione di cavia - questa è quella che vogliamo\"\"\"\n",
    "    return a + b"
   ]
  },
  {
   "cell_type": "markdown",
   "id": "9ba84dfa-0a28-4951-a197-797f93bd2845",
   "metadata": {},
   "source": [
    "Richiamo la funzione, e ci metto apposta un argomento e una keyword, giusto per vedere l'intero output"
   ]
  },
  {
   "cell_type": "code",
   "execution_count": 9,
   "id": "7a3146d2-29bd-41ad-95d7-6c980df8ac30",
   "metadata": {},
   "outputs": [
    {
     "name": "stdout",
     "output_type": "stream",
     "text": [
      "(5,)\n",
      "{'b': 5}\n"
     ]
    },
    {
     "data": {
      "text/plain": [
       "10"
      ]
     },
     "execution_count": 9,
     "metadata": {},
     "output_type": "execute_result"
    }
   ],
   "source": [
    "cavia(5,b=5)"
   ]
  },
  {
   "cell_type": "markdown",
   "id": "1f69becc-f9bf-462b-8324-4dd1a1cd922c",
   "metadata": {},
   "source": [
    "Abbiamo un piccolo problema, la documentazione non funziona bene cosi:"
   ]
  },
  {
   "cell_type": "code",
   "execution_count": 10,
   "id": "6714531a-fc08-4346-b264-e3bb9c843db1",
   "metadata": {},
   "outputs": [
    {
     "name": "stdout",
     "output_type": "stream",
     "text": [
      "wrapper\n",
      "Documentazione del wrapper - non ci interessa\n"
     ]
    }
   ],
   "source": [
    "print(cavia.__name__)\n",
    "print(cavia.__doc__)"
   ]
  },
  {
   "cell_type": "markdown",
   "id": "1ff9edc8-0be8-4433-9fcc-caa1bb686a3b",
   "metadata": {},
   "source": [
    "Da come vediamo, abbiamo richiamato il nome della funzione e la sua documentazione, ma abbiamo ottenuto quelle del wrapper. Questo non è molto pythonico, specialmente per problemi di mantenibilità del codice. Vediamo come risolvere"
   ]
  },
  {
   "cell_type": "markdown",
   "id": "384bb4fa-6396-4c45-afcb-88b6b9005bbe",
   "metadata": {},
   "source": [
    "<a id='wraps'></a>\n",
    "### @wraps\n",
    "Aggiungendo il decoratore @wraps andiamo a risolvere il problema della documentazione, vediamo come.\n",
    "\n",
    "Per prima cosa da functools importiamo il modulo wraps"
   ]
  },
  {
   "cell_type": "code",
   "execution_count": 11,
   "id": "888b6afe-021d-43d4-b21c-b64c70bbc883",
   "metadata": {},
   "outputs": [],
   "source": [
    "from functools import wraps"
   ]
  },
  {
   "cell_type": "markdown",
   "id": "d5326178-4c03-4e68-93c3-3815f1c23cfc",
   "metadata": {},
   "source": [
    "Dopodichè possiamo aggiungere il decoratore wraps con funzione nel suo argomento"
   ]
  },
  {
   "cell_type": "code",
   "execution_count": 12,
   "id": "1b6f7c8a-2eb8-44ed-a98d-603408ec2feb",
   "metadata": {},
   "outputs": [],
   "source": [
    "def decoratore(funzione):\n",
    "    @wraps(funzione)\n",
    "    def wrapper(*args, **kwargs):\n",
    "        \"\"\"Documentazione del wrapper - non ci interessa\"\"\"\n",
    "        print(args)\n",
    "        print(kwargs)\n",
    "        output = funzione(*args, **kwargs)\n",
    "        return output\n",
    "    return wrapper\n",
    "\n",
    "@decoratore\n",
    "def cavia(a, b):\n",
    "    \"\"\"Documentazione di cavia - questa è quella che vogliamo\"\"\"\n",
    "    return a + b"
   ]
  },
  {
   "cell_type": "markdown",
   "id": "ab0bf9a2-9f43-45bb-978d-d26f5450c17c",
   "metadata": {},
   "source": [
    "A questo punto se andiamo a provare ottenziamo quello che vogliamo"
   ]
  },
  {
   "cell_type": "code",
   "execution_count": 13,
   "id": "5b37a2fd-6099-455c-8b7d-effe6758ee9f",
   "metadata": {},
   "outputs": [
    {
     "name": "stdout",
     "output_type": "stream",
     "text": [
      "cavia\n",
      "Documentazione di cavia - questa è quella che vogliamo\n"
     ]
    }
   ],
   "source": [
    "print(cavia.__name__)\n",
    "print(cavia.__doc__)"
   ]
  },
  {
   "cell_type": "markdown",
   "id": "47cd71c6-f976-40e4-a4d7-7a834af5f3cd",
   "metadata": {},
   "source": [
    "<a id='singledispatch'></a>\n",
    "### @singledispatch (Overloading funzioni)\n",
    "È un decoratore di funzioni built-in compreso in functools per l'Overloading\n",
    "\n",
    "Con questa funzione posso chiamare una funzione con diversi set di parametri, ovvero l'overloading, senza dover usare dei cicli if else per smistare i dati e fare diversi return nella funzione. Ma ATTENZIONE, <U>si chiama single dispatch proprio perchè quello che fa da dispatcher è il type del primo argomento che gli passiamo.</U> Inoltre funzionano solo sulle funzioni e non sui metodi nelle classi, per quello vedere [singledispatchmethod](#singledispatchmethod).\n",
    "\n",
    "Per prima cosa richiamiamo il modulo che ci interessa"
   ]
  },
  {
   "cell_type": "code",
   "execution_count": 14,
   "id": "0cc1f441-eeca-44ef-a4f6-438a38e1203d",
   "metadata": {},
   "outputs": [],
   "source": [
    "from functools import singledispatch"
   ]
  },
  {
   "cell_type": "markdown",
   "id": "10e256a1-cf7c-49d0-9a56-b1a8dd87f140",
   "metadata": {},
   "source": [
    "Poi creiamo la nostra funzione con il decoratore"
   ]
  },
  {
   "cell_type": "code",
   "execution_count": 15,
   "id": "2a15758f-2475-4ea2-8dfa-842bbc37e394",
   "metadata": {},
   "outputs": [],
   "source": [
    "@singledispatch\n",
    "def funzione(*args, **kwargs):\n",
    "    raise NotImplementedError(f\"Il tipo non è supportato\")"
   ]
  },
  {
   "cell_type": "markdown",
   "id": "63d6c36d-a86c-4b2b-a865-31d73d5f12e7",
   "metadata": {},
   "source": [
    "Questa prima definizione <U>viene eseguita solo se i successivi Overloading non combaciano con i dispatcher che abbiamo definito, ovvero funge da \"fallback\"</U>. Tuttavia è possibile scrivere codice qui dentro se serve. L'errore viene visualizzato se gli argomenti implementati (ancora non lo abbiamo fatto) non corrispondono con quelli chi implementeremo adesso\n",
    "\n",
    "Comunque, vediamo la versione implementata della prima parte di fallback, può servire in molti casi"
   ]
  },
  {
   "cell_type": "code",
   "execution_count": 16,
   "id": "f183cfcb-2a9d-4851-87d9-96caa53f601f",
   "metadata": {},
   "outputs": [],
   "source": [
    "@singledispatch\n",
    "def funzione(arg1, arg2):\n",
    "    try:\n",
    "        result = arg1 + arg2 # implementazione se va bene il try\n",
    "    except:\n",
    "        raise NotImplementedError(f\"Il tipo non è supportato\")\n",
    "    else:\n",
    "        return result"
   ]
  },
  {
   "cell_type": "markdown",
   "id": "5e33662e-02f2-42a2-bfe2-2ae21153ea1c",
   "metadata": {},
   "source": [
    "Se il try va bene è ok, sennò da l'errore. Tutto dipende dai tipi che mettiamo nelle istanze. ATTENZIONE in questo caso ho definito il numero degli argomenti, ovvero 2. Se questo non viene rispettato si avrà un errore esterno. Potevo tenere *args e **kwargs per poi sommare con for x in args: result+=x ad esempio. Ho fatto cosi perchè si può, a scopo illustrativo\n",
    "\n",
    "Adesso andiamo ad implementare la parte successiva, ovvero tutte le varianti della funzione con i diversi set di parametri che ci servono. RICORDA <U>solo il primo argomento fa da dispatcher.</U> Per prima cosa richiamo il decoratore @funzione.register. Poi definisco la funzione con gli argomenti che ci interessano. Da notare che il nome puo essere omesso per evitare ridondanza, ma è meno leggibile. Basta dargli un nome qualsiasi, deve avere senso per la leggibilità. È il decoratore @funzione.register che fa fede alla funzione originale"
   ]
  },
  {
   "cell_type": "code",
   "execution_count": 17,
   "id": "4bcca192-d290-4f86-93de-dd97f0438908",
   "metadata": {},
   "outputs": [],
   "source": [
    "@funzione.register\n",
    "def _(arg1: int, arg2):\n",
    "    # qui possiamo metterci quello che vogliamo\n",
    "    print(\"funzione con primo argomento un intero\")"
   ]
  },
  {
   "cell_type": "markdown",
   "id": "bcce0be4-3b6a-4885-9575-ec6d5a56c4d5",
   "metadata": {},
   "source": [
    "Ovviamente possiamo implementare la funzione come vogliamo. Ora possiamo ad esempio definire gli argomenti con due stringe"
   ]
  },
  {
   "cell_type": "code",
   "execution_count": 18,
   "id": "0eee2a61-7eb8-4442-86e3-cd04ebad32c0",
   "metadata": {},
   "outputs": [],
   "source": [
    "@funzione.register\n",
    "def funzione_str(arg1: str, arg2):\n",
    "    # qui possiamo metterci quello che vogliamo\n",
    "    print(\"funzione con primo argomento una stringa\")"
   ]
  },
  {
   "cell_type": "markdown",
   "id": "858d7522-dad5-4e5c-8d53-15588ff83443",
   "metadata": {},
   "source": [
    "Qui l'abbiamo chiamata funzione_str solo per la leggibilità, poteva chiamarsi sempre _.\n",
    "Adesso andiamo a richiamare le funzioni"
   ]
  },
  {
   "cell_type": "code",
   "execution_count": 19,
   "id": "a15dee12-9c2e-4ec4-baa9-62531e98a0ec",
   "metadata": {},
   "outputs": [
    {
     "name": "stdout",
     "output_type": "stream",
     "text": [
      "funzione con primo argomento un intero\n",
      "funzione con primo argomento un intero\n",
      "   ~~~~~~~~~~~~~~~~~~~~~~~~~~~~~~~~\n",
      "funzione con primo argomento una stringa\n",
      "funzione con primo argomento una stringa\n"
     ]
    }
   ],
   "source": [
    "funzione(2, 2)\n",
    "funzione(2, \"banana\")\n",
    "print(\"   ~~~~~~~~~~~~~~~~~~~~~~~~~~~~~~~~\")\n",
    "funzione(\"5\", (x for x in range(10)))\n",
    "funzione(\"uno\", \"due\")"
   ]
  },
  {
   "cell_type": "markdown",
   "id": "c50a5cde-795a-4e77-b2c1-4580d9facdf9",
   "metadata": {},
   "source": [
    "Se richiamo una funzione che non abbiamo implementato con altri argomenti, si passa al fallback. Se l'implementazione col try funziona allota ritorna col return, altrimenti ho l'errore che ho scritto nel raise"
   ]
  },
  {
   "cell_type": "code",
   "execution_count": 20,
   "id": "2ecc8f8f-a593-4ca7-800c-19831a8b0365",
   "metadata": {},
   "outputs": [
    {
     "data": {
      "text/plain": [
       "[1, 1, 2, 2]"
      ]
     },
     "execution_count": 20,
     "metadata": {},
     "output_type": "execute_result"
    }
   ],
   "source": [
    "funzione([1, 1],[2,2])"
   ]
  },
  {
   "cell_type": "markdown",
   "id": "7510c4f4-16eb-4b86-87ae-fa053a2656f5",
   "metadata": {},
   "source": [
    "Questo funziona, sono due liste, percio se le sommo si concatenano"
   ]
  },
  {
   "cell_type": "code",
   "execution_count": 21,
   "id": "25121d55-8ac5-4ef9-a557-ea12c240af6b",
   "metadata": {},
   "outputs": [
    {
     "name": "stdout",
     "output_type": "stream",
     "text": [
      "An exception occurred: NotImplementedError : Il tipo non è supportato\n"
     ]
    }
   ],
   "source": [
    "try:\n",
    "    funzione(None, 1)\n",
    "except Exception as error:\n",
    "    print(\"An exception occurred:\", type(error).__name__, \":\", error)"
   ]
  },
  {
   "cell_type": "markdown",
   "id": "103c07e3-b0e2-4e24-9df8-5705b273ac2f",
   "metadata": {},
   "source": [
    "In questo caso ci dice che non è implementata quella funzione con l'argomento None, perchè sommare un None con qualsiasi tipo da errore al try. Infatti appare il messaggio che volevamo\n",
    "\n",
    "Se interessati esiste una libreria che non è builtin che permette il dispatch con più argomenti. Si chiama <strong>multipledispatch</strong>. Consultare <a href=\"https://martinheinz.dev/blog/50\"> questa pagina</a> per saperne di più\n",
    "\n",
    "In certi casi è meglio usare la funzione di functools [partial](#partial)\n",
    "\n",
    "Per maggiori dettagli la <a href=\"https://docs.python.org/3/library/functools.html\">documentazione ufficiale di functools</a>."
   ]
  },
  {
   "cell_type": "markdown",
   "id": "81ef9894-793a-4c4a-aab3-4267e9b99343",
   "metadata": {},
   "source": [
    "# Classi\n"
   ]
  },
  {
   "cell_type": "markdown",
   "id": "52c68d23-e45b-4619-9a59-335f616db94b",
   "metadata": {},
   "source": [
    "## Metodi Built-in"
   ]
  },
  {
   "cell_type": "markdown",
   "id": "a04c76e3-4fa6-4cbd-af2c-97b8f18b6f51",
   "metadata": {},
   "source": [
    "<a id='partialmethod'></a>\n",
    "### partialmethod\n",
    "Come in [partial](#partial) ma all'interno delle classi. Vediamo un esempio meno generico rispetto a quello visto in partial"
   ]
  },
  {
   "cell_type": "code",
   "execution_count": 22,
   "id": "95ee0b6f-ddbd-4b15-aa74-a5c9dcb2a365",
   "metadata": {},
   "outputs": [],
   "source": [
    "from functools import partialmethod"
   ]
  },
  {
   "cell_type": "code",
   "execution_count": 23,
   "id": "c9116094-f13b-45c8-a65a-e6310b2253e2",
   "metadata": {},
   "outputs": [],
   "source": [
    "class Stato:\n",
    "    def __init__(self):\n",
    "        self._stato = False\n",
    "        \n",
    "    @property\n",
    "    def stato(self): #getter\n",
    "        return self._stato\n",
    "    def set_stato(self, nuovo): #setter\n",
    "        self._stato = bool(nuovo)\n",
    "        \n",
    "    set_online = partialmethod(set_stato, True) #setter parzializzati\n",
    "    set_offline = partialmethod(set_stato, False)    "
   ]
  },
  {
   "cell_type": "markdown",
   "id": "976e6029-93b0-48a0-b9a1-c713e290dc32",
   "metadata": {},
   "source": [
    "In questo caso sfruttiamo partial per creare una funzione setter diversa per l'online e l'offline"
   ]
  },
  {
   "cell_type": "code",
   "execution_count": 24,
   "id": "5a22eb3d-82c9-4626-b1b4-04839143a74d",
   "metadata": {},
   "outputs": [
    {
     "name": "stdout",
     "output_type": "stream",
     "text": [
      "False\n",
      "True\n",
      "False\n"
     ]
    }
   ],
   "source": [
    "s = Stato()\n",
    "print(s.stato) # getter\n",
    "\n",
    "s.set_online() # setter parzializzato 1\n",
    "print(s.stato)\n",
    "\n",
    "s.set_offline() # setter parzializzato 2\n",
    "print(s.stato)"
   ]
  },
  {
   "cell_type": "markdown",
   "id": "3a329cb1-c757-485f-b453-11dbb031ac7c",
   "metadata": {},
   "source": [
    "In questo esempio abbiamo visto come parzializzanado una funzione anche con un solo argomento, possiamo rendere il codice più leggibile.\n",
    "\n",
    "Se invece dobbiamo cambiare l'implementazione del metodo in funzione degli argomenti che gli diamo, allora usare [@singledispatchmethod](#singledispatchmethod)\n",
    "\n",
    "Per maggiori dettagli la <a href=\"https://docs.python.org/3/library/functools.html\">documentazione ufficiale di functools</a>."
   ]
  },
  {
   "cell_type": "markdown",
   "id": "65ec0ac4-a23a-4920-b995-2b669b6b6871",
   "metadata": {},
   "source": [
    "## Decoratori di metodi\n",
    "### Creazione di un decoratore di metodi\n",
    "Come visto nei decoratori di funzioni, possiamo creare anche i decoratori per i metodi. Il processo è sempre lo stesso, usando [@wraps](#wraps) della libreria functools"
   ]
  },
  {
   "cell_type": "code",
   "execution_count": 25,
   "id": "a58d96f6-fd73-496a-8f1e-4e6dcadac4d0",
   "metadata": {},
   "outputs": [],
   "source": [
    "from functools import wraps\n",
    "\n",
    "class Prova:\n",
    "    @staticmethod\n",
    "    def decoratore(metodo):\n",
    "        @wraps(metodo)\n",
    "        def wrap(self, *args, **kwargs):\n",
    "            self.pippo = (1, 3, 4, 6, 8, 9, 11)\n",
    "            self.numero = 0\n",
    "            return metodo(self, *args, **kwargs)\n",
    "        return wrap"
   ]
  },
  {
   "cell_type": "markdown",
   "id": "759eb79c-82a3-4c6c-a24f-da08455ad025",
   "metadata": {},
   "source": [
    "<a id='staticmethod'></a>\n",
    "### @staticmethod"
   ]
  },
  {
   "cell_type": "markdown",
   "id": "c185787b-5570-4dde-82b0-eb6c430dd0a9",
   "metadata": {},
   "source": [
    "<a id='property'></a>\n",
    "### @property"
   ]
  },
  {
   "cell_type": "markdown",
   "id": "db186c9c-68e3-4f2d-913c-56839fc67471",
   "metadata": {},
   "source": [
    "È un decoratore per rendere pythoniche le funzioni getter setter e deleter\n",
    "\n",
    "Nelle classi si possono creare attributi privati, che servono solo per uso interno diciamo,\n",
    "a volte però è necessario settarli dall'esterno, perciò servono delle funzioni nella classe per,\n",
    "settarle, ottenerne il valore, oppure cancellarle, ovvero funzioni dette getter, setter e deleter.\n",
    "Il decoratore property lo fa in modo piu pythonico quindi piu leggibile e mantenibile."
   ]
  },
  {
   "cell_type": "code",
   "execution_count": 26,
   "id": "6b128a82-6d0b-494e-8b6e-d4fdae26410f",
   "metadata": {},
   "outputs": [],
   "source": [
    "class Teleconduttore:\n",
    "    def __init__(self, p):\n",
    "        self._pippo = p         # quando un attributo inizia con _, allora è privato\n",
    "\n",
    "    @property                   # questo è il getter, ovvero una funzione che restituisce il valore\n",
    "    def baudo(self):\n",
    "        return self._pippo  \n",
    "\n",
    "    @baudo.setter               # questo è il setter\n",
    "    def baudo(self, val):\n",
    "        self._pippo = val\n",
    "\n",
    "    @baudo.deleter              # questo è il deleter\n",
    "    def baudo(self):\n",
    "        del self._pippo"
   ]
  },
  {
   "cell_type": "markdown",
   "id": "d55ff40e-0710-4667-acdc-f1f4173c43c4",
   "metadata": {},
   "source": [
    "Adesso lo andiamo a provare"
   ]
  },
  {
   "cell_type": "code",
   "execution_count": 27,
   "id": "2ddceeba-4e26-4ef4-8f2b-8a133eef8e8b",
   "metadata": {},
   "outputs": [
    {
     "name": "stdout",
     "output_type": "stream",
     "text": [
      "10\n",
      "5\n"
     ]
    }
   ],
   "source": [
    "sanremo = Teleconduttore(10)\n",
    "\n",
    "print(sanremo.baudo)  # qui eseguo il getter per printarlo\n",
    "\n",
    "sanremo.baudo = 5     # qui eseguo il setter e printo con il getter\n",
    "print(sanremo.baudo)\n",
    "\n",
    "del sanremo.baudo     # questo è il deleter che fa sparire _pippo dalla faccia della terra"
   ]
  },
  {
   "cell_type": "markdown",
   "id": "e90ed24d-8c09-44a4-b7b3-9153e2e9f201",
   "metadata": {},
   "source": [
    "Se adesso andiamo a printare baudo ci da errore"
   ]
  },
  {
   "cell_type": "code",
   "execution_count": 28,
   "id": "6e246e36-7d07-41b4-9617-f288ca46dfa0",
   "metadata": {},
   "outputs": [
    {
     "name": "stdout",
     "output_type": "stream",
     "text": [
      "An exception occurred: AttributeError : 'Teleconduttore' object has no attribute '_pippo'\n"
     ]
    }
   ],
   "source": [
    "try:\n",
    "    print(sanremo.baudo)\n",
    "except Exception as error:\n",
    "    print(\"An exception occurred:\", type(error).__name__, \":\", error)"
   ]
  },
  {
   "cell_type": "markdown",
   "id": "df1e8469-97f1-44a7-9de7-4afd4ba7d48c",
   "metadata": {},
   "source": [
    "Per maggiori dettagli la <a href=\"https://docs.python.org/3/library/functions.html\">documentazione ufficiale delle built-in</a> di python."
   ]
  },
  {
   "cell_type": "markdown",
   "id": "a169a7d8-edbb-4247-9118-3ae86625231e",
   "metadata": {},
   "source": [
    "<a id='singledispatchmethod'></a>\n",
    "### @singledispatchmethod\n",
    "#### Overloading di metodi\n",
    "Come in [@singledispatch](#singledispatch) il dispatcher <U>è il type del primo argomento</U>, in questo caso pero <U>dopo il self o il cls</U> (si perchè puo essere usato anche in un <code class=\"inline\"><em>@classmethod</em></code>).\n",
    "\n",
    "Andiamo a richiamare la libreria, creiamo una classe e il metodo da decorare che funge da fallback, con i suoi dispatch"
   ]
  },
  {
   "cell_type": "code",
   "execution_count": 29,
   "id": "f28c4efd-8228-4487-92c6-21cf320b6bb9",
   "metadata": {},
   "outputs": [],
   "source": [
    "from functools import singledispatchmethod"
   ]
  },
  {
   "cell_type": "code",
   "execution_count": 30,
   "id": "b7188626-a345-4742-9f49-a6fe618420f2",
   "metadata": {},
   "outputs": [],
   "source": [
    "class Negatore:\n",
    "    @singledispatchmethod\n",
    "    def neg(self, arg):\n",
    "        raise NotImplementedError(\"Impossibile da negare\")\n",
    "\n",
    "    @neg.register\n",
    "    def _(self, arg: int):\n",
    "        return -arg\n",
    "\n",
    "    @neg.register\n",
    "    def _(self, arg: bool):\n",
    "        return not arg"
   ]
  },
  {
   "cell_type": "code",
   "execution_count": 31,
   "id": "4204da9b-bd19-4488-8ba4-90c2f42319f4",
   "metadata": {},
   "outputs": [
    {
     "name": "stdout",
     "output_type": "stream",
     "text": [
      "-5\n"
     ]
    }
   ],
   "source": [
    "pippo = Negatore()\n",
    "print(pippo.neg(5))"
   ]
  },
  {
   "cell_type": "markdown",
   "id": "e0340eb2-c4d3-4ef2-b383-e73ca24f60d8",
   "metadata": {},
   "source": [
    "Notare che il primo argomento deve essere sempre il self. Possiamo però usarla anche con le <code class=\"inline\"><em>@classmethod</em></code>, ma anche le <code class=\"inline\"><em>@staticmethod</em></code> e le <code class=\"inline\"><em>@abstractmethod</em></code>. Per fare ciò dobbiamo annidare (nesting) i due decoratori, facendo attenzione all'ordine in cui lo facciamo:"
   ]
  },
  {
   "cell_type": "code",
   "execution_count": 32,
   "id": "118dca54-8cf9-4596-baf3-0b5b3f9e53d1",
   "metadata": {},
   "outputs": [],
   "source": [
    "class Negatore:\n",
    "    @singledispatchmethod\n",
    "    @classmethod\n",
    "    def neg(cls, arg):\n",
    "        raise NotImplementedError(\"Cannot negate a\")\n",
    "\n",
    "    @neg.register\n",
    "    @classmethod\n",
    "    def _(cls, arg: int):\n",
    "        return -arg\n",
    "\n",
    "    @neg.register\n",
    "    @classmethod\n",
    "    def _(cls, arg: bool):\n",
    "        return not arg"
   ]
  },
  {
   "cell_type": "code",
   "execution_count": 33,
   "id": "79a8298f-d612-4816-a139-293d147a7521",
   "metadata": {},
   "outputs": [
    {
     "name": "stdout",
     "output_type": "stream",
     "text": [
      "-5\n"
     ]
    }
   ],
   "source": [
    "print(Negatore.neg(5))"
   ]
  },
  {
   "cell_type": "markdown",
   "id": "4a8ec7b8-31d1-47a3-8cd8-d44ce963499f",
   "metadata": {},
   "source": [
    "Quindi prima il decoratore del singledispatch, poi quello del metodo, come il classmethod in questo caso. Ovviamente adesso invece del self dobbiamo mettere cls."
   ]
  },
  {
   "cell_type": "markdown",
   "id": "0cd31950-8bb9-4ede-bc65-258d0a59481a",
   "metadata": {},
   "source": [
    "#### Caso particolare: Overloading nell' Overriding dei dunder methods"
   ]
  },
  {
   "cell_type": "markdown",
   "id": "ccd7552a-079d-4bfd-b596-755c7305800e",
   "metadata": {},
   "source": [
    "<p>In questo caso andiamo a lavorare sul dunder <code class=\"inline\">__add__</code> in una classe</p>"
   ]
  },
  {
   "cell_type": "code",
   "execution_count": 34,
   "id": "f9097bb6-9db1-4719-aab0-4ff149dd8086",
   "metadata": {},
   "outputs": [],
   "source": [
    "from dataclasses import dataclass\n",
    "from functools import singledispatchmethod"
   ]
  },
  {
   "cell_type": "markdown",
   "id": "659dec8f-a0f8-4518-ad44-bf7a03ff9a26",
   "metadata": {},
   "source": [
    "Una classe di tipo data che prende una nota in forma di stringa, inoltre ne ottiene il suo corrispettivo valore valore numerico (da noi scelto) enumerando una tupla a partire da 1\n",
    "\n",
    "Quello che si vuole ottenere è che quando andiamo a sommare due oggetti della stessa classe, oppure un oggetto della classe con un intero, dia il valore numerico sommato. Se è maggiore di 12 si ritorna da capo a 1"
   ]
  },
  {
   "cell_type": "code",
   "execution_count": 35,
   "id": "75ddb935-b54e-4379-ac15-d22d288fab4e",
   "metadata": {},
   "outputs": [],
   "source": [
    "@dataclass\n",
    "class Nota:\n",
    "    let: str\n",
    "\n",
    "    def __post_init__(self):\n",
    "        diesis = ('A', 'A#', 'B', 'C', 'C#', 'D', 'D#', 'E', 'F', 'F#', 'G', 'G#')\n",
    "        bemolle = ('A', 'Bb', 'B', 'C', 'Db', 'D', 'Eb', 'E', 'F', 'Gb', 'G', 'Ab')\n",
    "        pippo = diesis if self.let in diesis else bemolle\n",
    "        for n, l in enumerate(pippo, 1):\n",
    "            if l == self.let:\n",
    "                self.num = n\n",
    "    \n",
    "    @singledispatchmethod\n",
    "    def __add__(self, other):\n",
    "        try:\n",
    "            sum = self.num + other.num\n",
    "        except:\n",
    "            raise NotImplementedError(f\"Il tipo non è supportato\")\n",
    "        else:\n",
    "            sum = result - 12 if sum > 12 else sum\n",
    "            return sum\n",
    "\n",
    "    @__add__.register\n",
    "    def _(self, n: int):\n",
    "        sum = self.num + n\n",
    "        sum = sum - 12 if sum > 12 else sum\n",
    "        return sum"
   ]
  },
  {
   "cell_type": "markdown",
   "id": "82d197f2-397b-41d2-b3d6-db8b13510030",
   "metadata": {},
   "source": [
    "<p>Da notare che nella funzione base (quella di fallback) come argomenti abbiamo messo quelle di default del dunder <code class=\"inline\">__add__</code>, ovvero self e other. Nel dispatcher abbiamo messo il self e poi l'argomento che dispatcha.</p>\n",
    "\n",
    "Per maggiori dettagli <a href=\"https://docs.python.org/3/library/functools.html\">la documentazione ufficiale di functools</a>."
   ]
  },
  {
   "cell_type": "markdown",
   "id": "2131b857-12c3-460e-8e87-06422dd1a184",
   "metadata": {},
   "source": [
    "<a id='dataclass'></a>\n",
    "### @dataclass"
   ]
  },
  {
   "cell_type": "markdown",
   "id": "fc039b40-3ab1-4873-a3cf-e907387acd3e",
   "metadata": {},
   "source": [
    "Un decoratore studiato per impostare rapidamente una classe dedita ad ospitare dati\n",
    "\n",
    "Questo decoratore permette di generare una classe con i dunder methods __init__, __repr__ e __eq__ gia preimpostati. L'__init__ infatti è completamente omesso, per questioni di leggibilità, ma gli attributi definiti nella classe sono li. Intanto importiamo dataclass da dataclasses"
   ]
  },
  {
   "cell_type": "code",
   "execution_count": 36,
   "id": "a9ed00ad-fbf9-4598-b197-45ba2cecc07d",
   "metadata": {},
   "outputs": [],
   "source": [
    "from dataclasses import dataclass"
   ]
  },
  {
   "cell_type": "markdown",
   "id": "8717b6e7-01ce-4ff2-9cd0-4f39ab7eeaa5",
   "metadata": {},
   "source": [
    "Ecco gli attributi che in realtà sono implemetati automaticamente nell'__init__. Attenzione, da notare che questi attributi, non possono essere definiti internamente alla classe. Non è nemmeno necessario esplicitare gli argomenti della clcasse"
   ]
  },
  {
   "cell_type": "code",
   "execution_count": 37,
   "id": "2b65503c-f8e5-494c-81aa-aa79d5d640eb",
   "metadata": {},
   "outputs": [],
   "source": [
    "@dataclass\n",
    "class Scala:\n",
    "    tonica: int\n",
    "    modo: int\n",
    "    alterazione: str = \"#\"\n",
    "    tipo: str = \"Diatonica\""
   ]
  },
  {
   "cell_type": "markdown",
   "id": "1a920b8f-0504-4374-99aa-cdfa3e365e87",
   "metadata": {},
   "source": [
    "Tuttavia se è necessario definire alcuni attributi nella classe possiamo usare il dunder __post_init__, come se fosse l'__init__ classico delle classi, perdendo la bella leggibilità di prima purtroppo, con tutti i self"
   ]
  },
  {
   "cell_type": "code",
   "execution_count": 38,
   "id": "7306c80c-2cbd-4e2a-b860-f0d9fd0d2d78",
   "metadata": {},
   "outputs": [],
   "source": [
    "@dataclass\n",
    "class Scala:\n",
    "    tonica: int\n",
    "    modo: int\n",
    "    alterazione: str = \"#\"\n",
    "    tipo: str = \"Diatonica\"\n",
    "    \n",
    "    def __post_init__(self):\n",
    "        if self.tipo == \"Diatonica\" and self.modo == 1:\n",
    "            self.intervalli = (2, 2, 1, 2, 2, 2, 1)"
   ]
  },
  {
   "cell_type": "markdown",
   "id": "14f294d7-fb38-4461-8ca8-582becf02381",
   "metadata": {},
   "source": [
    "Adesso usciamo dalla classe e andiamo a creare gli oggetti per vedere altre specialità"
   ]
  },
  {
   "cell_type": "code",
   "execution_count": 39,
   "id": "76366df4-9fab-4c7c-949f-8c72f8962e21",
   "metadata": {},
   "outputs": [
    {
     "name": "stdout",
     "output_type": "stream",
     "text": [
      "Scala(tonica=4, modo=3, alterazione='b', tipo='Diatonica')\n"
     ]
    }
   ],
   "source": [
    "scala1 = Scala(4, 3, \"b\")\n",
    "print(scala1)"
   ]
  },
  {
   "cell_type": "markdown",
   "id": "cdabfa20-bdb4-4ad8-a498-2449fa72bce1",
   "metadata": {},
   "source": [
    "La scala è stata creata ed è anche possibile printarla senza dichiarare l'istanza. Questo è possibile grazie al dunder __repr__ che viene creato automaticamente dal decoratore, in forma standard. Ora andiamo a provare il dunder __eq__\n",
    "\n",
    "Creo un'altra scala e provo a valutare se è uguale a quella di prima"
   ]
  },
  {
   "cell_type": "code",
   "execution_count": 40,
   "id": "698af54d-301e-4613-bcd0-33e3bdff9714",
   "metadata": {},
   "outputs": [
    {
     "name": "stdout",
     "output_type": "stream",
     "text": [
      "False\n"
     ]
    }
   ],
   "source": [
    "scala2 = Scala(4, 3, \"#\")\n",
    "print(scala1 == scala2)"
   ]
  },
  {
   "cell_type": "markdown",
   "id": "72d57a2c-5279-4b2d-a619-7bce32d311a3",
   "metadata": {},
   "source": [
    "Ci dice ovviamente che è falso. Questo è possibile solo grazie al dunder __eq__\n",
    "\n",
    "Se non ci piaciono come sono preimpostati i dunder, possiamo fare l'overriding\n",
    "\n",
    "Andiamo a modificare il modo di rappresentazione. Basta ridefinire il dunder __repr__"
   ]
  },
  {
   "cell_type": "code",
   "execution_count": 41,
   "id": "13105997-3f43-448f-93d3-0beed35f8f87",
   "metadata": {},
   "outputs": [],
   "source": [
    "@dataclass\n",
    "class Scala:\n",
    "    tonica: int\n",
    "    modo: int\n",
    "    alterazione: str = \"#\"\n",
    "    tipo: str = \"Diatonica\"\n",
    "\n",
    "    def __repr__(self):                                 \n",
    "        return f\"{self.tonica} - {self.modo} - {self.tipo}\""
   ]
  },
  {
   "cell_type": "code",
   "execution_count": 42,
   "id": "dd1c922d-2917-4bff-abb9-7e2bf7915d23",
   "metadata": {},
   "outputs": [
    {
     "name": "stdout",
     "output_type": "stream",
     "text": [
      "1 - 1 - Diatonica\n"
     ]
    }
   ],
   "source": [
    "print(Scala(1,1))"
   ]
  },
  {
   "cell_type": "markdown",
   "id": "fcea82ff-2843-42dd-8f87-6ca5a28e3eb9",
   "metadata": {},
   "source": [
    "Abbiamo modificato il metodo di rappresentazione dell'oggetto. Possiamo modificare anche gli altri, ovvero __eq__, quindi come va a confrontare le classi, con quali attributi e in che modo, oppure volendo anche l'__init__, ma a quel punto non avrebbe proprio senso... Piuttosto usare il __post_init__ se necessario.\n",
    "\n",
    "Se andiamo a rendere vero il flag order negli argomenti della classe, possiamo usare gli altri dunder di contronto __lt__, __le__, __gt__, __ge__, ovvero rispettivamente <, <=, > e >=.\n",
    "\n",
    "ATTENZIONE</strong> questi dunder non possono essere overridati una volta attivato il Flag order. Se li devi modificare allora li devi esplicitare e tenere il flag false"
   ]
  },
  {
   "cell_type": "code",
   "execution_count": 43,
   "id": "c73a2039-8114-4546-9153-ce5927a181b5",
   "metadata": {},
   "outputs": [
    {
     "name": "stdout",
     "output_type": "stream",
     "text": [
      "True\n",
      "False\n"
     ]
    }
   ],
   "source": [
    "@dataclass(order=True)\n",
    "class Scala:\n",
    "    tonica: int\n",
    "    modo: int\n",
    "    alterazione: str = \"#\"\n",
    "    tipo: str = \"Diatonica\"\n",
    "\n",
    "print(Scala(1, 1) < Scala(1, 2))\n",
    "print(Scala(1, 1) >= Scala(1, 2))"
   ]
  },
  {
   "cell_type": "markdown",
   "id": "aebcaf75-553a-4d3b-998d-206b346f7db9",
   "metadata": {},
   "source": [
    "Con il flag frozen=True non possiamo andare a ridefinire gli attributi nelle istanze"
   ]
  },
  {
   "cell_type": "code",
   "execution_count": 44,
   "id": "dd316b62-3aeb-48c0-abec-66eacf5efafd",
   "metadata": {},
   "outputs": [
    {
     "name": "stdout",
     "output_type": "stream",
     "text": [
      "An exception occurred: FrozenInstanceError – cannot assign to field 'alterazione'\n"
     ]
    }
   ],
   "source": [
    "@dataclass(frozen=True)\n",
    "class Scala:\n",
    "    tonica: int\n",
    "    modo: int\n",
    "    alterazione: str = \"#\"\n",
    "    tipo: str = \"Diatonica\"\n",
    "\n",
    "scala = Scala(5, 5, \"#\")\n",
    "try:\n",
    "    scala.alterazione = \"b\"\n",
    "except Exception as error:\n",
    "    print(\"An exception occurred:\", type(error).__name__, \"–\", error)"
   ]
  },
  {
   "cell_type": "markdown",
   "id": "cbb66339-82a1-4403-b08e-4ef3aa41a41e",
   "metadata": {},
   "source": [
    "#### astuple, asdict"
   ]
  },
  {
   "cell_type": "markdown",
   "id": "ccb21902-380f-4b18-a3b0-d56bf2f3b171",
   "metadata": {},
   "source": [
    "Oltre a dataclass, possiamo aggiungere altre cose carine"
   ]
  },
  {
   "cell_type": "code",
   "execution_count": 45,
   "id": "29738b80-7bc1-42fb-a16c-c933ab4e3018",
   "metadata": {},
   "outputs": [],
   "source": [
    "from dataclasses import dataclass, astuple, asdict"
   ]
  },
  {
   "cell_type": "code",
   "execution_count": 46,
   "id": "a2f71200-b74e-4805-bb38-74cad48e1129",
   "metadata": {},
   "outputs": [
    {
     "name": "stdout",
     "output_type": "stream",
     "text": [
      "Scala(tonica=1, modo=1, alterazione='#', tipo='Diatonica')\n",
      "(1, 1, '#', 'Diatonica')\n",
      "{'tonica': 1, 'modo': 1, 'alterazione': '#', 'tipo': 'Diatonica'}\n"
     ]
    }
   ],
   "source": [
    "@dataclass\n",
    "class Scala:\n",
    "    tonica: int\n",
    "    modo: int\n",
    "    alterazione: str = \"#\"\n",
    "    tipo: str = \"Diatonica\"\n",
    "\n",
    "print((Scala(1, 1)))\n",
    "print(astuple(Scala(1, 1)))         # prova, è meraviglioso\n",
    "print(asdict(Scala(1, 1)))"
   ]
  },
  {
   "cell_type": "markdown",
   "id": "f38de1ae-a5de-4827-991e-6ed43d96dbab",
   "metadata": {},
   "source": [
    "Questo è ottimo per usare i dati al volo in forma di tupla o dizionario\n",
    "\n",
    "Per ulteriori informazioni consultare la <a href=\"https://docs.python.org/3/library/dataclasses.html\">documentazione ufficiale di dataclasses</a> di python"
   ]
  },
  {
   "cell_type": "markdown",
   "id": "892838d4-2bfb-4540-99ee-092c43ec4ff2",
   "metadata": {},
   "source": [
    "## Composizione (has-a)\n",
    "### Un oggetto di una classe ha dentro l'oggetto di un'altra classe\n",
    "Creo una classe per definire un punto, con al suo interno un metodo per definirne la distanza dal centro (0,0)"
   ]
  },
  {
   "cell_type": "code",
   "execution_count": 47,
   "id": "30b0fc82-dc7e-40d5-a542-f6abfeefe1dd",
   "metadata": {},
   "outputs": [],
   "source": [
    "import math\n",
    "\n",
    "class Punto:\n",
    "    def __init__(self, x=0, y=0):\n",
    "        self.x = x\n",
    "        self.y = y\n",
    "\n",
    "    def distanza(self):\n",
    "        \"\"\"Restituisce la distanza dall'origine\"\"\"\n",
    "        return math.sqrt(self.x**2 + self.y**2)\n",
    "\n",
    "    def __str__(self):\n",
    "        return str((self.x, self.y))"
   ]
  },
  {
   "cell_type": "code",
   "execution_count": 48,
   "id": "3543daad-fcb0-4e03-bad9-5a6bc32b0917",
   "metadata": {},
   "outputs": [
    {
     "name": "stdout",
     "output_type": "stream",
     "text": [
      "(0, 0)\n",
      "0.0\n"
     ]
    }
   ],
   "source": [
    "p = Punto()\n",
    "print(p)\n",
    "print(p.distanza())"
   ]
  },
  {
   "cell_type": "code",
   "execution_count": 49,
   "id": "78382e99-dd95-43c0-bc14-1c4bf356fb71",
   "metadata": {},
   "outputs": [
    {
     "name": "stdout",
     "output_type": "stream",
     "text": [
      "(3, 4)\n",
      "5.0\n"
     ]
    }
   ],
   "source": [
    "p = Punto(3,4)\n",
    "print(p)\n",
    "print(p.distanza())"
   ]
  },
  {
   "cell_type": "markdown",
   "id": "193b2f2d-44e4-4cc7-ba61-7ec08d2c3575",
   "metadata": {},
   "source": [
    "Adesso creo un'atra classe che definisce il cerchio, usando l'oggetto della classe punto come suo centro sul piano cartesiano. Anche qui creo un metodo che fornisce la distanza dal centro del piano (0,0)."
   ]
  },
  {
   "cell_type": "code",
   "execution_count": 50,
   "id": "6190b204-90e5-4d62-b4f6-39f9e5d45e88",
   "metadata": {},
   "outputs": [],
   "source": [
    "class Cerchio:\n",
    "    def __init__(self, raggio=1, centro=Punto()):\n",
    "        self.raggio = raggio\n",
    "        self.centro = centro\n",
    "\n",
    "    def area(self):\n",
    "        return math.pi * self.raggio**2\n",
    "\n",
    "    def distanza(self):\n",
    "        \"\"\"Di nuovo, restituisce la distanza dall'origine, chiamando il metodo di Punto\"\"\"\n",
    "        return self.centro.distanza()\n",
    "\n",
    "    def __str__(self):\n",
    "        return \"raggio: %f, centro: %s\" %(self.raggio, self.centro)"
   ]
  },
  {
   "cell_type": "code",
   "execution_count": 51,
   "id": "fe2df83f-83c9-4d06-806c-ffd9ecbcb8d9",
   "metadata": {},
   "outputs": [
    {
     "name": "stdout",
     "output_type": "stream",
     "text": [
      "raggio: 1.000000, centro: (0, 0)\n"
     ]
    }
   ],
   "source": [
    "c = Cerchio()\n",
    "print(c)"
   ]
  },
  {
   "cell_type": "code",
   "execution_count": 52,
   "id": "f26c834b-b9cf-497c-b668-e5b1befa24bc",
   "metadata": {},
   "outputs": [
    {
     "name": "stdout",
     "output_type": "stream",
     "text": [
      "raggio: 10.000000, centro: (3, 4)\n",
      "5.0\n",
      "314.1592653589793\n"
     ]
    }
   ],
   "source": [
    "c = Cerchio(10, Punto(3,4))\n",
    "print(c)\n",
    "print(c.distanza())\n",
    "print(c.area())"
   ]
  },
  {
   "cell_type": "markdown",
   "id": "389a9814-3b64-4539-9e98-55040516f510",
   "metadata": {},
   "source": [
    "## Ereditarietà (is-a)\n",
    "### Quando un oggetto di una classe è un oggetto di un'altra classe\n",
    "Può capitare in programmazione ad oggetti che dobbiamo descrivere oggetti diversi, ma molto simili fra loro da un punto di vista proprio di attributi e metodi. Il classico esempio è gli oggetti persona e impiegato. Infatti, l'impiegato È A TUTTI GLI EFFETTI una persona, perciò ne condivide le caratteristiche, più altre caratteristiche in piu che lo distingue dalla semplice persona, o da un dirigente ad esempio. Siccome l'esempio persona con nome, cognome, email e codice fiscale mi sta sul cazzo, faccio un esempio con gli animali.\n",
    "\n",
    "Andro a creare tre classi concatenate, ovvero un canide che è un mammifero che è un animale. Ciascun metodo relativo alla classificazione lo nomino in modo diverso, perchè alla fine dimostro che posso usarli distintamente senza fatica."
   ]
  },
  {
   "cell_type": "code",
   "execution_count": 53,
   "id": "4b9ac80d-d23f-46b8-b562-2d809291d168",
   "metadata": {},
   "outputs": [],
   "source": [
    "class Animale:\n",
    "    def __init__(self, nome):\n",
    "        self.nome = nome\n",
    "    def __str__(self):\n",
    "        return \"Nome: \" + self.nome \n",
    "    def classificazione_base(self):\n",
    "        dominio = \"eukaryota\"\n",
    "        regno = \"animalia\"\n",
    "        return dominio + \"\\n\" + regno + \"\\n\""
   ]
  },
  {
   "cell_type": "code",
   "execution_count": 54,
   "id": "943a84cf-ec29-4f86-aa84-9b68c01330a5",
   "metadata": {},
   "outputs": [],
   "source": [
    "class Mammifero(Animale):\n",
    "    def __init__(self, nome, dieta):\n",
    "        self.dieta = dieta\n",
    "        Animale.__init__(self, nome)\n",
    "    def __str__(self):\n",
    "        return Animale.__str__(self) + \" - \" + \"Dieta: \" + self.dieta\n",
    "    def classificazione_intermedia(self):\n",
    "        phylum = \"chordata\"\n",
    "        subphylum = \"vertebrata\"\n",
    "        classe = \"mammalia\"\n",
    "        return Animale.classificazione_base(self) + phylum + \"\\n\" + subphylum + \"\\n\" + classe + \"\\n\""
   ]
  },
  {
   "cell_type": "code",
   "execution_count": 55,
   "id": "4357bdaf-f372-462b-97e6-d58a0ac67bf2",
   "metadata": {},
   "outputs": [],
   "source": [
    "class Canide(Mammifero):\n",
    "    def __init__(self, nome, dieta, habitat):\n",
    "        self.habitat = habitat\n",
    "        Mammifero.__init__(self, nome, dieta)\n",
    "    def __str__(self):\n",
    "        return Mammifero.__str__(self) + \" - \" + \"Habitat: \" + self.habitat\n",
    "    def classificazione_completa(self):\n",
    "        ordine = \"carnivora\"\n",
    "        famiglia = \"canidae\"\n",
    "        pippo = self.nome.split()\n",
    "        genere = pippo[0]\n",
    "        specie = pippo[1]\n",
    "        return Mammifero.classificazione_intermedia(self) + ordine + \"\\n\" + famiglia + \"\\n\" + genere + \"\\n\" + specie + \"\\n\""
   ]
  },
  {
   "cell_type": "code",
   "execution_count": 56,
   "id": "212c35fa-b553-4e5d-9e82-93dd0c702762",
   "metadata": {},
   "outputs": [
    {
     "name": "stdout",
     "output_type": "stream",
     "text": [
      "Nome: canis lupus - Dieta: onnivoro - Habitat: urbano\n",
      "\n",
      "\n",
      "eukaryota\n",
      "animalia\n",
      "chordata\n",
      "vertebrata\n",
      "mammalia\n",
      "carnivora\n",
      "canidae\n",
      "canis\n",
      "lupus\n",
      "\n"
     ]
    }
   ],
   "source": [
    "cane = Canide(\"canis lupus\", \"onnivoro\", \"urbano\")\n",
    "print(cane) # esprime il dunder method __str__\n",
    "print(\"\\n\")\n",
    "print(cane.classificazione_completa())"
   ]
  },
  {
   "cell_type": "markdown",
   "id": "db007be8-d69d-4b0d-bf8f-356c73fd1183",
   "metadata": {},
   "source": [
    "<p>Sia il metodo dunder <code class=\"inline\">__str__</code> che i metodi di classificazione concatenati funzionano a dovere se richiamato dalla classe ultima derivata. In ogni caso posso andare a richiamare anche il singolo metodo della classe base o di quella intermedia</p>"
   ]
  },
  {
   "cell_type": "code",
   "execution_count": 57,
   "id": "5c1848ae-d88b-4fc8-b61e-c7c7e1ddea21",
   "metadata": {},
   "outputs": [
    {
     "name": "stdout",
     "output_type": "stream",
     "text": [
      "eukaryota\n",
      "animalia\n",
      "\n"
     ]
    }
   ],
   "source": [
    "print(cane.classificazione_base())"
   ]
  },
  {
   "cell_type": "markdown",
   "id": "f2e6be69-8665-44c5-bc0a-1a1370c59ef1",
   "metadata": {},
   "source": [
    "Lo stesso vale per gli attributi, infatti qui chiamo il singolo attributo dieta nella classe intermedia"
   ]
  },
  {
   "cell_type": "code",
   "execution_count": 58,
   "id": "7d53376d-b33e-46a9-8478-28ed4ddbad39",
   "metadata": {},
   "outputs": [
    {
     "name": "stdout",
     "output_type": "stream",
     "text": [
      "onnivoro\n"
     ]
    }
   ],
   "source": [
    "print(cane.dieta)"
   ]
  },
  {
   "cell_type": "markdown",
   "id": "26b0f1fe-7429-4a1d-b377-395f17f40bc5",
   "metadata": {},
   "source": [
    "Tutto bello, anche se questo non è proprio il modo più bello per definire l'ereditarietà in Python. Finchè c'è un'ereditarietà lineare come in questo caso, il discorso non fa una piega. Le cose si complicano quando vi sono eredità multiple e concatenate.\n",
    "Per questo motivo è stato introdotto <code class=\"inline\">super()</code>."
   ]
  },
  {
   "cell_type": "markdown",
   "id": "f6842989-fff7-4e05-bed0-3976a14b5cba",
   "metadata": {},
   "source": [
    "### Eredità singole o a catena: la funzione super()\n",
    "Rimaniamo nell'esempio di prima e introduciamo la funzione <code class=\"inline\">super()</code>:"
   ]
  },
  {
   "cell_type": "code",
   "execution_count": 59,
   "id": "b04831d3-7f16-4ca9-8f60-252d6a1a56c0",
   "metadata": {},
   "outputs": [],
   "source": [
    "class Animale:\n",
    "    def __init__(self, nome):\n",
    "        self.nome = nome\n",
    "    def __str__(self):\n",
    "        return \"Nome: \" + self.nome \n",
    "    def classificazione_base(self):\n",
    "        dominio = \"eukaryota\"\n",
    "        regno = \"animalia\"\n",
    "        return dominio + \"\\n\" + regno + \"\\n\"\n",
    "\n",
    "class Mammifero(Animale):\n",
    "    def __init__(self, nome, dieta):\n",
    "        self.dieta = dieta\n",
    "        super().__init__(nome)\n",
    "    def __str__(self):\n",
    "        return super().__str__() + \" - \" + \"Dieta: \" + self.dieta\n",
    "    def classificazione_intermedia(self):\n",
    "        phylum = \"chordata\"\n",
    "        subphylum = \"vertebrata\"\n",
    "        classe = \"mammalia\"\n",
    "        return super().classificazione_base() + phylum + \"\\n\" + subphylum + \"\\n\" + classe + \"\\n\""
   ]
  },
  {
   "cell_type": "markdown",
   "id": "9a304352-f47e-4b27-a36a-0b58127bed48",
   "metadata": {},
   "source": [
    "Nella classe madre è tutto come prima, nella intermedia invece è apparso <code class=\"inline\">super().__init__(nome)</code>. <U>La funzione <code class=\"inline\">super()</code> ritorna un oggetto che rappresenta la classe parent</U>. In questo modo sto passando alla classe parent la variabile name da cui dovrò attingere per avere una classificazione completa, esattamente come ho fatto prima.\n",
    "\n",
    "<p>Inoltre nel dunder method <code class=\"inline\">__str__</code> anche abbiamo <code class=\"inline\">super()</code> che recupera quello che è stato definito gia nella classe madre e aggiunge ulteriori informazioni</p>\n",
    "\n",
    "<p>Anche nel metodo <code class=\"inline\">classificazione_intermedia(self)</code> andiamo a fetchare quello che è stato gia definito in <code class=\"inline\">super().classificazione_base()</code>, per farlo concatenare con ulteriori informazioni.</p>\n",
    "\n",
    "Andando a guardare l'ultima classe ereditaria:"
   ]
  },
  {
   "cell_type": "code",
   "execution_count": 60,
   "id": "91f1d747-a86b-4533-a7a5-394e62c049a5",
   "metadata": {},
   "outputs": [],
   "source": [
    "class Canide(Mammifero):\n",
    "    def __init__(self, nome, dieta, habitat):\n",
    "        self.habitat = habitat\n",
    "        super().__init__(nome, dieta)\n",
    "    def __str__(self):\n",
    "        return super().__str__() + \" - \" + \"Habitat: \" + self.habitat\n",
    "    def classificazione_completa(self):\n",
    "        ordine = \"carnivora\"\n",
    "        famiglia = \"canidae\"\n",
    "        pippo = self.nome.split()\n",
    "        genere = pippo[0]\n",
    "        specie = pippo[1]\n",
    "        return super().classificazione_intermedia() + ordine + \"\\n\" + famiglia + \"\\n\" + genere + \"\\n\" + specie + \"\\n\""
   ]
  },
  {
   "cell_type": "markdown",
   "id": "b6b23184-ab9d-4fe0-9065-5d739f25ec14",
   "metadata": {},
   "source": [
    "Ci siamo capiti insomma. Per concludere gli output:"
   ]
  },
  {
   "cell_type": "code",
   "execution_count": 61,
   "id": "31ad18d5-5611-4b29-a4d7-5b7efdae9515",
   "metadata": {},
   "outputs": [
    {
     "name": "stdout",
     "output_type": "stream",
     "text": [
      "Nome: canis lupus - Dieta: onnivoro - Habitat: urbano\n",
      "\n",
      "\n",
      "eukaryota\n",
      "animalia\n",
      "chordata\n",
      "vertebrata\n",
      "mammalia\n",
      "carnivora\n",
      "canidae\n",
      "canis\n",
      "lupus\n",
      "\n"
     ]
    }
   ],
   "source": [
    "cane = Canide(\"canis lupus\", \"onnivoro\", \"urbano\")\n",
    "print(cane)\n",
    "print(\"\\n\")\n",
    "print(cane.classificazione_completa())"
   ]
  },
  {
   "cell_type": "markdown",
   "id": "fe1db3bc-1d92-487c-aa5d-da6e1df0a140",
   "metadata": {},
   "source": [
    "NOTARE BENE: Andiamo a paragonare queste due espressioni complementari nei due esempi, il primo senza super e il secondo con:\n",
    "<p>\n",
    "    <code class=\"inline\">Animale.__init__(self, nome)</code>\n",
    "    <br>\n",
    "    <code class=\"inline\">super().__init__(nome)</code>\n",
    "</p>\n",
    "Nella funzione super <U>non si usa mai il parametro self, nemmeno in presenza di metodi</U> perchè insieme alla classe base, è gia implicito, con una dichiarazione dei parametri un po insolita:\n",
    "<p><code class=\"inline\">super(classe_sestessa, self)</code></p>\n",
    "L'eredità singola può essere definita lineare o a catena, perchè sono collegate una dopo l'altra in successione. In senso gerarchico, l'esecuzione del codice viene impartita in senso verticale.\n",
    "\n",
    "     Animale        ░▒[>>> Cane.__mro__\n",
    "        ↑           ░▒(__main__.Canide, __main__.Mammifero, __main__.Animale, object)\n",
    "    Mammifero       ░▒\n",
    "        ↑           ░▒                         Animale\n",
    "      Cane          ░▒                           |\n",
    "                    ░▒ Astrazione   ★☆☆        Mammifero(Animale)     eredità singola a catena\n",
    "     super()        ░▒ Ambiguità    ☆☆☆          |\n",
    "                    ░▒ Complessità  ★☆☆        Cane(Mammifero)\n",
    "<p>\n",
    "Per conoscere l'eredità di una specifica classe, si usa l'attributo dunder <code class=\"inline\">__mro__</code>. Tra un po scopriremo che questo attributo, oltre ad essere informativo per il programmatore, è anche legato al funzionamento di <code class=\"inline\">super()</code></p>"
   ]
  },
  {
   "cell_type": "code",
   "execution_count": 62,
   "id": "c5f14f61-0bdf-435d-a50d-4048366c747c",
   "metadata": {},
   "outputs": [
    {
     "data": {
      "text/plain": [
       "(__main__.Canide, __main__.Mammifero, __main__.Animale, object)"
      ]
     },
     "execution_count": 62,
     "metadata": {},
     "output_type": "execute_result"
    }
   ],
   "source": [
    "Canide.__mro__"
   ]
  },
  {
   "cell_type": "markdown",
   "id": "a45f8ac4-5599-40bb-90b8-314425f2289d",
   "metadata": {},
   "source": [
    "<p>Ma a cosa serve questo <code class=\"inline\">super()</code>? È solo accanimento pythonico? E soprattutto, come fa a capire in quale classe va a finire? Ce lo dice appunto l'attributo dunder <code class=\"inline\">__mro__</code> che spieghiamo nel prossimo capitolo:</p>"
   ]
  },
  {
   "cell_type": "markdown",
   "id": "5fd9728d-0af7-4ed0-9f16-eff66fbfbbce",
   "metadata": {},
   "source": [
    "### Eredità multipla: super() e l'attributo dunder \\_\\_mro__\n",
    "Vediamo come <code class=\"inline\">super()</code> gestisce l'ereditarietà multipla e come fa a capire dove deve andare. \n",
    "Creo tre classi A1, A2, A3 con dei metodi con lo stesso nome, ma con output diversi e creo una classe B con eredità multipla:"
   ]
  },
  {
   "cell_type": "code",
   "execution_count": 63,
   "id": "b576f83e-91c6-4e8e-84b1-f44dfb532f70",
   "metadata": {},
   "outputs": [],
   "source": [
    "class A1:\n",
    "    def pippo(self):\n",
    "        print(\"pippo_A1\")\n",
    "class A2:\n",
    "    def pippo(self):\n",
    "        print(\"pippo_A2\")\n",
    "class A3:\n",
    "    def pippo(self):\n",
    "        print(\"pippo_A3\")\n",
    "\n",
    "class B(A2, A1, A3):  # NOTARE ORDINE DI INSERMENTO\n",
    "    def pippo(self):\n",
    "        pass"
   ]
  },
  {
   "cell_type": "markdown",
   "id": "ce01d083-ea89-4acc-97d9-e88c5e82c07c",
   "metadata": {},
   "source": [
    "<p>L'ereditarietà viene suddivisa in gerarchia secondo l'ordine di inserimento nella classe derivata. Per capire meglio usiamo l'attributo dunder <code class=\"inline\">__mro__</code></p>"
   ]
  },
  {
   "cell_type": "code",
   "execution_count": 64,
   "id": "3c427622-6042-4d96-87bc-7eafcbf301f4",
   "metadata": {},
   "outputs": [
    {
     "data": {
      "text/plain": [
       "(__main__.B, __main__.A2, __main__.A1, __main__.A3, object)"
      ]
     },
     "execution_count": 64,
     "metadata": {},
     "output_type": "execute_result"
    }
   ],
   "source": [
    "B.__mro__"
   ]
  },
  {
   "cell_type": "markdown",
   "id": "6523d8d4-4cce-4f91-ab79-28e28d1d9b83",
   "metadata": {},
   "source": [
    "Alla fine, ovvero all'apice della gerarchia c'è la classe object che chiude la catena. \n",
    "\n",
    "<p>La funzione <code class=\"inline\">super()</code> chiama l'attributo dunder <code class=\"inline\">__mro__</code> che a sua volta <U>legge l'ordine di ereditarietà che abbiamo espresso nell'argomento della classe B</U>. \n",
    "    <br>\n",
    "    <br>\n",
    "    In un certo senso, B è child prima di A2, poi di A1 e infine di A3 in questo ordine. Il nostro <code class=\"inline\">__mro__</code> si assicura che questo ordine venga rispettato al cospetto di <code class=\"inline\">super()</code>.\n",
    "\n",
    "Andiamo ad inserire <code class=\"inline\">super()</code> nelle classi di interesse</p>"
   ]
  },
  {
   "cell_type": "code",
   "execution_count": 65,
   "id": "dbb6fefd-9699-4018-a168-01091a1ab9f1",
   "metadata": {},
   "outputs": [],
   "source": [
    "class A1:\n",
    "    def pippo(self):\n",
    "        print(\"pippo_A1\")\n",
    "        super().pippo()\n",
    "class A2:\n",
    "    def pippo(self):\n",
    "        print(\"pippo_A2\")\n",
    "        super().pippo()\n",
    "class A3:\n",
    "    def pippo(self):\n",
    "        print(\"pippo_A3\")\n",
    "        # NOTARE CHE QUI NON C'È SUPER(), DAREBBE ERRORE\n",
    "        \n",
    "class B(A2, A1, A3):  # NOTARE ORDINE DI INSERMENTO\n",
    "    def pippo(self):\n",
    "        super().pippo()"
   ]
  },
  {
   "cell_type": "markdown",
   "id": "892d7712-fc69-4dac-9b61-2401ca9f9ac0",
   "metadata": {},
   "source": [
    "Se vado a richiamare l'oggetto e il metodo vediamo cosa ottengo"
   ]
  },
  {
   "cell_type": "code",
   "execution_count": 66,
   "id": "91b9f374-f1e1-42d0-8bd6-750c6a095986",
   "metadata": {},
   "outputs": [
    {
     "name": "stdout",
     "output_type": "stream",
     "text": [
      "pippo_A2\n",
      "pippo_A1\n",
      "pippo_A3\n"
     ]
    }
   ],
   "source": [
    "b = B()\n",
    "b.pippo()"
   ]
  },
  {
   "cell_type": "markdown",
   "id": "4af4e3c9-d26d-4fd8-a145-157d42c62e69",
   "metadata": {},
   "source": [
    "<p>Viene appunto eseguito il codice nell'ordine fornito da <code class=\"inline\">__mro__</code>.\n",
    "    <br>\n",
    "    <br>\n",
    "    L'esecuzione del codice viene impartita in senso verticale tra la classe child e il primo parent, poi in senso orizzontale tra i parent successivi\n",
    "</p>\n",
    "\n",
    "    A2  →  A1  →  A3    ░▒[>>> B.__mro__\n",
    "       ↖                ░▒(__main__.B, __main__.A2, __main__.A1, __main__.A3, object)\n",
    "         ↖              ░▒\n",
    "           B            ░▒                             \n",
    "                        ░▒ Astrazione   ★☆☆         A2  A1 A3       eredità multipla\n",
    "        super()         ░▒ Ambiguità    ★☆☆           \\ | /\n",
    "                        ░▒ Complessità  ★☆☆             B(A2, A1, A3)"
   ]
  },
  {
   "cell_type": "markdown",
   "id": "0ab260c3-3edd-4c05-b848-27b3de9be226",
   "metadata": {},
   "source": [
    "### Eredità combinata o a diamante: introduzione di super() [Python 2.2] e \\_\\_mro__ [Python 2.3]\n",
    "<p>Questo esempio chiarisce perchè sono stati introdotti questi strumenti perchè questo caso genera un problema di ridondanza ereditaria, che non era facilmente gestibile.\n",
    "    <br>\n",
    "    <br>\n",
    "    Impostiamo il caso di cosiddetta eredità a diamante senza <code class=\"inline\">super()</code> e senza <code class=\"inline\">__mro__</code>\n",
    "    <br>\n",
    "    <br>\n",
    "    NOTA BENE: nel prossimo blocco di codice che ho scritto per ricreare l'inconsistenza di questo specifico caso, non avrebbe assolutamente senso consultare <code class=\"inline\">__mro__</code>, perchè la discendenza ereditaria estrapolata dall'ordine in cui vengono espresse le eredità stesse, è coerente solo ed esclusivamente con l'utilizzo di <code class=\"inline\">super()</code> che qui è volutamente omesso.</p>"
   ]
  },
  {
   "cell_type": "code",
   "execution_count": 67,
   "id": "ba1f0866-58a6-47b9-986d-c4160a2b0678",
   "metadata": {},
   "outputs": [
    {
     "name": "stdout",
     "output_type": "stream",
     "text": [
      "in C chiamo B1\n",
      "in B1 chiamo A\n",
      "arrivo in A\n",
      "⇓ ⇓ ⇓ ⇓ ⇓ ⇓\n",
      "in A eseguo __init__()\n",
      "in B1 eseguo __init__()\n",
      "in C chiamo B1\n",
      "in B2 chiamo A\n",
      "arrivo in A\n",
      "⇓ ⇓ ⇓ ⇓ ⇓ ⇓\n",
      "in A eseguo __init__()\n",
      "in B2 eseguo __init__()\n",
      "in C eseguo __init__()\n"
     ]
    }
   ],
   "source": [
    "class A:\n",
    "    def __init__(self):\n",
    "        print(\"arrivo in A\\n⇓ ⇓ ⇓ ⇓ ⇓ ⇓\")\n",
    "        print(\"in A eseguo __init__()\")\n",
    "        # codice da eseguire in A__init__()\n",
    "\n",
    "class B1(A):\n",
    "    def __init__(self):\n",
    "        print(\"in B1 chiamo A\")\n",
    "        A.__init__(self)\n",
    "        print(\"in B1 eseguo __init__()\")\n",
    "        # codice da eseguire in B1__init__()\n",
    "\n",
    "class B2(A):\n",
    "    def __init__(self):\n",
    "        print(\"in B2 chiamo A\")\n",
    "        A.__init__(self)\n",
    "        print(\"in B2 eseguo __init__()\")\n",
    "        # codice da eseguire in B2__init__()\n",
    "\n",
    "class C(B1, B2):\n",
    "    def __init__(self):\n",
    "        print(\"in C chiamo B1\")\n",
    "        B1.__init__(self)\n",
    "        print(\"in C chiamo B1\")\n",
    "        B2.__init__(self)\n",
    "        print(\"in C eseguo __init__()\")\n",
    "        # codice da eseguire in C__init__()\n",
    "\n",
    "c = C()"
   ]
  },
  {
   "cell_type": "markdown",
   "id": "bc45d617-3d05-4834-ac54-0e603842038e",
   "metadata": {},
   "source": [
    "<p>La classe B deve leggere gli <code class=\"inline\">__init__()</code> delle sue due classi parent A1 e A2, che a loro volta hanno come classe parent A. In questo caso le due classi B1 e B2 vengono dette classi siblings, perchè hanno entrambe la stessa classe parent A e sono combinate da C. \n",
    "    <br>\n",
    "    <br>\n",
    "    Ed ecco la ridondanza ereditaria, un bel casino logico che inoltre <U>è molto poco pythonico se rifletti attentamente.</U> <br>\n",
    "    Ci si sono messi di impegno e hanno creato questi due strumenti che vanno a risolvere:</p>"
   ]
  },
  {
   "cell_type": "code",
   "execution_count": 68,
   "id": "abfdcfb1-f32e-431f-85c9-42cf67990bd3",
   "metadata": {},
   "outputs": [
    {
     "name": "stdout",
     "output_type": "stream",
     "text": [
      "in C eseguo super()\n",
      "in B1 eseguo super()\n",
      "in B2 eseguo super()\n",
      "arrivo in A\n",
      "⇓ ⇓ ⇓ ⇓ ⇓ ⇓\n",
      "in A eseguo __init__()\n",
      "in B2 eseguo __init__()\n",
      "in B1 eseguo __init__()\n",
      "in C eseguo __init__()\n"
     ]
    }
   ],
   "source": [
    "class A:\n",
    "    def __init__(self):\n",
    "        print(\"arrivo in A\\n⇓ ⇓ ⇓ ⇓ ⇓ ⇓\")\n",
    "        print(\"in A eseguo __init__()\")\n",
    "        # codice da eseguire in A__init__()\n",
    "\n",
    "class B1(A):\n",
    "    def __init__(self):\n",
    "        print(\"in B1 eseguo super()\")\n",
    "        super().__init__()\n",
    "        print(\"in B1 eseguo __init__()\")\n",
    "        # codice da eseguire in B1__init__()\n",
    "\n",
    "class B2(A):\n",
    "    def __init__(self):\n",
    "        print(\"in B2 eseguo super()\")\n",
    "        super().__init__()\n",
    "        print(\"in B2 eseguo __init__()\")\n",
    "        # codice da eseguire in B2__init__()\n",
    "\n",
    "class C(B1, B2):\n",
    "    def __init__(self):\n",
    "        print(\"in C eseguo super()\")\n",
    "        super().__init__()\n",
    "        print(\"in C eseguo __init__()\")\n",
    "        # codice da eseguire in C.__init__()\n",
    "\n",
    "c = C()"
   ]
  },
  {
   "cell_type": "code",
   "execution_count": 69,
   "id": "3ee1e221-a8af-437e-8b67-ee04badb4d80",
   "metadata": {},
   "outputs": [
    {
     "data": {
      "text/plain": [
       "(__main__.C, __main__.B1, __main__.B2, __main__.A, object)"
      ]
     },
     "execution_count": 69,
     "metadata": {},
     "output_type": "execute_result"
    }
   ],
   "source": [
    "C.__mro__"
   ]
  },
  {
   "cell_type": "markdown",
   "id": "b4dc3c0e-bebc-46a6-a604-e93bdb75ea87",
   "metadata": {},
   "source": [
    "<p>\n",
    "    Cosa è successo? Parte C, la prima istruzione è super, perciò legge nell'<code class=\"inline\">__mro__</code> qual'è il successivo, ovvero B1. Qui accade la stessa cosa perchè c'è il super come prima istruzione, e quindi va avanti in B2. Di nuovo la stessa cosa e va ad A. Dopodichè printa \"eseguo __init__ in A\", torna indietro ad A2 e printa e cosi via.\n",
    "    <br>\n",
    "    <br>\n",
    "    Nel seguente grafico ho inserito anche l'esecuzione di <code class=\"inline\">__init__()</code> per restare coerente con l'output del codice di sopra, così da rappresentare un'eventuale esecuzione di codice presente nelle inizializzazioni delle classi dopo l'escalation dei super()\n",
    "</p>"
   ]
  },
  {
   "cell_type": "markdown",
   "id": "19ce8b0c-044a-4160-95aa-d509f45cb312",
   "metadata": {},
   "source": [
    "        A  ⇒ ⇒ ⇒ ⇒ ⇒ ⇒ ⇒ ⇒ ⇒  A         ░▒[>>> C.__mro__\n",
    "          ↖                     ↘       ░▒(__main__.C, __main__.B1, __main__.B2, __main__.A, object)\n",
    "    B1  →  B2             B1  ←  B2     ░▒\n",
    "      ↖                     ↘           ░▒                               A\n",
    "        C                     C         ░▒                            ┌ ─┴─ ┐\n",
    "                                        ░▒ Astrazione   ★★☆          B1(A)  B2(A)       eredità a diamante\n",
    "     super()              __init__()    ░▒ Ambiguità    ★★☆            \\   /\n",
    "                                        ░▒ Complessità  ★★☆              C(B1, B2)\n",
    "<p>Questo caso combina un caso di eredità multipla, con un doppio caso di eredità singola verso lo stesso parent. Per questo motivo, le due classi centrali B1 e B2 sono dette siblings di A. Infatti siblings è un termine complementare di child, contestualizzato al caso in cui due classi hanno lo stesso insieme di parents. Per essere chiari, in questo caso B1 e B2 sono siblings attraverso eredità singola, ma possono anche essere siblings se avessero avuto la stessa identica eredità multipla, a condizione che entrambe abbiano gli stessi parents multipli e nello stesso ordine. In altre parole se B1(A1, A2) mentre B2(A2), allora non sono siblings e nemmeno B1(A1, A2) e B2(A2, A1) sono considerabili siblings, essendo l'ordine di eredità invertito.\n",
    "    <br>\n",
    "    <br>\n",
    "    Se ci pensi è semplice, è l'<code class=\"inline\">__mro__</code> che parla chiaro, e se lo facessi sia a B1 che a B2, gli output devono essere identici per essere considerati siblings!</p>"
   ]
  },
  {
   "cell_type": "markdown",
   "id": "54d14470-524e-4bb2-978c-c4fbad07082d",
   "metadata": {},
   "source": [
    "### Casi notevoli di Eredità\n",
    "A seguire una serie di casi particolari degni di nota"
   ]
  },
  {
   "cell_type": "markdown",
   "id": "50778af5-b975-49eb-8b36-1720caeaf28e",
   "metadata": {},
   "source": [
    "    ░▒[>>> E.__mro__\n",
    "    ░▒(__main__.E, __main__.D1, __main__.D2, __main__.C, __main__.B1, __main__.B2, __main__.A, object)\n",
    "    ░▒\n",
    "    ░▒                                A\n",
    "    ░▒                             ┌ ─┴─ ┐\n",
    "    ░▒                            B1(A)  B2(A)\n",
    "    ░▒                              \\   /\n",
    "    ░▒                                C(B1, B2)         eredità a mosaico\n",
    "    ░▒                             ┌ ─┴─ ┐\n",
    "    ░▒ Astrazione   ★★☆           D1(C)  D2(C)\n",
    "    ░▒ Ambiguità    ★★☆             \\   /\n",
    "    ░▒ Complessità  ★★★               E(D1, D2)\n",
    "\n",
    "<p>Estremamente flessibile e potente, ma può diventare molto complessa e difficile da gestire. Richiede una chiara comprensione della <code class=\"inline\">__mro__</code> e delle interazioni tra classi. Per semplicità di esempio questo è chiaramente un doppio diamante, ma non deve essere per forza simmetrico. Le successioni di eredità multiple e singole possono essere sfalzate a volontà elevandone ancora di più la complessità e la potenza.</p>"
   ]
  },
  {
   "cell_type": "markdown",
   "id": "c40a899c-2932-4bc9-8fd9-e0828b696220",
   "metadata": {},
   "source": [
    "    ░▒[>>> B.__mro__\n",
    "    ░▒TypeError: Cannot create a consistent method resolution order (MRO) for bases A, B\n",
    "    ░▒\n",
    "    ░▒                               A(B)\n",
    "    ░▒                            ┌ ─┴─ ┐\n",
    "    ░▒ Astrazione   ★★★           │     │              eredità circolare (non attuabile in python)\n",
    "    ░▒ Ambiguità    ★★★           └ ─┬─ ┘\n",
    "    ░▒ Complessità  ☆☆☆              B(A)\n",
    "\n",
    "In realtà ne ricevi un'altro prima di errore, relativo proprio alla definizioni delle classi. Se dall'alto verso il basso del codice prima definisco A(B) e poi B(A) ottengo l'errore: NameError: name 'B' is not defined.\n",
    "\n",
    "L'ereditarietà circolare non ha senso in pratica perché viola i principi di progettazione orientata agli oggetti. Un tale design porterebbe a una confusione logica e ambiguità su quale classe dovrebbe ereditare quale metodo o attributo."
   ]
  },
  {
   "cell_type": "markdown",
   "id": "d5a53b10-1c53-41de-8013-aaa0073625c5",
   "metadata": {},
   "source": [
    "### Richiamo di metodi, attributi e attributi privati con super()"
   ]
  },
  {
   "cell_type": "markdown",
   "id": "cb8a5b68-febc-479b-9ecf-f3e4bb278b85",
   "metadata": {},
   "source": [
    "### Eredità con Sovrascrittura di Metodi: l'Overriding"
   ]
  },
  {
   "cell_type": "code",
   "execution_count": 70,
   "id": "0c70bca6-6263-43cc-ae0e-63538de7107a",
   "metadata": {},
   "outputs": [
    {
     "name": "stdout",
     "output_type": "stream",
     "text": [
      "Some generic sound\n",
      "Woof!\n"
     ]
    }
   ],
   "source": [
    "class Animal:\n",
    "    def speak(self):\n",
    "        return \"Some generic sound\"\n",
    "\n",
    "class Dog(Animal):\n",
    "    def speak(self):\n",
    "        return \"Woof!\"  # Questo è l'overriding del metodo 'speak'\n",
    "\n",
    "# Utilizzo delle classi\n",
    "generic_animal = Animal()\n",
    "dog = Dog()\n",
    "\n",
    "print(generic_animal.speak())  # Output: \"Some generic sound\"\n",
    "print(dog.speak())             # Output: \"Woof!\"\n"
   ]
  },
  {
   "cell_type": "markdown",
   "id": "77e29289-5052-4083-8ca4-e96bb486f838",
   "metadata": {},
   "source": [
    "## Ereditarietà astratta"
   ]
  },
  {
   "cell_type": "code",
   "execution_count": 71,
   "id": "77625f52-8203-4575-9b14-27e350dea3bf",
   "metadata": {},
   "outputs": [
    {
     "name": "stdout",
     "output_type": "stream",
     "text": [
      "78.53975\n",
      "24\n"
     ]
    }
   ],
   "source": [
    "from abc import ABC, abstractmethod\n",
    "\n",
    "class Shape(ABC):\n",
    "    @abstractmethod\n",
    "    def area(self):\n",
    "        pass\n",
    "\n",
    "class Circle(Shape):\n",
    "    def __init__(self, radius):\n",
    "        self.radius = radius\n",
    "\n",
    "    def area(self):\n",
    "        return 3.14159 * (self.radius ** 2)\n",
    "\n",
    "class Rectangle(Shape):\n",
    "    def __init__(self, width, height):\n",
    "        self.width = width\n",
    "        self.height = height\n",
    "\n",
    "    def area(self):\n",
    "        return self.width * self.height\n",
    "\n",
    "# Tentativo di istanziare la classe astratta darà errore\n",
    "# shape = Shape()  # TypeError: Can't instantiate abstract class Shape with abstract methods area\n",
    "\n",
    "# Utilizzo delle classi derivate\n",
    "circle = Circle(5)\n",
    "rectangle = Rectangle(4, 6)\n",
    "\n",
    "print(circle.area())  # Output: 78.53975\n",
    "print(rectangle.area())  # Output: 24"
   ]
  }
 ],
 "metadata": {
  "kernelspec": {
   "display_name": "Python 3 (ipykernel)",
   "language": "python",
   "name": "python3"
  },
  "language_info": {
   "codemirror_mode": {
    "name": "ipython",
    "version": 3
   },
   "file_extension": ".py",
   "mimetype": "text/x-python",
   "name": "python",
   "nbconvert_exporter": "python",
   "pygments_lexer": "ipython3",
   "version": "3.11.0"
  }
 },
 "nbformat": 4,
 "nbformat_minor": 5
}
