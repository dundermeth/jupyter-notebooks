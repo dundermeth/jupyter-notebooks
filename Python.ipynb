{
 "cells": [
  {
   "cell_type": "markdown",
   "id": "81ef9894-793a-4c4a-aab3-4267e9b99343",
   "metadata": {},
   "source": [
    "# Classi"
   ]
  },
  {
   "cell_type": "markdown",
   "id": "47cd1445-72aa-4d46-9ce6-2a308181e9f2",
   "metadata": {},
   "source": [
    "## Composizione (has-a)"
   ]
  },
  {
   "cell_type": "markdown",
   "id": "f13958f7-b966-4656-951b-573ae242e81a",
   "metadata": {},
   "source": [
    "### Un oggetto di una classe ha dentro l'oggetto di un'altra classe"
   ]
  },
  {
   "cell_type": "markdown",
   "id": "c1dbb3da-87a9-490e-a854-ed8380b198fa",
   "metadata": {},
   "source": [
    "Creo una classe per definire un punto, con al suo interno un metodo per definirne la distanza dal centro (0,0)"
   ]
  },
  {
   "cell_type": "code",
   "execution_count": 1,
   "id": "30b0fc82-dc7e-40d5-a542-f6abfeefe1dd",
   "metadata": {},
   "outputs": [],
   "source": [
    "import math\n",
    "\n",
    "class Punto:\n",
    "    def __init__(self, x=0, y=0):\n",
    "        self.x = x\n",
    "        self.y = y\n",
    "\n",
    "    def distanza(self):\n",
    "        \"\"\"Restituisce la distanza dall'origine\"\"\"\n",
    "        return math.sqrt(self.x**2 + self.y**2)\n",
    "\n",
    "    def __str__(self):\n",
    "        return str((self.x, self.y))"
   ]
  },
  {
   "cell_type": "code",
   "execution_count": 2,
   "id": "3543daad-fcb0-4e03-bad9-5a6bc32b0917",
   "metadata": {},
   "outputs": [
    {
     "name": "stdout",
     "output_type": "stream",
     "text": [
      "(0, 0)\n",
      "0.0\n"
     ]
    }
   ],
   "source": [
    "p = Punto()\n",
    "print(p)\n",
    "print(p.distanza())"
   ]
  },
  {
   "cell_type": "code",
   "execution_count": 3,
   "id": "78382e99-dd95-43c0-bc14-1c4bf356fb71",
   "metadata": {},
   "outputs": [
    {
     "name": "stdout",
     "output_type": "stream",
     "text": [
      "(3, 4)\n",
      "5.0\n"
     ]
    }
   ],
   "source": [
    "p = Punto(3,4)\n",
    "print(p)\n",
    "print(p.distanza())"
   ]
  },
  {
   "cell_type": "markdown",
   "id": "193b2f2d-44e4-4cc7-ba61-7ec08d2c3575",
   "metadata": {},
   "source": [
    "Adesso creo un'atra classe che definisce il cerchio, usando l'oggetto della classe punto come suo centro sul piano cartesiano. Anche qui creo un metodo che fornisce la distanza dal centro del piano (0,0)."
   ]
  },
  {
   "cell_type": "code",
   "execution_count": 4,
   "id": "6190b204-90e5-4d62-b4f6-39f9e5d45e88",
   "metadata": {},
   "outputs": [],
   "source": [
    "class Cerchio:\n",
    "    def __init__(self, raggio=1, centro=Punto()):\n",
    "        self.raggio = raggio\n",
    "        self.centro = centro\n",
    "\n",
    "    def area(self):\n",
    "        return math.pi * self.raggio**2\n",
    "\n",
    "    def distanza(self):\n",
    "        \"\"\"Di nuovo, restituisce la distanza dall'origine, chiamando il metodo di Punto\"\"\"\n",
    "        return self.centro.distanza()\n",
    "\n",
    "    def __str__(self):\n",
    "        return \"raggio: %f, centro: %s\" %(self.raggio, self.centro)"
   ]
  },
  {
   "cell_type": "code",
   "execution_count": 5,
   "id": "fe2df83f-83c9-4d06-806c-ffd9ecbcb8d9",
   "metadata": {},
   "outputs": [
    {
     "name": "stdout",
     "output_type": "stream",
     "text": [
      "raggio: 1.000000, centro: (0, 0)\n"
     ]
    }
   ],
   "source": [
    "c = Cerchio()\n",
    "print(c)"
   ]
  },
  {
   "cell_type": "code",
   "execution_count": 6,
   "id": "f26c834b-b9cf-497c-b668-e5b1befa24bc",
   "metadata": {},
   "outputs": [
    {
     "name": "stdout",
     "output_type": "stream",
     "text": [
      "raggio: 10.000000, centro: (3, 4)\n",
      "5.0\n",
      "314.1592653589793\n"
     ]
    }
   ],
   "source": [
    "c = Cerchio(10, Punto(3,4))\n",
    "print(c)\n",
    "print(c.distanza())\n",
    "print(c.area())"
   ]
  },
  {
   "cell_type": "markdown",
   "id": "389a9814-3b64-4539-9e98-55040516f510",
   "metadata": {},
   "source": [
    "## Ereditarietà (is-a)"
   ]
  },
  {
   "cell_type": "markdown",
   "id": "1b60f784-a632-4055-8cdd-259e62a569a2",
   "metadata": {},
   "source": [
    "### Quando un oggetto di una classe è un oggetto di un'altra classe"
   ]
  },
  {
   "cell_type": "markdown",
   "id": "bc04623c-9422-40bc-b891-c19d99ebef3e",
   "metadata": {},
   "source": [
    "Può capitare in programmazione ad oggetti che dobbiamo descrivere due oggetti diversi, ma molto simili fra loro da un punto di vista proprio di attributi e metodi. Il classico esempio è gli oggetti persona e impiegato. Infatti, l'impiegato È A TUTTI GLI EFFETTI una persona, perciò ne condivide le caratteristiche, più altre caratteristiche in piu che lo distingue dalla semplice persona, o da un dirigente ad esempio. Siccome l'esempio persona con nome, cognome, email e codice fiscale mi sta sul cazzo, faccio un esempio con gli animali.\n",
    "\n",
    "Andro a creare tre classi concatenate, ovvero un canide che è un mammifero che è un animale. Ciascun metodo relativo alla classificazione lo nomino in modo diverso, perchè alla fine dimostro che posso usarli distintamente senza fatica."
   ]
  },
  {
   "cell_type": "code",
   "execution_count": 7,
   "id": "4b9ac80d-d23f-46b8-b562-2d809291d168",
   "metadata": {},
   "outputs": [],
   "source": [
    "class Animale:\n",
    "    def __init__(self, nome):\n",
    "        self.nome = nome\n",
    "    def __str__(self):\n",
    "        return \"Nome: \" + self.nome \n",
    "    def class_base(self):\n",
    "        dominio = \"eukaryota\"\n",
    "        regno = \"animalia\"\n",
    "        return dominio + \"\\n\" + regno + \"\\n\""
   ]
  },
  {
   "cell_type": "code",
   "execution_count": 8,
   "id": "943a84cf-ec29-4f86-aa84-9b68c01330a5",
   "metadata": {},
   "outputs": [],
   "source": [
    "class Mammifero(Animale):\n",
    "    def __init__(self, nome, dieta):\n",
    "        self.dieta = dieta\n",
    "        Animale.__init__(self, nome)\n",
    "    def __str__(self):\n",
    "        return Animale.__str__(self) + \" - \" + \"Dieta: \" + self.dieta\n",
    "    def class_media(self):\n",
    "        phylum = \"chordata\"\n",
    "        subphylum = \"vertebrata\"\n",
    "        classe = \"mammalia\"\n",
    "        return Animale.class_base(self) + phylum + \"\\n\" + subphylum + \"\\n\" + classe + \"\\n\""
   ]
  },
  {
   "cell_type": "code",
   "execution_count": 9,
   "id": "4357bdaf-f372-462b-97e6-d58a0ac67bf2",
   "metadata": {},
   "outputs": [],
   "source": [
    "class Canide(Mammifero):\n",
    "    def __init__(self, nome, dieta, habitat):\n",
    "        self.habitat = habitat\n",
    "        Mammifero.__init__(self, nome, dieta)\n",
    "    def __str__(self):\n",
    "        return Mammifero.__str__(self) + \" - \" + \"Habitat: \" + self.habitat\n",
    "    def classificazione(self):\n",
    "        ordine = \"carnivora\"\n",
    "        famiglia = \"canidae\"\n",
    "        pippo = self.nome.split()\n",
    "        genere = pippo[0]\n",
    "        specie = pippo[1]\n",
    "        return Mammifero.class_media(self) + ordine + \"\\n\" + famiglia + \"\\n\" + genere + \"\\n\" + specie + \"\\n\""
   ]
  },
  {
   "cell_type": "code",
   "execution_count": 10,
   "id": "212c35fa-b553-4e5d-9e82-93dd0c702762",
   "metadata": {},
   "outputs": [
    {
     "name": "stdout",
     "output_type": "stream",
     "text": [
      "Nome: canis lupus - Dieta: onnivoro - Habitat: urbano\n",
      "\n",
      "\n",
      "eukaryota\n",
      "animalia\n",
      "chordata\n",
      "vertebrata\n",
      "mammalia\n",
      "carnivora\n",
      "canidae\n",
      "canis\n",
      "lupus\n",
      "\n"
     ]
    }
   ],
   "source": [
    "cane = Canide(\"canis lupus\", \"onnivoro\", \"urbano\")\n",
    "print(cane)\n",
    "print(\"\\n\")\n",
    "print(cane.classificazione())"
   ]
  },
  {
   "cell_type": "markdown",
   "id": "db007be8-d69d-4b0d-bf8f-356c73fd1183",
   "metadata": {},
   "source": [
    "Sia il metodo dunder __str__ che i metodi di classificazione concatenati funzionano a dovere se richiamato dalla classe ultima derivata. In ogni caso posso andare a richiamare anche il singolo metodo della classe base o di quella intermedia"
   ]
  },
  {
   "cell_type": "code",
   "execution_count": 11,
   "id": "5c1848ae-d88b-4fc8-b61e-c7c7e1ddea21",
   "metadata": {},
   "outputs": [
    {
     "name": "stdout",
     "output_type": "stream",
     "text": [
      "eukaryota\n",
      "animalia\n",
      "\n"
     ]
    }
   ],
   "source": [
    "print(cane.class_base())"
   ]
  },
  {
   "cell_type": "markdown",
   "id": "f2e6be69-8665-44c5-bc0a-1a1370c59ef1",
   "metadata": {},
   "source": [
    "Lo stesso vale per gli attributi, infatti qui chiamo il singolo attributo dieta nella classe di mezzo"
   ]
  },
  {
   "cell_type": "code",
   "execution_count": 12,
   "id": "7d53376d-b33e-46a9-8478-28ed4ddbad39",
   "metadata": {},
   "outputs": [
    {
     "name": "stdout",
     "output_type": "stream",
     "text": [
      "onnivoro\n"
     ]
    }
   ],
   "source": [
    "print(cane.dieta)"
   ]
  },
  {
   "cell_type": "markdown",
   "id": "26b0f1fe-7429-4a1d-b377-395f17f40bc5",
   "metadata": {},
   "source": [
    "Tutto bello anche se questo non è proprio il modo più bello per definire l'ereditarietà in Python. \n",
    "Passiamo a scoprire il metodo Super()"
   ]
  },
  {
   "cell_type": "code",
   "execution_count": 13,
   "id": "b04831d3-7f16-4ca9-8f60-252d6a1a56c0",
   "metadata": {},
   "outputs": [
    {
     "name": "stdout",
     "output_type": "stream",
     "text": [
      "Nome: canis lupus - Dieta: onnivoro - Habitat: urbano\n",
      "\n",
      "\n",
      "eukaryota\n",
      "animalia\n",
      "chordata\n",
      "vertebrata\n",
      "mammalia\n",
      "carnivora\n",
      "canidae\n",
      "canis\n",
      "lupus\n",
      "\n"
     ]
    }
   ],
   "source": [
    "class Animale:\n",
    "    def __init__(self, nome):\n",
    "        self.nome = nome\n",
    "    def __str__(self):\n",
    "        return \"Nome: \" + self.nome \n",
    "    def class_base(self):\n",
    "        dominio = \"eukaryota\"\n",
    "        regno = \"animalia\"\n",
    "        return dominio + \"\\n\" + regno + \"\\n\"\n",
    "\n",
    "class Mammifero(Animale):\n",
    "    def __init__(self, nome, dieta):\n",
    "        self.dieta = dieta\n",
    "        super().__init__(nome)\n",
    "    def __str__(self):\n",
    "        return super().__str__() + \" - \" + \"Dieta: \" + self.dieta\n",
    "    def class_media(self):\n",
    "        phylum = \"chordata\"\n",
    "        subphylum = \"vertebrata\"\n",
    "        classe = \"mammalia\"\n",
    "        return super().class_base() + phylum + \"\\n\" + subphylum + \"\\n\" + classe + \"\\n\"\n",
    "\n",
    "class Canide(Mammifero):\n",
    "    def __init__(self, nome, dieta, habitat):\n",
    "        self.habitat = habitat\n",
    "        super().__init__(nome, dieta)\n",
    "    def __str__(self):\n",
    "        return super().__str__() + \" - \" + \"Habitat: \" + self.habitat\n",
    "    def classificazione(self):\n",
    "        ordine = \"carnivora\"\n",
    "        famiglia = \"canidae\"\n",
    "        pippo = self.nome.split()\n",
    "        genere = pippo[0]\n",
    "        specie = pippo[1]\n",
    "        return super().class_media() + ordine + \"\\n\" + famiglia + \"\\n\" + genere + \"\\n\" + specie + \"\\n\"\n",
    "\n",
    "cane = Canide(\"canis lupus\", \"onnivoro\", \"urbano\")\n",
    "print(cane)\n",
    "print(\"\\n\")\n",
    "print(cane.classificazione())"
   ]
  },
  {
   "cell_type": "markdown",
   "id": "a45f8ac4-5599-40bb-90b8-314425f2289d",
   "metadata": {},
   "source": [
    "Il seguente codice lo capiamo nel prossimo paragrafo, lo lascio solo per completezza"
   ]
  },
  {
   "cell_type": "code",
   "execution_count": 14,
   "id": "c5f14f61-0bdf-435d-a50d-4048366c747c",
   "metadata": {},
   "outputs": [
    {
     "data": {
      "text/plain": [
       "(__main__.Canide, __main__.Mammifero, __main__.Animale, object)"
      ]
     },
     "execution_count": 14,
     "metadata": {},
     "output_type": "execute_result"
    }
   ],
   "source": [
    "Canide.__mro__"
   ]
  },
  {
   "cell_type": "markdown",
   "id": "5fd9728d-0af7-4ed0-9f16-eff66fbfbbce",
   "metadata": {},
   "source": [
    "### La classe built-in super() e l'attributo dunder __mro__"
   ]
  },
  {
   "cell_type": "markdown",
   "id": "7db2b016-cfec-4f00-9d95-337ea2f64073",
   "metadata": {},
   "source": [
    "Questa classe è molto potente e richiede una certa attenzione ad usarla. In primo luogo, non servono argomenti al suo interno. Possiamo specificarli ma è inutile, comunque è nella forma super(Base, self).\n",
    "\n",
    "Inoltre se richiamiamo dei metodi non vanno messi i self negli argomenti dei metodi che richiamiamo. Questo ci porterebbe ad errori\n",
    "\n",
    "Vediamo come gestisce l'ereditarietà multipla. Creo tre classi con dei metodi con lo stesso nome, ma con output diversi"
   ]
  },
  {
   "cell_type": "code",
   "execution_count": 15,
   "id": "b576f83e-91c6-4e8e-84b1-f44dfb532f70",
   "metadata": {},
   "outputs": [],
   "source": [
    "class A1:\n",
    "    def pippo(self):\n",
    "        print(\"pippo1\")\n",
    "class A2:\n",
    "    def pippo(self):\n",
    "        print(\"pippo2\")\n",
    "class A3:\n",
    "    def pippo(self):\n",
    "        print(\"pippo3\")\n",
    "\n",
    "class B(A2, A1, A3):  # NOTARE ORDINE DI INSERMENTO\n",
    "    def pippo(self):\n",
    "        super().pippo()"
   ]
  },
  {
   "cell_type": "markdown",
   "id": "892d7712-fc69-4dac-9b61-2401ca9f9ac0",
   "metadata": {},
   "source": [
    "Se vado a richiamare l'oggetto e il metodo vediamo cosa ottengo"
   ]
  },
  {
   "cell_type": "code",
   "execution_count": 16,
   "id": "91b9f374-f1e1-42d0-8bd6-750c6a095986",
   "metadata": {},
   "outputs": [
    {
     "name": "stdout",
     "output_type": "stream",
     "text": [
      "pippo2\n"
     ]
    }
   ],
   "source": [
    "b = B()\n",
    "b.pippo()"
   ]
  },
  {
   "cell_type": "markdown",
   "id": "ce01d083-ea89-4acc-97d9-e88c5e82c07c",
   "metadata": {},
   "source": [
    "L'ereditarietà viene suddivisa in gerarchia secondo l'ordine di inserimento nella classe derivata. Per capire meglio usiamo l'attributo dunder __mro__"
   ]
  },
  {
   "cell_type": "code",
   "execution_count": 17,
   "id": "3c427622-6042-4d96-87bc-7eafcbf301f4",
   "metadata": {},
   "outputs": [
    {
     "data": {
      "text/plain": [
       "(__main__.B, __main__.A2, __main__.A1, __main__.A3, object)"
      ]
     },
     "execution_count": 17,
     "metadata": {},
     "output_type": "execute_result"
    }
   ],
   "source": [
    "B.__mro__"
   ]
  },
  {
   "cell_type": "markdown",
   "id": "06206550-fa62-4cb3-8e5b-c29b85c71f2c",
   "metadata": {},
   "source": [
    "Alla fine, ovvero all'apice della gerarchia c'è la classe object che chiude la catena. \n",
    "\n",
    "Vediamo un'altro esempio. Partiamo senza usare la classe super"
   ]
  },
  {
   "cell_type": "code",
   "execution_count": 18,
   "id": "ba1f0866-58a6-47b9-986d-c4160a2b0678",
   "metadata": {},
   "outputs": [
    {
     "name": "stdout",
     "output_type": "stream",
     "text": [
      "eseguo A\n",
      "eseguo A1\n",
      "eseguo A\n",
      "eseguo A2\n",
      "eseguo B\n"
     ]
    }
   ],
   "source": [
    "class A:\n",
    "    def __init__(self):\n",
    "        print(\"eseguo A\")\n",
    "\n",
    "class A1(A):\n",
    "    def __init__(self):\n",
    "        A.__init__(self)\n",
    "        print(\"eseguo A1\")\n",
    "\n",
    "class A2(A):\n",
    "    def __init__(self):\n",
    "        A.__init__(self)\n",
    "        print(\"eseguo A2\")\n",
    "\n",
    "class B(A1, A2):\n",
    "    def __init__(self):\n",
    "        A1.__init__(self)\n",
    "        A2.__init__(self)\n",
    "        print(\"eseguo B\")\n",
    "\n",
    "b = B()"
   ]
  },
  {
   "cell_type": "markdown",
   "id": "bc45d617-3d05-4834-ac54-0e603842038e",
   "metadata": {},
   "source": [
    "La classe B deve leggere gli altri __init__ delle altre due classi A1 e A2, che a loro volta hanno come classe base A. Questo crea una ridondanza di codice. Ma con la classe super, andiamo a risolvere"
   ]
  },
  {
   "cell_type": "code",
   "execution_count": 19,
   "id": "abfdcfb1-f32e-431f-85c9-42cf67990bd3",
   "metadata": {},
   "outputs": [
    {
     "name": "stdout",
     "output_type": "stream",
     "text": [
      "eseguo A\n",
      "eseguo A2\n",
      "eseguo A1\n",
      "eseguo B\n"
     ]
    }
   ],
   "source": [
    "class A:\n",
    "    def __init__(self):\n",
    "        print(\"eseguo A\")\n",
    "\n",
    "class A1(A):\n",
    "    def __init__(self):\n",
    "        super().__init__()\n",
    "        print(\"eseguo A1\")\n",
    "\n",
    "class A2(A):\n",
    "    def __init__(self):\n",
    "        super().__init__()\n",
    "        print(\"eseguo A2\")\n",
    "\n",
    "class B(A1, A2):\n",
    "    def __init__(self):\n",
    "        super().__init__()\n",
    "        print(\"eseguo B\")\n",
    "\n",
    "b = B()"
   ]
  },
  {
   "cell_type": "code",
   "execution_count": 20,
   "id": "3ee1e221-a8af-437e-8b67-ee04badb4d80",
   "metadata": {},
   "outputs": [
    {
     "data": {
      "text/plain": [
       "(__main__.B, __main__.A1, __main__.A2, __main__.A, object)"
      ]
     },
     "execution_count": 20,
     "metadata": {},
     "output_type": "execute_result"
    }
   ],
   "source": [
    "B.__mro__"
   ]
  },
  {
   "cell_type": "markdown",
   "id": "b4dc3c0e-bebc-46a6-a604-e93bdb75ea87",
   "metadata": {},
   "source": [
    "Cosa è successo? Parte B, la prima istruzione è super, perciò legge nell'__mro__ qual'è il successivo, ovvero A1. Qui accade la stessa cosa perchè c'è il super come prima istruzione, e quindi va avanti in A2. Di nuovo la stessa cosa e va ad A. A questo punto printa \"eseguo A\", torna indietro ad A2 e printa e cosi via.\n",
    "\n",
    "USARE SEMPRE LA CLASSE SUPER PER GESTIRE L'EREDITARIETÀ"
   ]
  },
  {
   "cell_type": "markdown",
   "id": "eb4424e7-abbb-4c00-a365-9238f9d793f4",
   "metadata": {},
   "source": [
    "# Decoratori"
   ]
  },
  {
   "cell_type": "markdown",
   "id": "5adfb8f1-b2e8-4a80-8160-44c15e7bf215",
   "metadata": {},
   "source": [
    "## Creazione di un decoratore di funzioni"
   ]
  },
  {
   "cell_type": "markdown",
   "id": "cc818185-1c66-4782-826f-d74a6dc81dc6",
   "metadata": {},
   "source": [
    "Il decoratore si ciuccia la funzione, ne estrapola gli argomenti args e le keywords kwargs, se li lavora e poi gli rimette dentro i valori args e kwargs modificati.\n",
    "\n",
    "Creiamo l'implementazione del decoratore"
   ]
  },
  {
   "cell_type": "code",
   "execution_count": 21,
   "id": "e7466164-6a7f-4891-8eeb-90aa73656e71",
   "metadata": {},
   "outputs": [],
   "source": [
    "def decoratore(funzione):\n",
    "    def wrapper(*args, **kwargs):\n",
    "        \"\"\"Documentazione del wrapper - non ci interessa\"\"\"\n",
    "        print(args)\n",
    "        print(kwargs)\n",
    "        output = funzione(*args, **kwargs)\n",
    "        return output\n",
    "    return wrapper"
   ]
  },
  {
   "cell_type": "markdown",
   "id": "19520f91-3c36-4fe5-b4e6-cc030e87c555",
   "metadata": {},
   "source": [
    "La documentazione che vediamo qui servirà per capire il prossimo capitolo, per adesso non ci interessa. Accenniamo il problema in fondo a questo paragrafo\n",
    "\n",
    "Applichiamo il decoratore ad una funzione dichiarata e implementata"
   ]
  },
  {
   "cell_type": "code",
   "execution_count": 22,
   "id": "6398fea1-5943-4d82-8d11-6379a991ecee",
   "metadata": {},
   "outputs": [],
   "source": [
    "@decoratore\n",
    "def cavia(a, b):\n",
    "    \"\"\"Documentazione di cavia - questa è quella che vogliamo\"\"\"\n",
    "    return a + b"
   ]
  },
  {
   "cell_type": "markdown",
   "id": "8e940a81-7366-4a70-98ac-38159d5eefa5",
   "metadata": {},
   "source": [
    "Richiamo la funzione, e ci metto apposta un argomento e una keyword, giusto per vedere l'intero output"
   ]
  },
  {
   "cell_type": "code",
   "execution_count": 23,
   "id": "7a3146d2-29bd-41ad-95d7-6c980df8ac30",
   "metadata": {},
   "outputs": [
    {
     "name": "stdout",
     "output_type": "stream",
     "text": [
      "(5,)\n",
      "{'b': 5}\n"
     ]
    },
    {
     "data": {
      "text/plain": [
       "10"
      ]
     },
     "execution_count": 23,
     "metadata": {},
     "output_type": "execute_result"
    }
   ],
   "source": [
    "cavia(5,b=5)"
   ]
  },
  {
   "cell_type": "markdown",
   "id": "b6d97e33-6276-45d3-9d96-6ef4a2f367b9",
   "metadata": {},
   "source": [
    "Abbiamo un piccolo problema, la documentazione non funziona bene cosi:"
   ]
  },
  {
   "cell_type": "code",
   "execution_count": 24,
   "id": "6714531a-fc08-4346-b264-e3bb9c843db1",
   "metadata": {},
   "outputs": [
    {
     "ename": "NameError",
     "evalue": "name 'cavia1' is not defined",
     "output_type": "error",
     "traceback": [
      "\u001b[0;31m---------------------------------------------------------------------------\u001b[0m",
      "\u001b[0;31mNameError\u001b[0m                                 Traceback (most recent call last)",
      "Cell \u001b[0;32mIn[24], line 1\u001b[0m\n\u001b[0;32m----> 1\u001b[0m \u001b[38;5;28mprint\u001b[39m(\u001b[43mcavia1\u001b[49m\u001b[38;5;241m.\u001b[39m\u001b[38;5;18m__name__\u001b[39m)\n\u001b[1;32m      2\u001b[0m \u001b[38;5;28mprint\u001b[39m(cavia1\u001b[38;5;241m.\u001b[39m\u001b[38;5;18m__doc__\u001b[39m)\n",
      "\u001b[0;31mNameError\u001b[0m: name 'cavia1' is not defined"
     ]
    }
   ],
   "source": [
    "print(cavia1.__name__)\n",
    "print(cavia1.__doc__)"
   ]
  },
  {
   "cell_type": "markdown",
   "id": "1c6384f7-af7c-4e02-b982-45c498814ded",
   "metadata": {},
   "source": [
    "Da come vediamo, abbiamo richiamato il nome della funzione e la sua documentazione, ma abbiamo ottenuto quelle del wrapper. Questo non è molto pythonico, specialmente per problemi di mantenibilità del codice. Vediamo come risolvere"
   ]
  },
  {
   "cell_type": "markdown",
   "id": "8a42c283-aab0-4b94-af9f-38e2bc469861",
   "metadata": {},
   "source": [
    "### @wraps"
   ]
  },
  {
   "cell_type": "markdown",
   "id": "b24ff93f-f9a5-4670-934e-6f0b527b0ca0",
   "metadata": {},
   "source": [
    "Aggiungendo il decoratore @wraps andiamo a risolvere il problema della documentazione, vediamo come.\n",
    "\n",
    "Per prima cosa da functools importiamo il modulo wraps"
   ]
  },
  {
   "cell_type": "code",
   "execution_count": null,
   "id": "888b6afe-021d-43d4-b21c-b64c70bbc883",
   "metadata": {},
   "outputs": [],
   "source": [
    "from functools import wraps"
   ]
  },
  {
   "cell_type": "markdown",
   "id": "8e2c5048-57b9-48fb-a9bb-42f1acd4369d",
   "metadata": {},
   "source": [
    "Dopodichè possiamo aggiungere il decoratore wraps con funzione nel suo argomento"
   ]
  },
  {
   "cell_type": "code",
   "execution_count": null,
   "id": "1b6f7c8a-2eb8-44ed-a98d-603408ec2feb",
   "metadata": {},
   "outputs": [],
   "source": [
    "def decoratore(funzione):\n",
    "    @wraps(funzione)\n",
    "    def wrapper(*args, **kwargs):\n",
    "        \"\"\"Documentazione del wrapper - non ci interessa\"\"\"\n",
    "        print(args)\n",
    "        print(kwargs)\n",
    "        output = funzione(*args, **kwargs)\n",
    "        return output\n",
    "    return wrapper\n",
    "\n",
    "@decoratore\n",
    "def cavia(a, b):\n",
    "    \"\"\"Documentazione di cavia - questa è quella che vogliamo\"\"\"\n",
    "    return a + b"
   ]
  },
  {
   "cell_type": "markdown",
   "id": "fd7da54c-b706-434d-a137-aacef2e59298",
   "metadata": {},
   "source": [
    "A questo punto se andiamo a provare ottenziamo quello che vogliamo"
   ]
  },
  {
   "cell_type": "code",
   "execution_count": null,
   "id": "ac754020-67da-4d4b-8bd8-c0d716110e20",
   "metadata": {},
   "outputs": [],
   "source": [
    "print(cavia.__name__)\n",
    "print(cavia.__doc__)"
   ]
  },
  {
   "cell_type": "markdown",
   "id": "e03ff345-41e2-421b-ab33-29984519bdcb",
   "metadata": {},
   "source": [
    "## Decoratore di metodi in una classe"
   ]
  },
  {
   "cell_type": "code",
   "execution_count": null,
   "id": "a58d96f6-fd73-496a-8f1e-4e6dcadac4d0",
   "metadata": {},
   "outputs": [],
   "source": [
    "from functools import wraps\n",
    "class Prova:\n",
    "    \n",
    "    @staticmethod\n",
    "    def decoratore(metodo):\n",
    "        @wraps(metodo)\n",
    "        def wrap(self, *args, **kwargs):\n",
    "            self.pippo = (1, 3, 4, 6, 8, 9, 11)\n",
    "            self.numero = 0\n",
    "            return metodo(self, *args, **kwargs)\n",
    "        return wrap"
   ]
  },
  {
   "cell_type": "markdown",
   "id": "fc75ab43-8f55-4c90-865b-45d5bb846eb3",
   "metadata": {},
   "source": [
    "## @property"
   ]
  },
  {
   "cell_type": "markdown",
   "id": "7150c803-275d-4719-8a56-6c7181ff4fa1",
   "metadata": {},
   "source": [
    "È un decoratore per rendere pythoniche le funzioni getter setter e deleter\n",
    "\n",
    "Nelle classi si possono creare attributi privati, che servono solo per uso interno diciamo,\n",
    "a volte però è necessario settarli dall'esterno, perciò servono delle funzioni nella classe per,\n",
    "settarle, ottenerne il valore, oppure cancellarle, ovvero funzioni dette getter, setter e deleter.\n",
    "Il decoratore property lo fa in modo piu pythonico quindi piu leggibile e mantenibile."
   ]
  },
  {
   "cell_type": "code",
   "execution_count": null,
   "id": "6b128a82-6d0b-494e-8b6e-d4fdae26410f",
   "metadata": {},
   "outputs": [],
   "source": [
    "class Teleconduttore:\n",
    "    def __init__(self, p):\n",
    "        self._pippo = p         # quando un attributo inizia con _, allora è privato\n",
    "\n",
    "    @property                   # questo è il getter, ovvero una funzione che restituisce il valore\n",
    "    def baudo(self):\n",
    "        return self._pippo  \n",
    "\n",
    "    @baudo.setter               # questo è il setter\n",
    "    def baudo(self, val):\n",
    "        self._pippo = val\n",
    "\n",
    "    @baudo.deleter              # questo è il deleter\n",
    "    def baudo(self):\n",
    "        del self._pippo"
   ]
  },
  {
   "cell_type": "markdown",
   "id": "45be1702-2b62-4769-b003-ff651ab830de",
   "metadata": {},
   "source": [
    "Adesso lo andiamo a provare"
   ]
  },
  {
   "cell_type": "code",
   "execution_count": null,
   "id": "2ddceeba-4e26-4ef4-8f2b-8a133eef8e8b",
   "metadata": {},
   "outputs": [],
   "source": [
    "sanremo = Teleconduttore(10)\n",
    "\n",
    "print(sanremo.baudo)  # qui eseguo il getter per printarlo\n",
    "\n",
    "sanremo.baudo = 5     # qui eseguo il setter e printo con il getter\n",
    "print(sanremo.baudo)\n",
    "\n",
    "del sanremo.baudo     # questo è il deleter che fa sparire _pippo dalla faccia della terra"
   ]
  },
  {
   "cell_type": "markdown",
   "id": "6d57e4d7-3e6f-4d98-a970-013f6fc01db8",
   "metadata": {},
   "source": [
    "Se adesso andiamo a printare baudo ci da errore"
   ]
  },
  {
   "cell_type": "code",
   "execution_count": null,
   "id": "6e246e36-7d07-41b4-9617-f288ca46dfa0",
   "metadata": {},
   "outputs": [],
   "source": [
    "print(sanremo.baudo)"
   ]
  },
  {
   "cell_type": "markdown",
   "id": "388adedc-408c-415f-8fe1-b6374fdd1727",
   "metadata": {},
   "source": [
    "Per maggiori dettagli la documentazione ufficiale delle <a href=\"https://docs.python.org/3/library/functions.html#property\">built-in</a> di python."
   ]
  },
  {
   "cell_type": "markdown",
   "id": "ad892f99-93cc-4fff-b8a5-0401ecbfdf3b",
   "metadata": {},
   "source": [
    "# Librerie"
   ]
  },
  {
   "cell_type": "markdown",
   "id": "24d2dd17-cf09-4100-b071-adb3b5323f11",
   "metadata": {},
   "source": [
    "## functools"
   ]
  },
  {
   "cell_type": "markdown",
   "id": "36ec10e9-a62e-41df-b9d2-a4858a1ccc7c",
   "metadata": {
    "jp-MarkdownHeadingCollapsed": true
   },
   "source": [
    "### partial"
   ]
  },
  {
   "cell_type": "markdown",
   "id": "c2bb9787-64f0-4a14-8c0a-efc0274e69cd",
   "metadata": {},
   "source": [
    "Per funzioni complesse con molti argomenti, da richiamare piu volte senza specificare sempre gli stessi argomenti"
   ]
  },
  {
   "cell_type": "code",
   "execution_count": null,
   "id": "aeafd9d7-44d3-4965-92d8-fa8f6dab171c",
   "metadata": {},
   "outputs": [],
   "source": [
    "from functools import partial"
   ]
  },
  {
   "cell_type": "code",
   "execution_count": null,
   "id": "6bf1d3f0-c9f2-4e23-9a77-3d7d01866336",
   "metadata": {},
   "outputs": [],
   "source": [
    "def maggiore_di(a, b):\n",
    "    return a > b\n",
    "print(maggiore_di(15, 10))"
   ]
  },
  {
   "cell_type": "code",
   "execution_count": null,
   "id": "6070a8d7-3693-410d-bc7c-5ab3ce005810",
   "metadata": {},
   "outputs": [],
   "source": [
    "maggiore_di_20 = partial(maggiore_di, b=20)\n",
    "print(maggiore_di_20(15))"
   ]
  },
  {
   "cell_type": "markdown",
   "id": "1fb40fae-c049-44b4-af75-b25486c22715",
   "metadata": {},
   "source": [
    "Partial rende costante uno o più argomenti della funzione, questo per poterla richiamare più volte in più modi ben leggibili. \n",
    "Da notare che <U>l'implementazione</U> della funzione però, <U>è sempre la stessa</U>.\n",
    "\n",
    "Se si vuole modificare l'implementazione a seconda del tipo di argomento inserito, usare \n",
    "<a href=\"http://localhost:8888/notebooks/Jupyter/Python%20Learn/Librerie%20builtin/Decoratori/1.0%20-%20Decoratori%20per%20funzioni%20-%20[functools]Singedispatch%20(overloading%20di%20funzioni).ipynb\"><em>@singledispatch</em></a>\n",
    "\n",
    "Vi è anche la versione per i metodi nelle classi, sempre in functools, ed è <a href=\"http://localhost:8888/notebooks/Jupyter/Python%20Learn/Librerie%20builtin/Classi/1.0%20-%20Metodi%20che%20restituiscono%20metodi%20-%20[functools]Partialmethod%20(rende%20costanti%20alcuni%20degli%20argomenti%20senza%20cambiare%20implementazione).ipynb\"><strong>partialmethod</strong></a>\n",
    "\n",
    "Per maggiori dettagli la documentazione ufficiale di <a href=\"https://docs.python.org/3/library/functools.html\">functools</a>."
   ]
  },
  {
   "cell_type": "markdown",
   "id": "d5ae5b5d-9ff4-4a98-a1d2-c4901409b833",
   "metadata": {},
   "source": [
    "### partialmethod"
   ]
  },
  {
   "cell_type": "markdown",
   "id": "f862ea2c-c0ab-4eb6-93bb-3b051311eeea",
   "metadata": {},
   "source": [
    "Come in <strong>partial</strong></a> ma all'interno delle classi. Vediamo un esempio meno generico rispetto a quello visto in partial"
   ]
  },
  {
   "cell_type": "code",
   "execution_count": null,
   "id": "ea62ec77-5840-4472-8b80-e450054a9f4f",
   "metadata": {},
   "outputs": [],
   "source": [
    "from functools import partialmethod"
   ]
  },
  {
   "cell_type": "code",
   "execution_count": null,
   "id": "b2e153fb-d25e-44a2-8f0b-669f9c023abd",
   "metadata": {},
   "outputs": [],
   "source": [
    "class Stato:\n",
    "    def __init__(self):\n",
    "        self._stato = False\n",
    "        \n",
    "    @property\n",
    "    def stato(self): #getter\n",
    "        return self._stato\n",
    "    def set_stato(self, nuovo): #setter\n",
    "        self._stato = bool(nuovo)\n",
    "        \n",
    "    set_online = partialmethod(set_stato, True) #setter parzializzati\n",
    "    set_offline = partialmethod(set_stato, False)    "
   ]
  },
  {
   "cell_type": "markdown",
   "id": "3b24e960-ce4d-4861-b714-14dc6d124d48",
   "metadata": {},
   "source": [
    "In questo caso sfruttiamo partial per creare una funzione setter diversa per l'online e l'offline"
   ]
  },
  {
   "cell_type": "code",
   "execution_count": null,
   "id": "037d51f8-3652-42e3-b823-626f5ab9d6c8",
   "metadata": {},
   "outputs": [],
   "source": [
    "s = Stato()\n",
    "print(s.stato) # getter\n",
    "\n",
    "s.set_online() # setter parzializzato 1\n",
    "print(s.stato)\n",
    "\n",
    "s.set_offline() # setter parzializzato 2\n",
    "print(s.stato)"
   ]
  },
  {
   "cell_type": "markdown",
   "id": "6c884770-36c8-46a7-a65c-eea8d6949530",
   "metadata": {},
   "source": [
    "In questo esempio abbiamo visto come parzializzanado una funzione anche con un solo argomento, possiamo rendere il codice più leggibile.\n",
    "\n",
    "Se invece dobbiamo cambiare l'implementazione del metodo in funzione degli argomenti che gli diamo, allora usare <a href=\"http://localhost:8888/notebooks/Jupyter/Python%20Learn/Librerie%20builtin/Decoratori/2.0%20-%20Decoratori%20per%20metodi%20-%20[functools]Singledispatchmethod%20(overloading%20di%20metodi%20nelle%20classi).ipynb\"><em>@singledispatchmethod</em></a>\n",
    "\n",
    "Per maggiori dettagli la documentazione ufficiale di <a href=\"https://docs.python.org/3/library/functools.html\">functools</a>."
   ]
  },
  {
   "cell_type": "markdown",
   "id": "4da827b1-3173-4430-a362-44245399dbfa",
   "metadata": {},
   "source": [
    "### @singledispatch (Overloading funzioni)"
   ]
  },
  {
   "cell_type": "markdown",
   "id": "f79d8401-2365-43d3-a485-46d9eb75ba94",
   "metadata": {},
   "source": [
    "È un decoratore di funzioni built-in compreso in functools per l'Overloading\n",
    "\n",
    "Con questa funzione posso chiamare una funzione con diversi set di parametri, ovvero l'overloading, senza dover usare dei cicli if else per smistare i dati e fare diversi return nella funzione. Ma ATTENZIONE, <U>si chiama single dispatch proprio perchè quello che fa da dispatcher è il type del primo argomento che gli passiamo.</U> Inoltre funzionano solo sulle funzioni e non sui metodi nelle classi, per quello vedere <a href=\"http://localhost:8888/notebooks/Jupyter/Python%20Learn/Librerie%20builtin/Decoratori/2.0%20-%20Decoratori%20per%20metodi%20-%20[functools]Singledispatchmethod%20(overloading%20di%20metodi%20nelle%20classi).ipynb\"><em>@singledispatchmethod</em></a>.\n",
    "\n",
    "Per prima cosa richiamiamo il modulo che ci interessa"
   ]
  },
  {
   "cell_type": "code",
   "execution_count": null,
   "id": "0a627a55-347e-4389-a1ff-2dbf0593e0e4",
   "metadata": {},
   "outputs": [],
   "source": [
    "from functools import singledispatch"
   ]
  },
  {
   "cell_type": "markdown",
   "id": "dc2c8c49-e294-49f1-9149-1437ab4ab5d0",
   "metadata": {},
   "source": [
    "Poi creiamo la nostra funzione con il decoratore"
   ]
  },
  {
   "cell_type": "code",
   "execution_count": null,
   "id": "f2b8dfa0-e431-4620-b0fd-474fef15a7af",
   "metadata": {},
   "outputs": [],
   "source": [
    "@singledispatch\n",
    "def funzione(*args, **kwargs):\n",
    "    raise NotImplementedError(f\"Il tipo non è supportato\")"
   ]
  },
  {
   "cell_type": "markdown",
   "id": "bc768684-563c-416a-890f-b3a9a476e577",
   "metadata": {},
   "source": [
    "Questa prima definizione <U>viene eseguita solo se i successivi Overloading non combaciano con i dispatcher che abbiamo definito, ovvero funge da \"fallback\"</U>. Tuttavia è possibile scrivere codice qui dentro se serve. L'errore viene visualizzato se gli argomenti implementati (ancora non lo abbiamo fatto) non corrispondono con quelli chi implementeremo adesso\n",
    "\n",
    "Comunque, vediamo la versione implementata della prima parte di fallback, può servire in molti casi"
   ]
  },
  {
   "cell_type": "code",
   "execution_count": null,
   "id": "226d6ad8-f985-4e43-b02b-40b97a97d410",
   "metadata": {},
   "outputs": [],
   "source": [
    "@singledispatch\n",
    "def funzione(arg1, arg2):\n",
    "    try:\n",
    "        result = arg1 + arg2 # implementazione se va bene il try\n",
    "    except:\n",
    "        raise NotImplementedError(f\"Il tipo non è supportato\")\n",
    "    else:\n",
    "        return result"
   ]
  },
  {
   "cell_type": "markdown",
   "id": "476eef34-8097-4876-a9ea-82e7cff55fd5",
   "metadata": {},
   "source": [
    "Se il try va bene è ok, sennò da l'errore. Tutto dipende dai tipi che mettiamo nelle istanze. ATTENZIONE in questo caso ho definito il numero degli argomenti, ovvero 2. Se questo non viene rispettato si avrà un errore esterno. Potevo tenere *args e **kwargs per poi sommare con for x in args: result+=x ad esempio. Ho fatto cosi perchè si può, a scopo illustrativo\n",
    "\n",
    "Adesso andiamo ad implementare la parte successiva, ovvero tutte le varianti della funzione con i diversi set di parametri che ci servono. RICORDA <U>solo il primo argomento fa da dispatcher.</U> Per prima cosa richiamo il decoratore @funzione.register. Poi definisco la funzione con gli argomenti che ci interessano. Da notare che il nome puo essere omesso per evitare ridondanza, ma è meno leggibile. Basta dargli un nome qualsiasi, deve avere senso per la leggibilità. È il decoratore @funzione.register che fa fede alla funzione originale"
   ]
  },
  {
   "cell_type": "code",
   "execution_count": null,
   "id": "f1ec7c20-1088-4ad9-a0af-b7b5085a982f",
   "metadata": {},
   "outputs": [],
   "source": [
    "@funzione.register\n",
    "def _(arg1: int, arg2):\n",
    "    # qui possiamo metterci quello che vogliamo\n",
    "    print(\"funzione con primo argomento un intero\")"
   ]
  },
  {
   "cell_type": "markdown",
   "id": "f5de6de0-7f1a-4805-8c56-31048e5dab6a",
   "metadata": {},
   "source": [
    "Ovviamente possiamo implementare la funzione come vogliamo. Ora possiamo ad esempio definire gli argomenti con due stringe"
   ]
  },
  {
   "cell_type": "code",
   "execution_count": null,
   "id": "bc4ccbbe-3aa5-4598-8c4c-8e4b2f3b6bef",
   "metadata": {},
   "outputs": [],
   "source": [
    "@funzione.register\n",
    "def funzione_str(arg1: str, arg2):\n",
    "    # qui possiamo metterci quello che vogliamo\n",
    "    print(\"funzione con primo argomento una stringa\")"
   ]
  },
  {
   "cell_type": "markdown",
   "id": "b16b247f-5b95-4af4-baf3-de6e771cb641",
   "metadata": {},
   "source": [
    "Qui l'abbiamo chiamata funzione_str solo per la leggibilità, poteva chiamarsi sempre _.\n",
    "Adesso andiamo a richiamare le funzioni"
   ]
  },
  {
   "cell_type": "code",
   "execution_count": null,
   "id": "65d55dcc-aba7-4f86-88c7-9af9663d0566",
   "metadata": {},
   "outputs": [],
   "source": [
    "funzione(2, 2)\n",
    "funzione(2, \"banana\")\n",
    "print(\"   ~~~~~~~~~~~~~~~~~~~~~~~~~~~~~~~~\")\n",
    "funzione(\"5\", (x for x in range(10)))\n",
    "funzione(\"uno\", \"due\")"
   ]
  },
  {
   "cell_type": "markdown",
   "id": "895c99b5-bee8-43c9-95be-a99455250d59",
   "metadata": {},
   "source": [
    "Se richiamo una funzione che non abbiamo implementato con altri argomenti, si passa al fallback. Se l'implementazione col try funziona allota ritorna col return, altrimenti ho l'errore che ho scritto nel raise"
   ]
  },
  {
   "cell_type": "code",
   "execution_count": null,
   "id": "a0c6a705-ba65-4705-b0ec-cc3cfd196bdc",
   "metadata": {},
   "outputs": [],
   "source": [
    "funzione([1, 1],[2,2])"
   ]
  },
  {
   "cell_type": "markdown",
   "id": "48e7256e-fbc0-478d-bed4-1ff37885176a",
   "metadata": {},
   "source": [
    "Questo funziona, sono due liste, percio se le sommo si concatenano"
   ]
  },
  {
   "cell_type": "code",
   "execution_count": null,
   "id": "9f1cfaeb-b9ea-43ed-a508-8223f92cc794",
   "metadata": {},
   "outputs": [],
   "source": [
    "funzione(None, 1)"
   ]
  },
  {
   "cell_type": "markdown",
   "id": "a10a53fe-2132-4097-b580-fa8cb2885377",
   "metadata": {},
   "source": [
    "In questo caso ci dice che non è implementata quella funzione con l'argomento None, perchè sommare un None con qualsiasi tipo da errore al try. Infatti appare il messaggio che volevamo\n",
    "\n",
    "Se interessati esiste una libreria che non è builtin che permette il dispatch con più argomenti. Si chiama <strong>multipledispatch</strong>. Consultare <a href=\"https://martinheinz.dev/blog/50\"> questa pagina</a> per saperne di più\n",
    "\n",
    "In certi casi è meglio usare la funzione di functools <a href=\"http://localhost:8888/notebooks/Jupyter/Python%20Learn/Librerie%20builtin/Funzioni/1.0%20-%20Funzioni%20che%20ritornano%20funzioni%20-%20[functools]Partial%20(prende%20un%20numero%20di%20argomenti%20di%20una%20funzione%20e%20restituisce%20la%20stessa%20con%20quegli%20argomenti%20preimpostati).ipynb\"><strong>partial</strong></a>\n",
    "\n",
    "Per maggiori dettagli la documentazione ufficiale di <a href=\"https://docs.python.org/3/library/functools.html\">functools</a>."
   ]
  },
  {
   "cell_type": "markdown",
   "id": "b63a6d1d-d237-4b82-ade4-a029ac8fb69d",
   "metadata": {},
   "source": [
    "### @singledispatchmethod"
   ]
  },
  {
   "cell_type": "markdown",
   "id": "29b480a4-0e7b-4587-af73-1be12b3cab68",
   "metadata": {},
   "source": [
    "#### Overloading di metodi"
   ]
  },
  {
   "cell_type": "markdown",
   "id": "787e872a-c4bd-4630-83e0-eb5cf7c9694e",
   "metadata": {},
   "source": [
    "Come in <a href=\"http://localhost:8888/notebooks/Jupyter/Python%20Learn/Librerie%20builtin/Decoratori/1.0%20-%20Decoratori%20per%20funzioni%20-%20[functools]Singedispatch%20(overloading%20di%20funzioni).ipynb\"><em>@singledispatch</em></a> il dispatcher <U>è il type del primo argomento</U>, in questo caso pero <U>dopo il self o il cls</U> (si perchè puo essere usato anche in un <code class=\"inline\"><em>@classmethod</em></code>).\n",
    "\n",
    "Andiamo a richiamare la libreria, creiamo una classe e il metodo da decorare che funge da fallback, con i suoi dispatch"
   ]
  },
  {
   "cell_type": "code",
   "execution_count": null,
   "id": "f28c4efd-8228-4487-92c6-21cf320b6bb9",
   "metadata": {},
   "outputs": [],
   "source": [
    "from functools import singledispatchmethod"
   ]
  },
  {
   "cell_type": "code",
   "execution_count": null,
   "id": "b7188626-a345-4742-9f49-a6fe618420f2",
   "metadata": {},
   "outputs": [],
   "source": [
    "class Negatore:\n",
    "    @singledispatchmethod\n",
    "    def neg(self, arg):\n",
    "        raise NotImplementedError(\"Impossibile da negare\")\n",
    "\n",
    "    @neg.register\n",
    "    def _(self, arg: int):\n",
    "        return -arg\n",
    "\n",
    "    @neg.register\n",
    "    def _(self, arg: bool):\n",
    "        return not arg"
   ]
  },
  {
   "cell_type": "code",
   "execution_count": null,
   "id": "4204da9b-bd19-4488-8ba4-90c2f42319f4",
   "metadata": {},
   "outputs": [],
   "source": [
    "pippo = Negatore()\n",
    "print(pippo.neg(5))"
   ]
  },
  {
   "cell_type": "markdown",
   "id": "28f11e42-0652-467c-86db-a02e32d22338",
   "metadata": {},
   "source": [
    "Notare che il primo argomento deve essere sempre il self. Possiamo però usarla anche con le <code class=\"inline\"><em>@classmethod</em></code>, ma anche le <code class=\"inline\"><em>@staticmethod</em></code> e le <code class=\"inline\"><em>@abstractmethod</em></code>. Per fare ciò dobbiamo annidare (nesting) i due decoratori, facendo attenzione all'ordine in cui lo facciamo:"
   ]
  },
  {
   "cell_type": "code",
   "execution_count": null,
   "id": "118dca54-8cf9-4596-baf3-0b5b3f9e53d1",
   "metadata": {},
   "outputs": [],
   "source": [
    "class Negatore:\n",
    "    @singledispatchmethod\n",
    "    @classmethod\n",
    "    def neg(cls, arg):\n",
    "        raise NotImplementedError(\"Cannot negate a\")\n",
    "\n",
    "    @neg.register\n",
    "    @classmethod\n",
    "    def _(cls, arg: int):\n",
    "        return -arg\n",
    "\n",
    "    @neg.register\n",
    "    @classmethod\n",
    "    def _(cls, arg: bool):\n",
    "        return not arg"
   ]
  },
  {
   "cell_type": "code",
   "execution_count": null,
   "id": "79a8298f-d612-4816-a139-293d147a7521",
   "metadata": {},
   "outputs": [],
   "source": [
    "print(Negatore.neg(5))"
   ]
  },
  {
   "cell_type": "markdown",
   "id": "fa527818-7c90-4ffa-a5de-2f9d506d4a48",
   "metadata": {},
   "source": [
    "Quindi prima il decoratore del singledispatch, poi quello del metodo, come il classmethod in questo caso. Ovviamente adesso invece del self dobbiamo mettere cls."
   ]
  },
  {
   "cell_type": "markdown",
   "id": "c854875e-6f03-4948-b725-0175f15a240a",
   "metadata": {},
   "source": [
    "#### Caso particolare: Overloading nell' Overriding dei dunder methods"
   ]
  },
  {
   "cell_type": "markdown",
   "id": "89597171-20ad-438c-a1da-ee797f1591c6",
   "metadata": {},
   "source": [
    "<p>In questo caso andiamo a lavorare sul dunder <code class=\"inline\">__add__</code> in una classe</p>"
   ]
  },
  {
   "cell_type": "code",
   "execution_count": null,
   "id": "f9097bb6-9db1-4719-aab0-4ff149dd8086",
   "metadata": {},
   "outputs": [],
   "source": [
    "from dataclasses import dataclass\n",
    "from functools import singledispatchmethod"
   ]
  },
  {
   "cell_type": "markdown",
   "id": "41e1d398-2a65-4d92-b955-1cdb9122348c",
   "metadata": {},
   "source": [
    "Una classe di tipo data che prende una nota in forma di stringa, inoltre ne ottiene il suo corrispettivo valore valore numerico (da noi scelto) enumerando una tupla a partire da 1\n",
    "\n",
    "Quello che si vuole ottenere è che quando andiamo a sommare due oggetti della stessa classe, oppure un oggetto della classe con un intero, dia il valore numerico sommato. Se è maggiore di 12 si ritorna da capo a 1"
   ]
  },
  {
   "cell_type": "code",
   "execution_count": null,
   "id": "75ddb935-b54e-4379-ac15-d22d288fab4e",
   "metadata": {},
   "outputs": [],
   "source": [
    "@dataclass\n",
    "class Nota:\n",
    "    let: str\n",
    "\n",
    "    def __post_init__(self):\n",
    "        diesis = ('A', 'A#', 'B', 'C', 'C#', 'D', 'D#', 'E', 'F', 'F#', 'G', 'G#')\n",
    "        bemolle = ('A', 'Bb', 'B', 'C', 'Db', 'D', 'Eb', 'E', 'F', 'Gb', 'G', 'Ab')\n",
    "        pippo = diesis if self.let in diesis else bemolle\n",
    "        for n, l in enumerate(pippo, 1):\n",
    "            if l == self.let:\n",
    "                self.num = n\n",
    "    \n",
    "    @singledispatchmethod\n",
    "    def __add__(self, other):\n",
    "        try:\n",
    "            sum = self.num + other.num\n",
    "        except:\n",
    "            raise NotImplementedError(f\"Il tipo non è supportato\")\n",
    "        else:\n",
    "            sum = result - 12 if sum > 12 else sum\n",
    "            return sum\n",
    "\n",
    "    @__add__.register\n",
    "    def _(self, n: int):\n",
    "        sum = self.num + n\n",
    "        sum = sum - 12 if sum > 12 else sum\n",
    "        return sum"
   ]
  },
  {
   "cell_type": "markdown",
   "id": "bbd78a4c-5335-4c3d-b73c-0d4cd4fd71d4",
   "metadata": {},
   "source": [
    "<p>Da notare che nella funzione base (quella di fallback) come argomenti abbiamo messo quelle di default del dunder <code class=\"inline\">__add__</code>, ovvero self e other. Nel dispatcher abbiamo messo il self e poi l'argomento che dispatcha.</p>\n",
    "\n",
    "Per maggiori dettagli la documentazione ufficiale di <a href=\"https://docs.python.org/3/library/functools.html\">functools</a>."
   ]
  },
  {
   "cell_type": "markdown",
   "id": "ac3d41c6-a460-4192-9a64-a8f58481e3ca",
   "metadata": {},
   "source": [
    "## dataclasses"
   ]
  },
  {
   "cell_type": "markdown",
   "id": "47567951-3740-4f99-957a-7fcc8a448d09",
   "metadata": {},
   "source": [
    "### @dataclass "
   ]
  },
  {
   "cell_type": "markdown",
   "id": "951cc545-2e57-4e9b-8c92-caf16cda0fe1",
   "metadata": {},
   "source": [
    "Un decoratore studiato per impostare rapidamente una classe dedita ad ospitare dati\n",
    "\n",
    "Questo decoratore permette di generare una classe con i dunder methods __init__, __repr__ e __eq__ gia preimpostati. L'__init__ infatti è completamente omesso, per questioni di leggibilità, ma gli attributi definiti nella classe sono li. Intanto importiamo dataclass da dataclasses"
   ]
  },
  {
   "cell_type": "code",
   "execution_count": null,
   "id": "a9ed00ad-fbf9-4598-b197-45ba2cecc07d",
   "metadata": {},
   "outputs": [],
   "source": [
    "from dataclasses import dataclass"
   ]
  },
  {
   "cell_type": "markdown",
   "id": "8748daee-124d-4581-84f1-9a170a22279e",
   "metadata": {},
   "source": [
    "Ecco gli attributi che in realtà sono implemetati automaticamente nell'__init__. Attenzione, da notare che questi attributi, non possono essere definiti internamente alla classe. Non è nemmeno necessario esplicitare gli argomenti della clcasse"
   ]
  },
  {
   "cell_type": "code",
   "execution_count": null,
   "id": "2b65503c-f8e5-494c-81aa-aa79d5d640eb",
   "metadata": {},
   "outputs": [],
   "source": [
    "@dataclass\n",
    "class Scala:\n",
    "    tonica: int\n",
    "    modo: int\n",
    "    alterazione: str = \"#\"\n",
    "    tipo: str = \"Diatonica\""
   ]
  },
  {
   "cell_type": "markdown",
   "id": "dae80fd6-e778-4871-a942-51a4214d48ab",
   "metadata": {},
   "source": [
    "Tuttavia se è necessario definire alcuni attributi nella classe possiamo usare il dunder __post_init__, come se fosse l'__init__ classico delle classi, perdendo la bella leggibilità di prima purtroppo, con tutti i self"
   ]
  },
  {
   "cell_type": "code",
   "execution_count": null,
   "id": "7306c80c-2cbd-4e2a-b860-f0d9fd0d2d78",
   "metadata": {},
   "outputs": [],
   "source": [
    "@dataclass\n",
    "class Scala:\n",
    "    tonica: int\n",
    "    modo: int\n",
    "    alterazione: str = \"#\"\n",
    "    tipo: str = \"Diatonica\"\n",
    "    \n",
    "    def __post_init__(self):\n",
    "        if self.tipo == \"Diatonica\" and self.modo == 1:\n",
    "            self.intervalli = (2, 2, 1, 2, 2, 2, 1)"
   ]
  },
  {
   "cell_type": "markdown",
   "id": "aaac11e5-6cfa-40ff-87eb-d3cfb892dd99",
   "metadata": {},
   "source": [
    "Adesso usciamo dalla classe e andiamo a creare gli oggetti per vedere altre specialità"
   ]
  },
  {
   "cell_type": "code",
   "execution_count": null,
   "id": "76366df4-9fab-4c7c-949f-8c72f8962e21",
   "metadata": {},
   "outputs": [],
   "source": [
    "scala1 = Scala(4, 3, \"b\")\n",
    "print(scala1)"
   ]
  },
  {
   "cell_type": "markdown",
   "id": "0dc39208-adbb-48c3-a1e0-2c524658a624",
   "metadata": {},
   "source": [
    "La scala è stata creata ed è anche possibile printarla senza dichiarare l'istanza. Questo è possibile grazie al dunder __repr__ che viene creato automaticamente dal decoratore, in forma standard. Ora andiamo a provare il dunder __eq__\n",
    "\n",
    "Creo un'altra scala e provo a valutare se è uguale a quella di prima"
   ]
  },
  {
   "cell_type": "code",
   "execution_count": null,
   "id": "698af54d-301e-4613-bcd0-33e3bdff9714",
   "metadata": {},
   "outputs": [],
   "source": [
    "scala2 = Scala(4, 3, \"#\")\n",
    "print(scala1 == scala2)"
   ]
  },
  {
   "cell_type": "markdown",
   "id": "e9f923c6-562d-4e38-9bbc-2cbcb28c2464",
   "metadata": {},
   "source": [
    "Ci dice ovviamente che è falso. Questo è possibile solo grazie al dunder __eq__\n",
    "\n",
    "Se non ci piaciono come sono preimpostati i dunder, possiamo fare l'overriding\n",
    "\n",
    "Andiamo a modificare il modo di rappresentazione. Basta ridefinire il dunder __repr__"
   ]
  },
  {
   "cell_type": "code",
   "execution_count": null,
   "id": "13105997-3f43-448f-93d3-0beed35f8f87",
   "metadata": {},
   "outputs": [],
   "source": [
    "@dataclass\n",
    "class Scala:\n",
    "    tonica: int\n",
    "    modo: int\n",
    "    alterazione: str = \"#\"\n",
    "    tipo: str = \"Diatonica\"\n",
    "\n",
    "    def __repr__(self):                                 \n",
    "        return f\"{self.tonica} - {self.modo} - {self.tipo}\""
   ]
  },
  {
   "cell_type": "code",
   "execution_count": null,
   "id": "dd1c922d-2917-4bff-abb9-7e2bf7915d23",
   "metadata": {},
   "outputs": [],
   "source": [
    "print(Scala(1,1))"
   ]
  },
  {
   "cell_type": "markdown",
   "id": "e087a8d6-ffd2-4342-a3e6-797db04e9053",
   "metadata": {},
   "source": [
    "Abbiamo modificato il metodo di rappresentazione dell'oggetto. Possiamo modificare anche gli altri, ovvero __eq__, quindi come va a confrontare le classi, con quali attributi e in che modo, oppure volendo anche l'__init__, ma a quel punto non avrebbe proprio senso... Piuttosto usare il __post_init__ se necessario.\n",
    "\n",
    "Se andiamo a rendere vero il flag order negli argomenti della classe, possiamo usare gli altri dunder di contronto __lt__, __le__, __gt__, __ge__, ovvero rispettivamente <, <=, > e >=.\n",
    "\n",
    "ATTENZIONE</strong> questi dunder non possono essere overridati una volta attivato il Flag order. Se li devi modificare allora li devi esplicitare e tenere il flag false"
   ]
  },
  {
   "cell_type": "code",
   "execution_count": null,
   "id": "c73a2039-8114-4546-9153-ce5927a181b5",
   "metadata": {},
   "outputs": [],
   "source": [
    "@dataclass(order=True)\n",
    "class Scala:\n",
    "    tonica: int\n",
    "    modo: int\n",
    "    alterazione: str = \"#\"\n",
    "    tipo: str = \"Diatonica\"\n",
    "\n",
    "print(Scala(1, 1) < Scala(1, 2))\n",
    "print(Scala(1, 1) >= Scala(1, 2))"
   ]
  },
  {
   "cell_type": "markdown",
   "id": "55c13d46-22e1-44d4-ba07-b9eae4cd02f3",
   "metadata": {},
   "source": [
    "Con il flag frozen=True non possiamo andare a ridefinire gli attributi nelle istanze"
   ]
  },
  {
   "cell_type": "code",
   "execution_count": null,
   "id": "dd316b62-3aeb-48c0-abec-66eacf5efafd",
   "metadata": {},
   "outputs": [],
   "source": [
    "@dataclass(frozen=True)\n",
    "class Scala:\n",
    "    tonica: int\n",
    "    modo: int\n",
    "    alterazione: str = \"#\"\n",
    "    tipo: str = \"Diatonica\"\n",
    "\n",
    "scala = Scala(5, 5, \"#\")\n",
    "scala.alterazione = \"b\""
   ]
  },
  {
   "cell_type": "markdown",
   "id": "88a7f0ba-1e71-42f5-a904-4590329fa414",
   "metadata": {},
   "source": [
    "### astuple, asdict"
   ]
  },
  {
   "cell_type": "markdown",
   "id": "3ae6dbcc-e7f3-4b3d-8e97-e983db760168",
   "metadata": {},
   "source": [
    "Oltre a dataclass, possiamo aggiungere altre cose carine"
   ]
  },
  {
   "cell_type": "code",
   "execution_count": null,
   "id": "29738b80-7bc1-42fb-a16c-c933ab4e3018",
   "metadata": {},
   "outputs": [],
   "source": [
    "from dataclasses import dataclass, astuple, asdict"
   ]
  },
  {
   "cell_type": "code",
   "execution_count": null,
   "id": "a2f71200-b74e-4805-bb38-74cad48e1129",
   "metadata": {},
   "outputs": [],
   "source": [
    "@dataclass\n",
    "class Scala:\n",
    "    tonica: int\n",
    "    modo: int\n",
    "    alterazione: str = \"#\"\n",
    "    tipo: str = \"Diatonica\"\n",
    "\n",
    "print((Scala(1, 1)))\n",
    "print(astuple(Scala(1, 1)))         # prova, è meraviglioso\n",
    "print(asdict(Scala(1, 1)))"
   ]
  },
  {
   "cell_type": "markdown",
   "id": "b1730adf-c1fe-4a8b-9dbb-d415a481eba0",
   "metadata": {},
   "source": [
    "Questo è ottimo per usare i dati al volo in forma di tupla o dizionario\n",
    "\n",
    "Per ulteriori informazioni consultare la documentazione ufficiale di <a href=\"https://docs.python.org/3/library/dataclasses.html\">dataclasses</a> di python"
   ]
  }
 ],
 "metadata": {
  "kernelspec": {
   "display_name": "Python 3 (ipykernel)",
   "language": "python",
   "name": "python3"
  },
  "language_info": {
   "codemirror_mode": {
    "name": "ipython",
    "version": 3
   },
   "file_extension": ".py",
   "mimetype": "text/x-python",
   "name": "python",
   "nbconvert_exporter": "python",
   "pygments_lexer": "ipython3",
   "version": "3.11.0"
  }
 },
 "nbformat": 4,
 "nbformat_minor": 5
}
