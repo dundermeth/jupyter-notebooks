{
 "cells": [
  {
   "cell_type": "markdown",
   "id": "08d5fed7-42f1-4d2d-8c47-a68b5077a27d",
   "metadata": {},
   "source": [
    "<h1>Singledispatchmethod</h1>"
   ]
  },
  {
   "cell_type": "markdown",
   "id": "04efd1a1-bc07-4198-bec4-6bb446394284",
   "metadata": {},
   "source": [
    "<h2>Overloading dei metodi nelle classi</h2>"
   ]
  },
  {
   "cell_type": "markdown",
   "id": "f4b4c7d6-486e-4584-8a0f-4f941498e601",
   "metadata": {},
   "source": [
    "<p>Come in <a href=\"http://localhost:8888/notebooks/Jupyter/Python%20Learn/Librerie%20builtin/Decoratori/1.0%20-%20Decoratori%20per%20funzioni%20-%20[functools]Singedispatch%20(overloading%20di%20funzioni).ipynb\"><em>@singledispatch</em></a> il dispatcher <U>è il type del primo argomento</U>, in questo caso pero <U>dopo il self o il cls</U> (si perchè puo essere usato anche in un <code class=\"inline\"><em>@classmethod</em></code>).</p>"
   ]
  },
  {
   "cell_type": "markdown",
   "id": "f6df2ccf-b048-4b5e-b7ce-aa474c98bbcf",
   "metadata": {},
   "source": [
    "<p>Andiamo a richiamare la libreria, creiamo una classe e il metodo da decorare che funge da fallback, con i suoi dispatch</p>"
   ]
  },
  {
   "cell_type": "code",
   "execution_count": 1,
   "id": "65f9adc9-0dd7-4eaa-ae6a-7b7d6a2c744a",
   "metadata": {},
   "outputs": [],
   "source": [
    "from functools import singledispatchmethod"
   ]
  },
  {
   "cell_type": "code",
   "execution_count": 2,
   "id": "e716206f-d946-4cc6-81f2-2765bcff9864",
   "metadata": {},
   "outputs": [],
   "source": [
    "class Negatore:\n",
    "    @singledispatchmethod\n",
    "    def neg(self, arg):\n",
    "        raise NotImplementedError(\"Impossibile da negare\")\n",
    "\n",
    "    @neg.register\n",
    "    def _(self, arg: int):\n",
    "        return -arg\n",
    "\n",
    "    @neg.register\n",
    "    def _(self, arg: bool):\n",
    "        return not arg"
   ]
  },
  {
   "cell_type": "code",
   "execution_count": 3,
   "id": "d30cc06e-ea9a-411c-bee9-b4b422e67036",
   "metadata": {},
   "outputs": [
    {
     "name": "stdout",
     "output_type": "stream",
     "text": [
      "-5\n"
     ]
    }
   ],
   "source": [
    "pippo = Negatore()\n",
    "print(pippo.neg(5))"
   ]
  },
  {
   "cell_type": "markdown",
   "id": "4be6350d-953f-48fb-a929-c90b9fcfe857",
   "metadata": {},
   "source": [
    "<p>Notare che il primo argomento deve essere sempre il self. Possiamo però usarla anche con le <code class=\"inline\"><em>@classmethod</em></code>, ma anche le <code class=\"inline\"><em>@staticmethod</em></code> e le <code class=\"inline\"><em>@abstractmethod</em></code>. Per fare ciò dobbiamo annidare (nesting) i due decoratori, facendo attenzione all'ordine in cui lo facciamo:</p>"
   ]
  },
  {
   "cell_type": "code",
   "execution_count": 4,
   "id": "95fcd6b2-d054-4d56-921f-096fa1911562",
   "metadata": {},
   "outputs": [],
   "source": [
    "class Negatore:\n",
    "    @singledispatchmethod\n",
    "    @classmethod\n",
    "    def neg(cls, arg):\n",
    "        raise NotImplementedError(\"Cannot negate a\")\n",
    "\n",
    "    @neg.register\n",
    "    @classmethod\n",
    "    def _(cls, arg: int):\n",
    "        return -arg\n",
    "\n",
    "    @neg.register\n",
    "    @classmethod\n",
    "    def _(cls, arg: bool):\n",
    "        return not arg"
   ]
  },
  {
   "cell_type": "code",
   "execution_count": 5,
   "id": "197d7a52-279a-449d-8450-5bbc835b217c",
   "metadata": {},
   "outputs": [
    {
     "name": "stdout",
     "output_type": "stream",
     "text": [
      "-5\n"
     ]
    }
   ],
   "source": [
    "print(Negatore.neg(5))"
   ]
  },
  {
   "cell_type": "markdown",
   "id": "e05eaefc-57df-4816-abea-b20ce792d314",
   "metadata": {},
   "source": [
    "<p>Quindi prima il decoratore del singledispatch, poi quello del metodo, come il classmethod in questo caso. Ovviamente adesso invece del self dobbiamo mettere cls.</p>"
   ]
  },
  {
   "cell_type": "markdown",
   "id": "86afcee0-e084-44ef-b7b1-ccfb3c1d8999",
   "metadata": {},
   "source": [
    "<h2>Caso particolare: Overloading nell' Overriding dei dunder methods</h2>"
   ]
  },
  {
   "cell_type": "markdown",
   "id": "ddef815c-eed1-4979-956a-f573b401364f",
   "metadata": {},
   "source": [
    "<p>In questo caso andiamo a lavorare sul dunder <code class=\"inline\">__add__</code> in una classe</p>"
   ]
  },
  {
   "cell_type": "code",
   "execution_count": 6,
   "id": "008c8b5b-c57b-4e20-9c1f-6d69f61595f2",
   "metadata": {},
   "outputs": [],
   "source": [
    "from dataclasses import dataclass\n",
    "from functools import singledispatchmethod"
   ]
  },
  {
   "cell_type": "markdown",
   "id": "37e83b8d-131b-47a1-b6d0-3b5c63baed2a",
   "metadata": {},
   "source": [
    "<p>Una classe di tipo data che prende una nota in forma di stringa, inoltre ne ottiene il suo corrispettivo valore valore numerico (da noi scelto) enumerando una tupla a partire da 1</p>"
   ]
  },
  {
   "cell_type": "markdown",
   "id": "4ca7f130-8800-4b1e-970c-7affb2a806e2",
   "metadata": {},
   "source": [
    "<p>Quello che si vuole ottenere è che quando andiamo a sommare due oggetti della stessa classe, oppure un oggetto della classe con un intero, dia il valore numerico sommato. Se è maggiore di 12 si ritorna da capo a 1</p>"
   ]
  },
  {
   "cell_type": "code",
   "execution_count": 7,
   "id": "f63b0cdc-7139-4b39-8303-84e1c8829b6a",
   "metadata": {},
   "outputs": [],
   "source": [
    "@dataclass\n",
    "class Nota:\n",
    "    let: str\n",
    "\n",
    "    def __post_init__(self):\n",
    "        diesis = ('A', 'A#', 'B', 'C', 'C#', 'D', 'D#', 'E', 'F', 'F#', 'G', 'G#')\n",
    "        bemolle = ('A', 'Bb', 'B', 'C', 'Db', 'D', 'Eb', 'E', 'F', 'Gb', 'G', 'Ab')\n",
    "        pippo = diesis if self.let in diesis else bemolle\n",
    "        for n, l in enumerate(pippo, 1):\n",
    "            if l == self.let:\n",
    "                self.num = n\n",
    "    \n",
    "    @singledispatchmethod\n",
    "    def __add__(self, other):\n",
    "        try:\n",
    "            sum = self.num + other.num\n",
    "        except:\n",
    "            raise NotImplementedError(f\"Il tipo non è supportato\")\n",
    "        else:\n",
    "            sum = result - 12 if sum > 12 else sum\n",
    "            return sum\n",
    "\n",
    "    @__add__.register\n",
    "    def _(self, n: int):\n",
    "        sum = self.num + n\n",
    "        sum = sum - 12 if sum > 12 else sum\n",
    "        return sum"
   ]
  },
  {
   "cell_type": "code",
   "execution_count": 8,
   "id": "a34eab85-6754-4876-b70b-230b77131ab7",
   "metadata": {},
   "outputs": [
    {
     "name": "stdout",
     "output_type": "stream",
     "text": [
      "5\n",
      "1\n"
     ]
    }
   ],
   "source": [
    "do = Nota(\"C\")\n",
    "la = Nota(\"A\")\n",
    "\n",
    "print(do+la) # sarebbe 4 + 1\n",
    "print(do + 9) # sarebbe 13, e quindi ritorna a 1"
   ]
  },
  {
   "cell_type": "markdown",
   "id": "3864e383-3537-4a23-bfb0-e0d2df6bf417",
   "metadata": {},
   "source": [
    "<p>Da notare che nella funzione base (quella di fallback) come argomenti abbiamo messo quelle di default del dunder <code class=\"inline\">__add__</code>, ovvero self e other. Nel dispatcher abbiamo messo il self e poi l'argomento che dispatcha.</p>"
   ]
  },
  {
   "cell_type": "markdown",
   "id": "3d94d496-bb1e-4bd4-913a-913f8762a89a",
   "metadata": {},
   "source": [
    "<p>Per maggiori dettagli la documentazione ufficiale di <a href=\"https://docs.python.org/3/library/functools.html\">functools</a>.\n",
    "</p>"
   ]
  },
  {
   "cell_type": "code",
   "execution_count": null,
   "id": "6dd6b60d-47b0-4b1b-8eea-e936c84ac209",
   "metadata": {},
   "outputs": [],
   "source": []
  }
 ],
 "metadata": {
  "kernelspec": {
   "display_name": "Python 3 (ipykernel)",
   "language": "python",
   "name": "python3"
  },
  "language_info": {
   "codemirror_mode": {
    "name": "ipython",
    "version": 3
   },
   "file_extension": ".py",
   "mimetype": "text/x-python",
   "name": "python",
   "nbconvert_exporter": "python",
   "pygments_lexer": "ipython3",
   "version": "3.11.0"
  }
 },
 "nbformat": 4,
 "nbformat_minor": 5
}
