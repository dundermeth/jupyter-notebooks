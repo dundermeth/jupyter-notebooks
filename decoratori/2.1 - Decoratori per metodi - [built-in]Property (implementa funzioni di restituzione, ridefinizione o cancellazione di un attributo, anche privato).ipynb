{
 "cells": [
  {
   "cell_type": "markdown",
   "id": "94ca1201-7b1d-4f81-a9a2-4853bc7fe42e",
   "metadata": {},
   "source": [
    "<h1>Property</h1>"
   ]
  },
  {
   "cell_type": "markdown",
   "id": "14f9fa88-a924-4e09-b964-69187c742112",
   "metadata": {},
   "source": [
    "<h2>Decoratore per rendere pythonici le funzioni getter setter e deleter</h2>"
   ]
  },
  {
   "cell_type": "markdown",
   "id": "4fa951c2-6531-479e-a019-c16e0dfcd528",
   "metadata": {},
   "source": [
    "<p>Nelle classi si possono creare attributi privati, che servono solo per uso interno diciamo,\n",
    "a volte però è necessario settarli dall'esterno, perciò servono delle funzioni nella classe per,\n",
    "settarle, ottenerne il valore, oppure cancellarle, ovvero funzioni dette getter, setter e deleter.\n",
    "Il decoratore property lo fa in modo piu pythonico quindi piu leggibile e mantenibile.</p>"
   ]
  },
  {
   "cell_type": "code",
   "execution_count": 1,
   "id": "ff80646c-c342-4f4b-8b12-9403a022b0b8",
   "metadata": {},
   "outputs": [],
   "source": [
    "class Teleconduttore:\n",
    "    def __init__(self, p):\n",
    "        self._pippo = p         # quando un attributo inizia con _, allora è privato\n",
    "\n",
    "    @property                   # questo è il getter, ovvero una funzione che restituisce il valore\n",
    "    def baudo(self):\n",
    "        return self._pippo  \n",
    "\n",
    "    @baudo.setter               # questo è il setter\n",
    "    def baudo(self, val):\n",
    "        self._pippo = val\n",
    "\n",
    "    @baudo.deleter              # questo è il deleter\n",
    "    def baudo(self):\n",
    "        del self._pippo"
   ]
  },
  {
   "cell_type": "markdown",
   "id": "5ba9c581-dbbd-4cc4-b373-34aac6cea17b",
   "metadata": {},
   "source": [
    "<p>Adesso lo andiamo a provare</p>"
   ]
  },
  {
   "cell_type": "code",
   "execution_count": 2,
   "id": "0dbc234e-b2bc-4df0-98ff-6e1449bb722b",
   "metadata": {},
   "outputs": [
    {
     "name": "stdout",
     "output_type": "stream",
     "text": [
      "10\n",
      "5\n"
     ]
    }
   ],
   "source": [
    "sanremo = Teleconduttore(10)\n",
    "\n",
    "print(sanremo.baudo)  # qui eseguo il getter per printarlo\n",
    "\n",
    "sanremo.baudo = 5     # qui eseguo il setter e printo con il getter\n",
    "print(sanremo.baudo)\n",
    "\n",
    "del sanremo.baudo     # questo è il deleter che fa sparire _pippo dalla faccia della terra"
   ]
  },
  {
   "cell_type": "markdown",
   "id": "e20ed918-d552-4690-9dc3-dae470fb7e33",
   "metadata": {},
   "source": [
    "<p>Se adesso andiamo a printare baudo ci da errore</p>"
   ]
  },
  {
   "cell_type": "code",
   "execution_count": 3,
   "id": "17ca2cc8-c53d-4c4f-8cc0-f229bf4ff878",
   "metadata": {},
   "outputs": [
    {
     "ename": "AttributeError",
     "evalue": "'Teleconduttore' object has no attribute '_pippo'",
     "output_type": "error",
     "traceback": [
      "\u001b[0;31m---------------------------------------------------------------------------\u001b[0m",
      "\u001b[0;31mAttributeError\u001b[0m                            Traceback (most recent call last)",
      "Cell \u001b[0;32mIn[3], line 1\u001b[0m\n\u001b[0;32m----> 1\u001b[0m \u001b[38;5;28mprint\u001b[39m(\u001b[43msanremo\u001b[49m\u001b[38;5;241;43m.\u001b[39;49m\u001b[43mbaudo\u001b[49m)\n",
      "Cell \u001b[0;32mIn[1], line 7\u001b[0m, in \u001b[0;36mTeleconduttore.baudo\u001b[0;34m(self)\u001b[0m\n\u001b[1;32m      5\u001b[0m \u001b[38;5;129m@property\u001b[39m                   \u001b[38;5;66;03m# questo è il getter, ovvero una funzione che restituisce il valore\u001b[39;00m\n\u001b[1;32m      6\u001b[0m \u001b[38;5;28;01mdef\u001b[39;00m \u001b[38;5;21mbaudo\u001b[39m(\u001b[38;5;28mself\u001b[39m):\n\u001b[0;32m----> 7\u001b[0m     \u001b[38;5;28;01mreturn\u001b[39;00m \u001b[38;5;28;43mself\u001b[39;49m\u001b[38;5;241;43m.\u001b[39;49m\u001b[43m_pippo\u001b[49m\n",
      "\u001b[0;31mAttributeError\u001b[0m: 'Teleconduttore' object has no attribute '_pippo'"
     ]
    }
   ],
   "source": [
    "print(sanremo.baudo)"
   ]
  },
  {
   "cell_type": "markdown",
   "id": "a0038950-d395-43aa-ae88-ddf527cf9e1e",
   "metadata": {},
   "source": [
    "<p>Per maggiori dettagli la documentazione ufficiale delle <a href=\"https://docs.python.org/3/library/functions.html#property\">built-in</a> di python.\n",
    "</p>"
   ]
  },
  {
   "cell_type": "code",
   "execution_count": null,
   "id": "a78bad22-0d0d-4b34-a08f-40e753b12566",
   "metadata": {},
   "outputs": [],
   "source": []
  }
 ],
 "metadata": {
  "kernelspec": {
   "display_name": "Python 3 (ipykernel)",
   "language": "python",
   "name": "python3"
  },
  "language_info": {
   "codemirror_mode": {
    "name": "ipython",
    "version": 3
   },
   "file_extension": ".py",
   "mimetype": "text/x-python",
   "name": "python",
   "nbconvert_exporter": "python",
   "pygments_lexer": "ipython3",
   "version": "3.11.0"
  }
 },
 "nbformat": 4,
 "nbformat_minor": 5
}
