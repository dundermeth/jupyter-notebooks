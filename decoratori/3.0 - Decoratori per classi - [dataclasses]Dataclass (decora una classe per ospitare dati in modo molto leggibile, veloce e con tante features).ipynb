{
 "cells": [
  {
   "cell_type": "markdown",
   "id": "4490b532-c9bb-442f-959f-b934b2851ef3",
   "metadata": {},
   "source": [
    "<h1>Dataclass</h1>"
   ]
  },
  {
   "cell_type": "markdown",
   "id": "818203c7-df43-4d86-8a7a-80f2849d9646",
   "metadata": {},
   "source": [
    "<h2>Un decoratore studiato per impostare rapidamente una classe dedita ad ospitare dati</h2>"
   ]
  },
  {
   "cell_type": "markdown",
   "id": "6df8fb0e-a381-45a3-8da7-9ea2fee11847",
   "metadata": {},
   "source": [
    "<p>Questo decoratore permette di generare una classe con i dunder methods __init__, __repr__ e __eq__ gia preimpostati. L'__init__ infatti è completamente omesso, per questioni di leggibilità, ma gli attributi definiti nella classe sono li. Intanto importiamo dataclass da dataclasses</p>"
   ]
  },
  {
   "cell_type": "code",
   "execution_count": 1,
   "id": "c976b8cb-62da-4feb-9ba2-f5b05bf500ca",
   "metadata": {},
   "outputs": [],
   "source": [
    "from dataclasses import dataclass"
   ]
  },
  {
   "cell_type": "markdown",
   "id": "2a83e16b-af29-4a3a-9a19-28957c2ef415",
   "metadata": {},
   "source": [
    "<p>Ecco gli attributi che in realtà sono implemetati automaticamente nell'__init__. Attenzione, da notare che questi attributi, non possono essere definiti internamente alla classe. Non è nemmeno necessario esplicitare gli argomenti della clcasse</p>"
   ]
  },
  {
   "cell_type": "code",
   "execution_count": 2,
   "id": "1268153f-929b-4455-b2ac-923319e492a3",
   "metadata": {},
   "outputs": [],
   "source": [
    "@dataclass\n",
    "class Scala:\n",
    "    tonica: int\n",
    "    modo: int\n",
    "    alterazione: str = \"#\"\n",
    "    tipo: str = \"Diatonica\""
   ]
  },
  {
   "cell_type": "markdown",
   "id": "bdd15fcf-5a60-4423-9708-9aeaff501a0d",
   "metadata": {},
   "source": [
    "<p>Tuttavia se è necessario definire alcuni attributi nella classe possiamo usare il dunder __post_init__, come se fosse l'__init__ classico delle classi, perdendo la bella leggibilità di prima purtroppo, con tutti i self</p>"
   ]
  },
  {
   "cell_type": "code",
   "execution_count": 3,
   "id": "0879a684-6c48-43f7-bc8f-27284c6f5191",
   "metadata": {},
   "outputs": [],
   "source": [
    "@dataclass\n",
    "class Scala:\n",
    "    tonica: int\n",
    "    modo: int\n",
    "    alterazione: str = \"#\"\n",
    "    tipo: str = \"Diatonica\"\n",
    "    \n",
    "    def __post_init__(self):\n",
    "        if self.tipo == \"Diatonica\" and self.modo == 1:\n",
    "            self.intervalli = (2, 2, 1, 2, 2, 2, 1)"
   ]
  },
  {
   "cell_type": "markdown",
   "id": "60b31aae-07ee-4d31-b656-dba6a9b5ebbf",
   "metadata": {},
   "source": [
    "<p>Adesso usciamo dalla classe e andiamo a creare gli oggetti per vedere altre specialità</p>"
   ]
  },
  {
   "cell_type": "code",
   "execution_count": 4,
   "id": "653cdeb8-82c3-4f0c-b679-fa61d91ae110",
   "metadata": {},
   "outputs": [
    {
     "name": "stdout",
     "output_type": "stream",
     "text": [
      "Scala(tonica=4, modo=3, alterazione='b', tipo='Diatonica')\n"
     ]
    }
   ],
   "source": [
    "scala1 = Scala(4, 3, \"b\")\n",
    "print(scala1)"
   ]
  },
  {
   "cell_type": "markdown",
   "id": "1b957e3e-1902-4531-8471-e3dae59f2432",
   "metadata": {},
   "source": [
    "<p>La scala è stata creata ed è anche possibile printarla senza dichiarare l'istanza. Questo è possibile grazie al dunder __repr__ che viene creato automaticamente dal decoratore, in forma standard. Ora andiamo a provare il dunder __eq__</p>"
   ]
  },
  {
   "cell_type": "markdown",
   "id": "7e017746-ceee-4c51-848c-23a8c64c2bb0",
   "metadata": {},
   "source": [
    "<p>Creo un'altra scala e provo a valutare se è uguale a quella di prima</p>"
   ]
  },
  {
   "cell_type": "code",
   "execution_count": 5,
   "id": "488aa94a-18c7-483c-9e59-6c224ed32851",
   "metadata": {},
   "outputs": [
    {
     "name": "stdout",
     "output_type": "stream",
     "text": [
      "False\n"
     ]
    }
   ],
   "source": [
    "scala2 = Scala(4, 3, \"#\")\n",
    "print(scala1 == scala2)"
   ]
  },
  {
   "cell_type": "markdown",
   "id": "c29ce1e7-7a51-4120-8362-8119142faf75",
   "metadata": {},
   "source": [
    "<p>Ci dice ovviamente che è falso. Questo è possibile solo grazie al dunder __eq__</p>"
   ]
  },
  {
   "cell_type": "markdown",
   "id": "c7ff8e6f-7226-488a-a19d-63b41783b1cd",
   "metadata": {},
   "source": [
    "<p>Se non ci piaciono come sono preimpostati i dunder, possiamo fare l'override</p>"
   ]
  },
  {
   "cell_type": "markdown",
   "id": "a9fb676a-c4e3-4f92-87d2-661943fd5f0d",
   "metadata": {},
   "source": [
    "<h2>Overriding: sovrascrivere un metodo di una classe base senza alterare i parametri</h2>"
   ]
  },
  {
   "cell_type": "markdown",
   "id": "205a114a-b1e4-4b22-89da-882c73f06cd8",
   "metadata": {},
   "source": [
    "<p>Andiamo a modificare il modo di rappresentazione. Basta ridefinire il dunder __repr__</p>"
   ]
  },
  {
   "cell_type": "code",
   "execution_count": 6,
   "id": "6d4e8cc9-0483-4871-80fc-4966a5a46fb3",
   "metadata": {},
   "outputs": [],
   "source": [
    "@dataclass\n",
    "class Scala:\n",
    "    tonica: int\n",
    "    modo: int\n",
    "    alterazione: str = \"#\"\n",
    "    tipo: str = \"Diatonica\"\n",
    "\n",
    "    def __repr__(self):                                 \n",
    "        return f\"{self.tonica} - {self.modo} - {self.tipo}\""
   ]
  },
  {
   "cell_type": "markdown",
   "id": "912ef43b-8e38-4456-9606-1683988d69af",
   "metadata": {},
   "source": [
    "<p>Vediamo l'output</p>"
   ]
  },
  {
   "cell_type": "code",
   "execution_count": 7,
   "id": "dbaba88c-dc0b-4781-a640-292ed30e8263",
   "metadata": {},
   "outputs": [
    {
     "name": "stdout",
     "output_type": "stream",
     "text": [
      "1 - 1 - Diatonica\n"
     ]
    }
   ],
   "source": [
    "print(Scala(1,1))"
   ]
  },
  {
   "cell_type": "markdown",
   "id": "62538f2c-8a07-4140-a7a2-02f0858a3f2e",
   "metadata": {},
   "source": [
    "<p>Abbiamo modificato il metodo di rappresentazione dell'oggetto. Possiamo modificare anche gli altri, ovvero __eq__, quindi come va a confrontare le classi, con quali attributi e in che modo, oppure volendo anche l'__init__, ma a quel punto non avrebbe proprio senso... Piuttosto usare il __post_init__ se necessario</p>"
   ]
  },
  {
   "cell_type": "markdown",
   "id": "34b1895c-431b-40e0-a28a-f604dae68886",
   "metadata": {},
   "source": [
    "<h2>Flag order: dunder aggiuntivi __lt__, __le__, __gt__, __ge__</h2>"
   ]
  },
  {
   "cell_type": "markdown",
   "id": "8ed9683e-3da8-499c-a076-905832bf34b9",
   "metadata": {},
   "source": [
    "<p>Se andiamo a rendere vero il flag order negli argomenti della classe, possiamo usare gli altri dunder di contronto, ovvero <, <=, > e >=</p>"
   ]
  },
  {
   "cell_type": "code",
   "execution_count": 8,
   "id": "24e08e46-8556-4c63-83d6-3b343aa7ec33",
   "metadata": {},
   "outputs": [
    {
     "name": "stdout",
     "output_type": "stream",
     "text": [
      "True\n",
      "False\n"
     ]
    }
   ],
   "source": [
    "@dataclass(order=True)\n",
    "class Scala:\n",
    "    tonica: int\n",
    "    modo: int\n",
    "    alterazione: str = \"#\"\n",
    "    tipo: str = \"Diatonica\"\n",
    "\n",
    "print(Scala(1, 1) < Scala(1, 2))\n",
    "print(Scala(1, 1) >= Scala(1, 2))"
   ]
  },
  {
   "cell_type": "markdown",
   "id": "89d46c5b-6597-4155-b6f0-0d9de46872fc",
   "metadata": {},
   "source": [
    "<p><strong>ATTENZIONE</strong> questi dunder non possono essere overridati una volta attivato il Flag order. Se li devi modificare allora li devi esplicitare e tenere il flag false</p>"
   ]
  },
  {
   "cell_type": "markdown",
   "id": "c5ed133d-5a82-4160-a6c5-148707de2269",
   "metadata": {},
   "source": [
    "<h2>Flag frozen: attributi readonly</h2>"
   ]
  },
  {
   "cell_type": "markdown",
   "id": "ad8ca058-93bc-4419-a071-c9319d70ec95",
   "metadata": {},
   "source": [
    "<p>Con questo flag non possiamo andare a ridefinire gli attributi nelle istanze</p>"
   ]
  },
  {
   "cell_type": "code",
   "execution_count": 9,
   "id": "43c21609-db78-44e8-ad46-f3c6e56fd6c7",
   "metadata": {},
   "outputs": [
    {
     "ename": "FrozenInstanceError",
     "evalue": "cannot assign to field 'alterazione'",
     "output_type": "error",
     "traceback": [
      "\u001b[0;31m---------------------------------------------------------------------------\u001b[0m",
      "\u001b[0;31mFrozenInstanceError\u001b[0m                       Traceback (most recent call last)",
      "Cell \u001b[0;32mIn[9], line 9\u001b[0m\n\u001b[1;32m      6\u001b[0m     tipo: \u001b[38;5;28mstr\u001b[39m \u001b[38;5;241m=\u001b[39m \u001b[38;5;124m\"\u001b[39m\u001b[38;5;124mDiatonica\u001b[39m\u001b[38;5;124m\"\u001b[39m\n\u001b[1;32m      8\u001b[0m scala \u001b[38;5;241m=\u001b[39m Scala(\u001b[38;5;241m5\u001b[39m, \u001b[38;5;241m5\u001b[39m, \u001b[38;5;124m\"\u001b[39m\u001b[38;5;124m#\u001b[39m\u001b[38;5;124m\"\u001b[39m)\n\u001b[0;32m----> 9\u001b[0m \u001b[43mscala\u001b[49m\u001b[38;5;241;43m.\u001b[39;49m\u001b[43malterazione\u001b[49m \u001b[38;5;241m=\u001b[39m \u001b[38;5;124m\"\u001b[39m\u001b[38;5;124mb\u001b[39m\u001b[38;5;124m\"\u001b[39m\n",
      "File \u001b[0;32m<string>:4\u001b[0m, in \u001b[0;36m__setattr__\u001b[0;34m(self, name, value)\u001b[0m\n",
      "\u001b[0;31mFrozenInstanceError\u001b[0m: cannot assign to field 'alterazione'"
     ]
    }
   ],
   "source": [
    "@dataclass(frozen=True)\n",
    "class Scala:\n",
    "    tonica: int\n",
    "    modo: int\n",
    "    alterazione: str = \"#\"\n",
    "    tipo: str = \"Diatonica\"\n",
    "\n",
    "scala = Scala(5, 5, \"#\")\n",
    "scala.alterazione = \"b\""
   ]
  },
  {
   "cell_type": "markdown",
   "id": "69f0c484-2d6e-4776-9da5-3056cac8e2b2",
   "metadata": {},
   "source": [
    "<p>E infatti da errore</p>"
   ]
  },
  {
   "cell_type": "markdown",
   "id": "75764aa9-f5e6-4a12-b696-59ca2a20e8ce",
   "metadata": {},
   "source": [
    "<h2>Ulteriori funzioni utili in Dataclasses</h2>"
   ]
  },
  {
   "cell_type": "markdown",
   "id": "56658b87-37ef-4eb2-bf3e-b19677f3b420",
   "metadata": {},
   "source": [
    "<p>Oltre a dataclass, possiamo aggiungere altre cose carine</p>"
   ]
  },
  {
   "cell_type": "code",
   "execution_count": null,
   "id": "a11dd66f-7b7d-4e89-af06-9e135343844a",
   "metadata": {},
   "outputs": [],
   "source": [
    "from dataclasses import dataclass, astuple, asdict"
   ]
  },
  {
   "cell_type": "code",
   "execution_count": null,
   "id": "b7cee4fb-9ce8-4dda-b0cb-c4bf9cb9c854",
   "metadata": {},
   "outputs": [],
   "source": [
    "@dataclass\n",
    "class Scala:\n",
    "    tonica: int\n",
    "    modo: int\n",
    "    alterazione: str = \"#\"\n",
    "    tipo: str = \"Diatonica\"\n",
    "\n",
    "print((Scala(1, 1)))\n",
    "print(astuple(Scala(1, 1)))         # prova, è meraviglioso\n",
    "print(asdict(Scala(1, 1)))"
   ]
  },
  {
   "cell_type": "markdown",
   "id": "1ad68727-a999-40ca-98d6-dd2ddbcb3043",
   "metadata": {},
   "source": [
    "<p>Questo è ottimo per usare i dati al volo in forma di tupla o dizionario</p>"
   ]
  },
  {
   "cell_type": "markdown",
   "id": "99c72025-e73d-47f0-9a4f-24768345fc47",
   "metadata": {},
   "source": [
    "<p>Per ulteriori informazioni consultare la documentazione ufficiale di <a href=\"https://docs.python.org/3/library/dataclasses.html\">dataclasses</a> di python</p>"
   ]
  },
  {
   "cell_type": "code",
   "execution_count": null,
   "id": "d56a9dde-bcae-443a-a0b3-2c8dd4f32b36",
   "metadata": {},
   "outputs": [],
   "source": []
  }
 ],
 "metadata": {
  "kernelspec": {
   "display_name": "Python 3 (ipykernel)",
   "language": "python",
   "name": "python3"
  },
  "language_info": {
   "codemirror_mode": {
    "name": "ipython",
    "version": 3
   },
   "file_extension": ".py",
   "mimetype": "text/x-python",
   "name": "python",
   "nbconvert_exporter": "python",
   "pygments_lexer": "ipython3",
   "version": "3.11.0"
  }
 },
 "nbformat": 4,
 "nbformat_minor": 5
}
