{
 "cells": [
  {
   "cell_type": "markdown",
   "id": "d2ff82e0-f0fa-446c-b08f-d6a444191efa",
   "metadata": {},
   "source": [
    "<h1>Come creare un decoratore</h1>\n",
    "<h2>Decoratore basic</h2>\n",
    "<p>Il decoratore si ciuccia la funzione, ne estrapola gli argomenti args e le keywords kwargs, se li lavora e poi gli rimette dentro i valori args e kwargs modificati.</p>"
   ]
  },
  {
   "cell_type": "markdown",
   "id": "76f821e2-0751-43fd-8bfa-5b2ccc8affc0",
   "metadata": {},
   "source": [
    "<p>Creiamo l'implementazione del decoratore</p>"
   ]
  },
  {
   "cell_type": "code",
   "execution_count": 1,
   "id": "53132197-4b83-4eda-ab2b-f357ace1bc88",
   "metadata": {},
   "outputs": [],
   "source": [
    "def decoratore(funzione):\n",
    "    def wrapper(*args, **kwargs):\n",
    "        \"\"\"Documentazione del wrapper - non ci interessa\"\"\"\n",
    "        print(args)\n",
    "        print(kwargs)\n",
    "        output = funzione(*args, **kwargs)\n",
    "        return output\n",
    "    return wrapper"
   ]
  },
  {
   "cell_type": "markdown",
   "id": "b4dd58dd-d0cf-42d4-9508-ff1f380e4fd0",
   "metadata": {},
   "source": [
    "<p>La documentazione che vediamo qui servirà per capire il prossimo capitolo, per adesso non ci interessa. Accenniamo il problema in fondo a questo paragrafo</p>"
   ]
  },
  {
   "cell_type": "markdown",
   "id": "ff27521b-bc86-4687-beac-3138c3f09cef",
   "metadata": {},
   "source": [
    "<p>Applichiamo il decoratore ad una funzione dichiarata e implementata</p>"
   ]
  },
  {
   "cell_type": "code",
   "execution_count": 2,
   "id": "41f1efba-e37b-467c-97a0-82a9055340fe",
   "metadata": {},
   "outputs": [],
   "source": [
    "@decoratore\n",
    "def cavia(a, b):\n",
    "    \"\"\"Documentazione di cavia - questa è quella che vogliamo\"\"\"\n",
    "    return a + b"
   ]
  },
  {
   "cell_type": "markdown",
   "id": "7f6c5b59-28e1-4566-8923-417b4179a3d3",
   "metadata": {},
   "source": [
    "<p>Richiamo la funzione, e ci metto apposta un argomento e una keyword, giusto per vedere l'intero output</p>"
   ]
  },
  {
   "cell_type": "code",
   "execution_count": 3,
   "id": "dacbbd6a-944d-49aa-8597-1ac5bfa7d6d3",
   "metadata": {},
   "outputs": [
    {
     "name": "stdout",
     "output_type": "stream",
     "text": [
      "(5,)\n",
      "{'b': 5}\n"
     ]
    },
    {
     "data": {
      "text/plain": [
       "10"
      ]
     },
     "execution_count": 3,
     "metadata": {},
     "output_type": "execute_result"
    }
   ],
   "source": [
    "cavia(5,b=5)"
   ]
  },
  {
   "cell_type": "markdown",
   "id": "0a73d019-87a7-4e43-a31b-79a45d260b3d",
   "metadata": {},
   "source": [
    "<p>Abbiamo un piccolo problema, la documentazione non funziona bene cosi:</p>"
   ]
  },
  {
   "cell_type": "code",
   "execution_count": 4,
   "id": "c323e9fb-b902-4176-b438-f1b1e3b4e625",
   "metadata": {},
   "outputs": [
    {
     "ename": "NameError",
     "evalue": "name 'cavia1' is not defined",
     "output_type": "error",
     "traceback": [
      "\u001b[0;31m---------------------------------------------------------------------------\u001b[0m",
      "\u001b[0;31mNameError\u001b[0m                                 Traceback (most recent call last)",
      "Cell \u001b[0;32mIn[4], line 1\u001b[0m\n\u001b[0;32m----> 1\u001b[0m \u001b[38;5;28mprint\u001b[39m(\u001b[43mcavia1\u001b[49m\u001b[38;5;241m.\u001b[39m\u001b[38;5;18m__name__\u001b[39m)\n\u001b[1;32m      2\u001b[0m \u001b[38;5;28mprint\u001b[39m(cavia1\u001b[38;5;241m.\u001b[39m\u001b[38;5;18m__doc__\u001b[39m)\n",
      "\u001b[0;31mNameError\u001b[0m: name 'cavia1' is not defined"
     ]
    }
   ],
   "source": [
    "print(cavia1.__name__)\n",
    "print(cavia1.__doc__)"
   ]
  },
  {
   "cell_type": "markdown",
   "id": "eddb8c31-2e55-4390-86f7-c72766c5d7e3",
   "metadata": {},
   "source": [
    "<p>Da come vediamo, abbiamo richiamato il nome della funzione e la sua documentazione, ma abbiamo ottenuto quelle del wrapper. Questo non è molto pythonico, specialmente per problemi di mantenibilità del codice. Vediamo come risolvere</p>"
   ]
  },
  {
   "cell_type": "markdown",
   "id": "b926ba3f-9af3-4e87-92b8-ce57a294f108",
   "metadata": {},
   "source": [
    "<h2>Decoratore con \"@wraps\"</h2>"
   ]
  },
  {
   "cell_type": "markdown",
   "id": "332d6b53-64f9-4816-82cf-39b0e0f1bf6b",
   "metadata": {},
   "source": [
    "<p>Aggiungendo il decoratore @wraps andiamo a risolvere il problema della documentazione, vediamo come</p>"
   ]
  },
  {
   "cell_type": "markdown",
   "id": "fdbbcd37-900a-4625-aaaf-4a4acd4c5da4",
   "metadata": {},
   "source": [
    "Per prima cosa da functools importiamo il modulo wraps"
   ]
  },
  {
   "cell_type": "code",
   "execution_count": 5,
   "id": "a3755f0b-c672-4e68-901b-b3e7e57a5311",
   "metadata": {},
   "outputs": [],
   "source": [
    "from functools import wraps"
   ]
  },
  {
   "cell_type": "markdown",
   "id": "17f24ec4-e650-468d-ab0f-4f1bf622d65d",
   "metadata": {},
   "source": [
    "<p>Dopodichè possiamo aggiungere il decoratore wraps con funzione nel suo argomento</p>"
   ]
  },
  {
   "cell_type": "code",
   "execution_count": 6,
   "id": "71ac63a8-d41d-4269-b7df-c28f00a35c53",
   "metadata": {},
   "outputs": [],
   "source": [
    "def decoratore(funzione):\n",
    "    @wraps(funzione)\n",
    "    def wrapper(*args, **kwargs):\n",
    "        \"\"\"Documentazione del wrapper - non ci interessa\"\"\"\n",
    "        print(args)\n",
    "        print(kwargs)\n",
    "        output = funzione(*args, **kwargs)\n",
    "        return output\n",
    "    return wrapper\n",
    "\n",
    "@decoratore\n",
    "def cavia(a, b):\n",
    "    \"\"\"Documentazione di cavia - questa è quella che vogliamo\"\"\"\n",
    "    return a + b"
   ]
  },
  {
   "cell_type": "markdown",
   "id": "e5dfb0a6-290e-4d44-b6ed-a402f5f8585b",
   "metadata": {},
   "source": [
    "<p>A questo punto se andiamo a provare ottenziamo quello che vogliamo</p>"
   ]
  },
  {
   "cell_type": "code",
   "execution_count": 7,
   "id": "1311ceb1-3ef7-4514-94f7-698c8f1f8302",
   "metadata": {},
   "outputs": [
    {
     "name": "stdout",
     "output_type": "stream",
     "text": [
      "cavia\n",
      "Documentazione di cavia - questa è quella che vogliamo\n"
     ]
    }
   ],
   "source": [
    "print(cavia.__name__)\n",
    "print(cavia.__doc__)"
   ]
  },
  {
   "cell_type": "markdown",
   "id": "15914ba3-2057-4915-ad6b-7e5453f51cb5",
   "metadata": {},
   "source": [
    "<h2>Decoratore di metodi in una classe</h2>"
   ]
  },
  {
   "cell_type": "code",
   "execution_count": 10,
   "id": "b3aeaca5-63d2-4b86-87f5-b1a71240bab5",
   "metadata": {},
   "outputs": [],
   "source": [
    "from functools import wraps\n",
    "class Prova:\n",
    "    \n",
    "    @staticmethod\n",
    "    def decoratore(metodo):\n",
    "        @wraps(metodo)\n",
    "        def wrap(self, *args, **kwargs):\n",
    "            self.pippo = (1, 3, 4, 6, 8, 9, 11)\n",
    "            self.numero = 0\n",
    "            return metodo(self, *args, **kwargs)\n",
    "        return wrap"
   ]
  },
  {
   "cell_type": "code",
   "execution_count": null,
   "id": "a2782a36-a369-431f-9365-71440c3a140a",
   "metadata": {},
   "outputs": [],
   "source": []
  }
 ],
 "metadata": {
  "kernelspec": {
   "display_name": "Python 3 (ipykernel)",
   "language": "python",
   "name": "python3"
  },
  "language_info": {
   "codemirror_mode": {
    "name": "ipython",
    "version": 3
   },
   "file_extension": ".py",
   "mimetype": "text/x-python",
   "name": "python",
   "nbconvert_exporter": "python",
   "pygments_lexer": "ipython3",
   "version": "3.11.0"
  }
 },
 "nbformat": 4,
 "nbformat_minor": 5
}
