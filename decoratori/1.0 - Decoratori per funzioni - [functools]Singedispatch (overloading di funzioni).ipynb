{
 "cells": [
  {
   "cell_type": "markdown",
   "id": "b01f71c2-abd3-4042-ab1e-a80c04151990",
   "metadata": {},
   "source": [
    "<h1>Sigledispatch</h1>"
   ]
  },
  {
   "cell_type": "markdown",
   "id": "e223f0c4-f63c-4998-818b-804cc144f355",
   "metadata": {},
   "source": [
    "<h2>Decoratore built-in compreso in functools per l'Overloading</h2>"
   ]
  },
  {
   "cell_type": "markdown",
   "id": "25e73304-1d33-45b6-98f9-5f05fb7081a7",
   "metadata": {},
   "source": [
    "<p>Con questa funzione posso chiamare una funzione con diversi set di parametri, ovvero l'overloading, senza dover usare dei cicli if else per smistare i dati e fare diversi return nella funzione. Ma ATTENZIONE, <U>si chiama single dispatch proprio perchè quello che fa da dispatcher è il type del primo argomento che gli passiamo.</U> Inoltre funzionano solo sulle funzioni e non sui metodi nelle classi, per quello vedere <a href=\"http://localhost:8888/notebooks/Jupyter/Python%20Learn/Librerie%20builtin/Decoratori/2.0%20-%20Decoratori%20per%20metodi%20-%20[functools]Singledispatchmethod%20(overloading%20di%20metodi%20nelle%20classi).ipynb\"><em>@singledispatchmethod</em></a>.\n",
    "</p>"
   ]
  },
  {
   "cell_type": "markdown",
   "id": "f1b23580-845e-400a-9d91-0415aa249662",
   "metadata": {},
   "source": [
    "<p>Per prima cosa richiamiamo il modulo che ci interessa</p>"
   ]
  },
  {
   "cell_type": "code",
   "execution_count": 1,
   "id": "5179d619-18b9-4b71-b3a8-b9891aaac630",
   "metadata": {},
   "outputs": [],
   "source": [
    "from functools import singledispatch"
   ]
  },
  {
   "cell_type": "markdown",
   "id": "f54a2616-5c8d-48b2-bc17-461f62d8238f",
   "metadata": {},
   "source": [
    "<p>Poi creiamo la nostra funzione con il decoratore</p>"
   ]
  },
  {
   "cell_type": "code",
   "execution_count": 2,
   "id": "c71114c4-ee68-4bd6-a8a8-886379dfef92",
   "metadata": {},
   "outputs": [],
   "source": [
    "@singledispatch\n",
    "def funzione(*args, **kwargs):\n",
    "    raise NotImplementedError(f\"Il tipo non è supportato\")"
   ]
  },
  {
   "cell_type": "markdown",
   "id": "1aae21dc-8c36-4997-b4aa-986e7cb4e60b",
   "metadata": {},
   "source": [
    "<p>Questa prima definizione <U>viene eseguita solo se i successivi Overloading non combaciano con i dispatcher che abbiamo definito, ovvero funge da \"fallback\"</U>. Tuttavia è possibile scrivere codice qui dentro se serve. L'errore viene visualizzato se gli argomenti implementati (ancora non lo abbiamo fatto) non corrispondono con quelli chi implementeremo adesso</p>"
   ]
  },
  {
   "cell_type": "markdown",
   "id": "fc0a0c4a-aa5f-47a4-a13f-a2009c48deda",
   "metadata": {},
   "source": [
    "<p>Comunque, vediamo la versione implementata della prima parte di fallback, può servire in molti casi</p>"
   ]
  },
  {
   "cell_type": "code",
   "execution_count": 3,
   "id": "56811874-01dd-47de-8976-eb82a2b72ce6",
   "metadata": {},
   "outputs": [],
   "source": [
    "@singledispatch\n",
    "def funzione(arg1, arg2):\n",
    "    try:\n",
    "        result = arg1 + arg2 # implementazione se va bene il try\n",
    "    except:\n",
    "        raise NotImplementedError(f\"Il tipo non è supportato\")\n",
    "    else:\n",
    "        return result"
   ]
  },
  {
   "cell_type": "markdown",
   "id": "efa10bb3-a52c-44f6-b664-7b0f386a6e4c",
   "metadata": {},
   "source": [
    "<p>Se il try va bene è ok, sennò da l'errore. Tutto dipende dai tipi che mettiamo nelle istanze. ATTENZIONE in questo caso ho definito il numero degli argomenti, ovvero 2. Se questo non viene rispettato si avrà un errore esterno. Potevo tenere *args e **kwargs per poi sommare con for x in args: result+=x ad esempio. Ho fatto cosi perchè si può, a scopo illustrativo</p>"
   ]
  },
  {
   "cell_type": "markdown",
   "id": "6ce49a89-2ea8-448c-963c-0498d76c6b46",
   "metadata": {},
   "source": [
    "<p>Adesso andiamo ad implementare la parte successiva, ovvero tutte le varianti della funzione con i diversi set di parametri che ci servono. RICORDA <U>solo il primo argomento fa da dispatcher.</U> Per prima cosa richiamo il decoratore @funzione.register. Poi definisco la funzione con gli argomenti che ci interessano. Da notare che il nome puo essere omesso per evitare ridondanza, ma è meno leggibile. Basta dargli un nome qualsiasi, deve avere senso per la leggibilità. È il decoratore @funzione.register che fa fede alla funzione originale\n",
    "</p>"
   ]
  },
  {
   "cell_type": "code",
   "execution_count": 4,
   "id": "2ea50511-e1f8-40b2-9a27-a6db81d1bf6a",
   "metadata": {},
   "outputs": [],
   "source": [
    "@funzione.register\n",
    "def _(arg1: int, arg2):\n",
    "    # qui possiamo metterci quello che vogliamo\n",
    "    print(\"funzione con primo argomento un intero\")"
   ]
  },
  {
   "cell_type": "markdown",
   "id": "bf4de190-3998-4074-a301-f8b215022ff6",
   "metadata": {},
   "source": [
    "<p>Ovviamente possiamo implementare la funzione come vogliamo. Ora possiamo ad esempio definire gli argomenti con due stringe</p>"
   ]
  },
  {
   "cell_type": "code",
   "execution_count": 5,
   "id": "08461e36-89c2-4dff-a5d9-ce9014b6203f",
   "metadata": {},
   "outputs": [],
   "source": [
    "@funzione.register\n",
    "def funzione_str(arg1: str, arg2):\n",
    "    # qui possiamo metterci quello che vogliamo\n",
    "    print(\"funzione con primo argomento una stringa\")"
   ]
  },
  {
   "cell_type": "markdown",
   "id": "5aedc0e6-f939-42d5-9285-a6065cc99486",
   "metadata": {},
   "source": [
    "<p>Qui l'abbiamo chiamata funzione_str solo per la leggibilità, poteva chiamarsi sempre _.\n",
    "Adesso andiamo a richiamare le funzioni</p>"
   ]
  },
  {
   "cell_type": "code",
   "execution_count": 6,
   "id": "6000892e-9439-406f-927c-dd65fd8b7ec4",
   "metadata": {},
   "outputs": [
    {
     "name": "stdout",
     "output_type": "stream",
     "text": [
      "funzione con primo argomento un intero\n",
      "funzione con primo argomento un intero\n",
      "   ~~~~~~~~~~~~~~~~~~~~~~~~~~~~~~~~\n",
      "funzione con primo argomento una stringa\n",
      "funzione con primo argomento una stringa\n"
     ]
    }
   ],
   "source": [
    "funzione(2, 2)\n",
    "funzione(2, \"banana\")\n",
    "print(\"   ~~~~~~~~~~~~~~~~~~~~~~~~~~~~~~~~\")\n",
    "funzione(\"5\", (x for x in range(10)))\n",
    "funzione(\"uno\", \"due\")"
   ]
  },
  {
   "cell_type": "markdown",
   "id": "aa5f87b5-85ce-4f55-a559-32191c1892a8",
   "metadata": {},
   "source": [
    "<p>Se richiamo una funzione che non abbiamo implementato con altri argomenti, si passa al fallback. Se l'implementazione col try funziona allota ritorna col return, altrimenti ho l'errore che ho scritto nel raise</p>"
   ]
  },
  {
   "cell_type": "code",
   "execution_count": 7,
   "id": "6da1362e-e1ad-4919-8a62-ff576c2beced",
   "metadata": {},
   "outputs": [
    {
     "data": {
      "text/plain": [
       "[1, 1, 2, 2]"
      ]
     },
     "execution_count": 7,
     "metadata": {},
     "output_type": "execute_result"
    }
   ],
   "source": [
    "funzione([1, 1],[2,2])"
   ]
  },
  {
   "cell_type": "markdown",
   "id": "7d33b4b1-924b-42b1-a168-5f707e3eda25",
   "metadata": {},
   "source": [
    "<p>Questo funziona, sono due liste, percio se le sommo si concatenano</p>"
   ]
  },
  {
   "cell_type": "code",
   "execution_count": 8,
   "id": "c5b9f44d-406a-448a-9095-8f70faaea1eb",
   "metadata": {},
   "outputs": [
    {
     "ename": "NotImplementedError",
     "evalue": "Il tipo non è supportato",
     "output_type": "error",
     "traceback": [
      "\u001b[0;31m---------------------------------------------------------------------------\u001b[0m",
      "\u001b[0;31mTypeError\u001b[0m                                 Traceback (most recent call last)",
      "Cell \u001b[0;32mIn[3], line 4\u001b[0m, in \u001b[0;36mfunzione\u001b[0;34m(arg1, arg2)\u001b[0m\n\u001b[1;32m      3\u001b[0m \u001b[38;5;28;01mtry\u001b[39;00m:\n\u001b[0;32m----> 4\u001b[0m     result \u001b[38;5;241m=\u001b[39m \u001b[43marg1\u001b[49m\u001b[43m \u001b[49m\u001b[38;5;241;43m+\u001b[39;49m\u001b[43m \u001b[49m\u001b[43marg2\u001b[49m \u001b[38;5;66;03m# implementazione se va bene il try\u001b[39;00m\n\u001b[1;32m      5\u001b[0m \u001b[38;5;28;01mexcept\u001b[39;00m:\n",
      "\u001b[0;31mTypeError\u001b[0m: unsupported operand type(s) for +: 'NoneType' and 'int'",
      "\nDuring handling of the above exception, another exception occurred:\n",
      "\u001b[0;31mNotImplementedError\u001b[0m                       Traceback (most recent call last)",
      "Cell \u001b[0;32mIn[8], line 1\u001b[0m\n\u001b[0;32m----> 1\u001b[0m \u001b[43mfunzione\u001b[49m\u001b[43m(\u001b[49m\u001b[38;5;28;43;01mNone\u001b[39;49;00m\u001b[43m,\u001b[49m\u001b[43m \u001b[49m\u001b[38;5;241;43m1\u001b[39;49m\u001b[43m)\u001b[49m\n",
      "File \u001b[0;32m/Library/Frameworks/Python.framework/Versions/3.11/lib/python3.11/functools.py:909\u001b[0m, in \u001b[0;36msingledispatch.<locals>.wrapper\u001b[0;34m(*args, **kw)\u001b[0m\n\u001b[1;32m    905\u001b[0m \u001b[38;5;28;01mif\u001b[39;00m \u001b[38;5;129;01mnot\u001b[39;00m args:\n\u001b[1;32m    906\u001b[0m     \u001b[38;5;28;01mraise\u001b[39;00m \u001b[38;5;167;01mTypeError\u001b[39;00m(\u001b[38;5;124mf\u001b[39m\u001b[38;5;124m'\u001b[39m\u001b[38;5;132;01m{\u001b[39;00mfuncname\u001b[38;5;132;01m}\u001b[39;00m\u001b[38;5;124m requires at least \u001b[39m\u001b[38;5;124m'\u001b[39m\n\u001b[1;32m    907\u001b[0m                     \u001b[38;5;124m'\u001b[39m\u001b[38;5;124m1 positional argument\u001b[39m\u001b[38;5;124m'\u001b[39m)\n\u001b[0;32m--> 909\u001b[0m \u001b[38;5;28;01mreturn\u001b[39;00m \u001b[43mdispatch\u001b[49m\u001b[43m(\u001b[49m\u001b[43margs\u001b[49m\u001b[43m[\u001b[49m\u001b[38;5;241;43m0\u001b[39;49m\u001b[43m]\u001b[49m\u001b[38;5;241;43m.\u001b[39;49m\u001b[38;5;18;43m__class__\u001b[39;49m\u001b[43m)\u001b[49m\u001b[43m(\u001b[49m\u001b[38;5;241;43m*\u001b[39;49m\u001b[43margs\u001b[49m\u001b[43m,\u001b[49m\u001b[43m \u001b[49m\u001b[38;5;241;43m*\u001b[39;49m\u001b[38;5;241;43m*\u001b[39;49m\u001b[43mkw\u001b[49m\u001b[43m)\u001b[49m\n",
      "Cell \u001b[0;32mIn[3], line 6\u001b[0m, in \u001b[0;36mfunzione\u001b[0;34m(arg1, arg2)\u001b[0m\n\u001b[1;32m      4\u001b[0m     result \u001b[38;5;241m=\u001b[39m arg1 \u001b[38;5;241m+\u001b[39m arg2 \u001b[38;5;66;03m# implementazione se va bene il try\u001b[39;00m\n\u001b[1;32m      5\u001b[0m \u001b[38;5;28;01mexcept\u001b[39;00m:\n\u001b[0;32m----> 6\u001b[0m     \u001b[38;5;28;01mraise\u001b[39;00m \u001b[38;5;167;01mNotImplementedError\u001b[39;00m(\u001b[38;5;124mf\u001b[39m\u001b[38;5;124m\"\u001b[39m\u001b[38;5;124mIl tipo non è supportato\u001b[39m\u001b[38;5;124m\"\u001b[39m)\n\u001b[1;32m      7\u001b[0m \u001b[38;5;28;01melse\u001b[39;00m:\n\u001b[1;32m      8\u001b[0m     \u001b[38;5;28;01mreturn\u001b[39;00m result\n",
      "\u001b[0;31mNotImplementedError\u001b[0m: Il tipo non è supportato"
     ]
    }
   ],
   "source": [
    "funzione(None, 1)"
   ]
  },
  {
   "cell_type": "markdown",
   "id": "1e0138a7-4ec8-4820-8d4f-9473d803a450",
   "metadata": {},
   "source": [
    "<p>In questo caso ci dice che non è implementata quella funzione con l'argomento None, perchè sommare un None con qualsiasi tipo da errore al try. Infatti appare il messaggio che volevamo</p>"
   ]
  },
  {
   "cell_type": "markdown",
   "id": "80728bb6-e5c8-4012-896b-2d50e09c14fd",
   "metadata": {},
   "source": [
    "<p>Se interessati esiste una libreria che non è builtin che permette il dispatch con più argomenti. Si chiama <strong>multipledispatch</strong>. Consultare <a href=\"https://martinheinz.dev/blog/50\"> questa pagina</a> per saperne di più</p>"
   ]
  },
  {
   "cell_type": "markdown",
   "id": "1411555a-ac94-4b84-937c-51105157de85",
   "metadata": {},
   "source": [
    "<p>In certi casi è meglio usare la funzione di functools <a href=\"http://localhost:8888/notebooks/Jupyter/Python%20Learn/Librerie%20builtin/Funzioni/1.0%20-%20Funzioni%20che%20ritornano%20funzioni%20-%20[functools]Partial%20(prende%20un%20numero%20di%20argomenti%20di%20una%20funzione%20e%20restituisce%20la%20stessa%20con%20quegli%20argomenti%20preimpostati).ipynb\"><strong>partial</strong></a></p>"
   ]
  },
  {
   "cell_type": "markdown",
   "id": "128e7076-75b9-44ac-9650-39b8c274fce3",
   "metadata": {},
   "source": [
    "<p>Per maggiori dettagli la documentazione ufficiale di <a href=\"https://docs.python.org/3/library/functools.html\">functools</a>.\n",
    "</p>"
   ]
  },
  {
   "cell_type": "code",
   "execution_count": null,
   "id": "535f9997-7716-4cc3-8e0c-390e02f7b8e7",
   "metadata": {},
   "outputs": [],
   "source": []
  }
 ],
 "metadata": {
  "kernelspec": {
   "display_name": "Python 3 (ipykernel)",
   "language": "python",
   "name": "python3"
  },
  "language_info": {
   "codemirror_mode": {
    "name": "ipython",
    "version": 3
   },
   "file_extension": ".py",
   "mimetype": "text/x-python",
   "name": "python",
   "nbconvert_exporter": "python",
   "pygments_lexer": "ipython3",
   "version": "3.11.0"
  }
 },
 "nbformat": 4,
 "nbformat_minor": 5
}
