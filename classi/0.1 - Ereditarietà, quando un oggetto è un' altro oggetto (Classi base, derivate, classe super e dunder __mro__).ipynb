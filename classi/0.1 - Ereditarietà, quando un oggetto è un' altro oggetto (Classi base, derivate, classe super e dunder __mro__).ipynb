{
 "cells": [
  {
   "cell_type": "markdown",
   "id": "2c8c3296-ec0e-4e37-b379-9597c529b801",
   "metadata": {},
   "source": [
    "<h1>Ereditarietà</h1>"
   ]
  },
  {
   "cell_type": "markdown",
   "id": "0d3f5e45-d864-4f25-a13f-120fb278fc70",
   "metadata": {},
   "source": [
    "<h2>Quando un oggetto di una classe è un oggetto di un'altra classe (is-a)</h2>"
   ]
  },
  {
   "cell_type": "markdown",
   "id": "b4c1d8f4-402b-466e-b811-484506f95e48",
   "metadata": {},
   "source": [
    "<p>Può capitare in programmazione ad oggetti che dobbiamo descrivere due oggetti diversi, ma molto simili fra loro da un punto di vista proprio di attributi e metodi. Il classico esempio è gli oggetti persona e impiegato. Infatti, l'impiegato È A TUTTI GLI EFFETTI una persona, perciò ne condivide le caratteristiche, più altre caratteristiche in piu che lo distingue dalla semplice persona, o da un dirigente ad esempio. Siccome l'esempio persona con nome, cognome, email e codice fiscale mi sta sul cazzo, faccio un esempio con gli animali</p>"
   ]
  },
  {
   "cell_type": "markdown",
   "id": "68fd2d03-307c-4b60-80ea-35ae395dea69",
   "metadata": {},
   "source": [
    "<p>Andro a creare tre classi concatenate, ovvero un canide che è un mammifero che è un animale. Ciascun metodo relativo alla classificazione lo nomino in modo diverso, perchè alla fine dimostro che posso usarli distintamente senza fatica</p>"
   ]
  },
  {
   "cell_type": "code",
   "execution_count": 1,
   "id": "158daac6-991a-4db9-86e7-ef0ee83821cc",
   "metadata": {},
   "outputs": [],
   "source": [
    "class Animale:\n",
    "    def __init__(self, nome):\n",
    "        self.nome = nome\n",
    "    def __str__(self):\n",
    "        return \"Nome: \" + self.nome \n",
    "    def class_base(self):\n",
    "        dominio = \"eukaryota\"\n",
    "        regno = \"animalia\"\n",
    "        return dominio + \"\\n\" + regno + \"\\n\""
   ]
  },
  {
   "cell_type": "code",
   "execution_count": 2,
   "id": "0bcc5bb9-dd3c-4067-aaf1-11d8de52946a",
   "metadata": {},
   "outputs": [],
   "source": [
    "class Mammifero(Animale):\n",
    "    def __init__(self, nome, dieta):\n",
    "        self.dieta = dieta\n",
    "        Animale.__init__(self, nome)\n",
    "    def __str__(self):\n",
    "        return Animale.__str__(self) + \" - \" + \"Dieta: \" + self.dieta\n",
    "    def class_media(self):\n",
    "        phylum = \"chordata\"\n",
    "        subphylum = \"vertebrata\"\n",
    "        classe = \"mammalia\"\n",
    "        return Animale.class_base(self) + phylum + \"\\n\" + subphylum + \"\\n\" + classe + \"\\n\""
   ]
  },
  {
   "cell_type": "code",
   "execution_count": 3,
   "id": "4287f83f-3f6d-45fb-8561-6dfc1e38c4e3",
   "metadata": {},
   "outputs": [],
   "source": [
    "class Canide(Mammifero):\n",
    "    def __init__(self, nome, dieta, habitat):\n",
    "        self.habitat = habitat\n",
    "        Mammifero.__init__(self, nome, dieta)\n",
    "    def __str__(self):\n",
    "        return Mammifero.__str__(self) + \" - \" + \"Habitat: \" + self.habitat\n",
    "    def classificazione(self):\n",
    "        ordine = \"carnivora\"\n",
    "        famiglia = \"canidae\"\n",
    "        pippo = self.nome.split()\n",
    "        genere = pippo[0]\n",
    "        specie = pippo[1]\n",
    "        return Mammifero.class_media(self) + ordine + \"\\n\" + famiglia + \"\\n\" + genere + \"\\n\" + specie + \"\\n\""
   ]
  },
  {
   "cell_type": "code",
   "execution_count": 4,
   "id": "3888d4b5-c40a-4a89-8584-464a8ad14a20",
   "metadata": {},
   "outputs": [
    {
     "name": "stdout",
     "output_type": "stream",
     "text": [
      "Nome: canis lupus - Dieta: onnivoro - Habitat: urbano\n",
      "\n",
      "\n",
      "eukaryota\n",
      "animalia\n",
      "chordata\n",
      "vertebrata\n",
      "mammalia\n",
      "carnivora\n",
      "canidae\n",
      "canis\n",
      "lupus\n",
      "\n"
     ]
    }
   ],
   "source": [
    "cane = Canide(\"canis lupus\", \"onnivoro\", \"urbano\")\n",
    "print(cane)\n",
    "print(\"\\n\")\n",
    "print(cane.classificazione())"
   ]
  },
  {
   "cell_type": "markdown",
   "id": "141ca4cb-654f-47e0-b43c-687c092060e9",
   "metadata": {},
   "source": [
    "<p>Sia il metodo dunder __str__ che i metodi di classificazione concatenati funzionano a dovere se richiamato dalla classe ultima derivata. In ogni caso posso andare a richiamare anche il singolo metodo della classe base o di quella intermedia</p>"
   ]
  },
  {
   "cell_type": "code",
   "execution_count": 5,
   "id": "2d12de77-802e-4bf8-b42b-f6960fcd6be4",
   "metadata": {},
   "outputs": [
    {
     "name": "stdout",
     "output_type": "stream",
     "text": [
      "eukaryota\n",
      "animalia\n",
      "\n"
     ]
    }
   ],
   "source": [
    "print(cane.class_base())"
   ]
  },
  {
   "cell_type": "markdown",
   "id": "f1b703bf-a1d9-4c1f-a267-6880f6d30a8e",
   "metadata": {},
   "source": [
    "<p>Lo stesso vale per gli attributi, infatti qui chiamo il singolo attributo dieta nella classe di mezzo</p>"
   ]
  },
  {
   "cell_type": "code",
   "execution_count": 6,
   "id": "7e06feab-caf0-4a22-94cb-26a92c7cfb1a",
   "metadata": {},
   "outputs": [
    {
     "name": "stdout",
     "output_type": "stream",
     "text": [
      "onnivoro\n"
     ]
    }
   ],
   "source": [
    "print(cane.dieta)"
   ]
  },
  {
   "cell_type": "markdown",
   "id": "dbd049af-659e-4574-b842-811625e3bc7f",
   "metadata": {},
   "source": [
    "<p>Tutto bello anche se questo non è proprio il modo più bello per definire l'ereditarietà in Python. Passiamo a scoprire il metodo Super()</p>"
   ]
  },
  {
   "cell_type": "code",
   "execution_count": 7,
   "id": "9ef7b33c-3b5d-467c-bb26-39b6aee1d259",
   "metadata": {},
   "outputs": [
    {
     "name": "stdout",
     "output_type": "stream",
     "text": [
      "Nome: canis lupus - Dieta: onnivoro - Habitat: urbano\n",
      "\n",
      "\n",
      "eukaryota\n",
      "animalia\n",
      "chordata\n",
      "vertebrata\n",
      "mammalia\n",
      "carnivora\n",
      "canidae\n",
      "canis\n",
      "lupus\n",
      "\n"
     ]
    }
   ],
   "source": [
    "class Animale:\n",
    "    def __init__(self, nome):\n",
    "        self.nome = nome\n",
    "    def __str__(self):\n",
    "        return \"Nome: \" + self.nome \n",
    "    def class_base(self):\n",
    "        dominio = \"eukaryota\"\n",
    "        regno = \"animalia\"\n",
    "        return dominio + \"\\n\" + regno + \"\\n\"\n",
    "\n",
    "class Mammifero(Animale):\n",
    "    def __init__(self, nome, dieta):\n",
    "        self.dieta = dieta\n",
    "        super().__init__(nome)\n",
    "    def __str__(self):\n",
    "        return super().__str__() + \" - \" + \"Dieta: \" + self.dieta\n",
    "    def class_media(self):\n",
    "        phylum = \"chordata\"\n",
    "        subphylum = \"vertebrata\"\n",
    "        classe = \"mammalia\"\n",
    "        return super().class_base() + phylum + \"\\n\" + subphylum + \"\\n\" + classe + \"\\n\"\n",
    "\n",
    "class Canide(Mammifero):\n",
    "    def __init__(self, nome, dieta, habitat):\n",
    "        self.habitat = habitat\n",
    "        super().__init__(nome, dieta)\n",
    "    def __str__(self):\n",
    "        return super().__str__() + \" - \" + \"Habitat: \" + self.habitat\n",
    "    def classificazione(self):\n",
    "        ordine = \"carnivora\"\n",
    "        famiglia = \"canidae\"\n",
    "        pippo = self.nome.split()\n",
    "        genere = pippo[0]\n",
    "        specie = pippo[1]\n",
    "        return super().class_media() + ordine + \"\\n\" + famiglia + \"\\n\" + genere + \"\\n\" + specie + \"\\n\"\n",
    "\n",
    "cane = Canide(\"canis lupus\", \"onnivoro\", \"urbano\")\n",
    "print(cane)\n",
    "print(\"\\n\")\n",
    "print(cane.classificazione())"
   ]
  },
  {
   "cell_type": "markdown",
   "id": "0c21b339-b72f-4c8d-bc71-aa6ed2bae2bb",
   "metadata": {},
   "source": [
    "<p>Il seguente codice lo capiamo nel prossimo paragrafo, lo lascio solo per completezza</p>"
   ]
  },
  {
   "cell_type": "code",
   "execution_count": 8,
   "id": "cc31455e-91e5-40bf-abfa-754c93b6204f",
   "metadata": {},
   "outputs": [
    {
     "data": {
      "text/plain": [
       "(__main__.Canide, __main__.Mammifero, __main__.Animale, object)"
      ]
     },
     "execution_count": 8,
     "metadata": {},
     "output_type": "execute_result"
    }
   ],
   "source": [
    "Canide.__mro__"
   ]
  },
  {
   "cell_type": "markdown",
   "id": "8d083f57-877e-4f60-88ff-0fb18a1bc3fa",
   "metadata": {},
   "source": [
    "<h2>La classe built-in super() e l'attributo dunder __mro__</h2>"
   ]
  },
  {
   "cell_type": "markdown",
   "id": "cc85c61a-2aa3-4dbd-bd1d-fbf89dc1fb7f",
   "metadata": {},
   "source": [
    "<p>Questa classe è molto potente e richiede una certa attenzione ad usarla. In primo luogo, non servono argomenti al suo interno. Possiamo specificarli ma è inutile, comunque è nella forma super(Base, self).</p>"
   ]
  },
  {
   "cell_type": "markdown",
   "id": "2f50b387-f033-4667-a427-2409ba24f1be",
   "metadata": {},
   "source": [
    "<p>Inoltre se richiamiamo dei metodi non vanno messi i self negli argomenti dei metodi che richiamiamo. Questo ci porterebbe ad errori</p>"
   ]
  },
  {
   "cell_type": "markdown",
   "id": "63cdf2e5-74b0-474c-a68e-db73982b20ad",
   "metadata": {},
   "source": [
    "<p>Vediamo come gestisce l'ereditarietà multipla. Creo tre classi con dei metodi con lo stesso nome, ma con output diversi</p>"
   ]
  },
  {
   "cell_type": "code",
   "execution_count": 9,
   "id": "0418c61d-68b4-47ad-a724-e7bf44859560",
   "metadata": {},
   "outputs": [],
   "source": [
    "class A1:\n",
    "    def pippo(self):\n",
    "        print(\"pippo1\")\n",
    "class A2:\n",
    "    def pippo(self):\n",
    "        print(\"pippo2\")\n",
    "class A3:\n",
    "    def pippo(self):\n",
    "        print(\"pippo3\")\n",
    "\n",
    "class B(A2, A1, A3):  # NOTARE ORDINE DI INSERMENTO\n",
    "    def pippo(self):\n",
    "        super().pippo()"
   ]
  },
  {
   "cell_type": "markdown",
   "id": "bc2630e8-1061-4e3a-9b80-e197edc23c2a",
   "metadata": {},
   "source": [
    "<p>Se vado a richiamare l'oggetto e il metodo vediamo cosa ottengo</p>"
   ]
  },
  {
   "cell_type": "code",
   "execution_count": 10,
   "id": "1d29fdec-7189-4681-a065-cf66523ab759",
   "metadata": {},
   "outputs": [
    {
     "name": "stdout",
     "output_type": "stream",
     "text": [
      "pippo2\n"
     ]
    }
   ],
   "source": [
    "b = B()\n",
    "b.pippo()"
   ]
  },
  {
   "cell_type": "markdown",
   "id": "bc131acc-b653-416e-a426-ac4379647614",
   "metadata": {},
   "source": [
    "<p>L'ereditarietà viene suddivisa in gerarchia secondo l'ordine di inserimento nella classe derivata. Per capire meglio usiamo l'attributo dunder __mro__</p>"
   ]
  },
  {
   "cell_type": "code",
   "execution_count": 11,
   "id": "e0eb5f3e-a05e-46ca-85a1-07875da955c9",
   "metadata": {},
   "outputs": [
    {
     "data": {
      "text/plain": [
       "(__main__.B, __main__.A2, __main__.A1, __main__.A3, object)"
      ]
     },
     "execution_count": 11,
     "metadata": {},
     "output_type": "execute_result"
    }
   ],
   "source": [
    "B.__mro__"
   ]
  },
  {
   "cell_type": "markdown",
   "id": "4169c060-ffb5-4573-8f77-c32ac89b7c75",
   "metadata": {},
   "source": [
    "<p>Alla fine, ovvero all'apice della gerarchia c'è la classe object che chiude la catena</p>"
   ]
  },
  {
   "cell_type": "markdown",
   "id": "e83291cf-df04-42f4-9bf9-9a215959385d",
   "metadata": {},
   "source": [
    "<p>Vediamo u'altro esempio. Partiamo senza usare la classe super</p>"
   ]
  },
  {
   "cell_type": "code",
   "execution_count": 12,
   "id": "9ebdf40e-4559-41ab-a093-a6459509c1a8",
   "metadata": {},
   "outputs": [
    {
     "name": "stdout",
     "output_type": "stream",
     "text": [
      "eseguo A\n",
      "eseguo A1\n",
      "eseguo A\n",
      "eseguo A2\n",
      "eseguo B\n"
     ]
    }
   ],
   "source": [
    "class A:\n",
    "    def __init__(self):\n",
    "        print(\"eseguo A\")\n",
    "\n",
    "class A1(A):\n",
    "    def __init__(self):\n",
    "        A.__init__(self)\n",
    "        print(\"eseguo A1\")\n",
    "\n",
    "class A2(A):\n",
    "    def __init__(self):\n",
    "        A.__init__(self)\n",
    "        print(\"eseguo A2\")\n",
    "\n",
    "class B(A1, A2):\n",
    "    def __init__(self):\n",
    "        A1.__init__(self)\n",
    "        A2.__init__(self)\n",
    "        print(\"eseguo B\")\n",
    "\n",
    "b = B()"
   ]
  },
  {
   "cell_type": "markdown",
   "id": "42204107-cdef-47bb-b462-960bd7a08670",
   "metadata": {},
   "source": [
    "<p>La classe B deve leggere gli altri __init__ delle altre due classi A1 e A2, che a loro volta hanno come classe base A. Questo crea una ridondanza di codice. Ma con la classe super, andiamo a risolvere</p>"
   ]
  },
  {
   "cell_type": "code",
   "execution_count": 13,
   "id": "634c0ffb-e0bb-4df5-80c7-7b7a7529d905",
   "metadata": {},
   "outputs": [
    {
     "name": "stdout",
     "output_type": "stream",
     "text": [
      "eseguo A\n",
      "eseguo A2\n",
      "eseguo A1\n",
      "eseguo B\n"
     ]
    }
   ],
   "source": [
    "class A:\n",
    "    def __init__(self):\n",
    "        print(\"eseguo A\")\n",
    "\n",
    "class A1(A):\n",
    "    def __init__(self):\n",
    "        super().__init__()\n",
    "        print(\"eseguo A1\")\n",
    "\n",
    "class A2(A):\n",
    "    def __init__(self):\n",
    "        super().__init__()\n",
    "        print(\"eseguo A2\")\n",
    "\n",
    "class B(A1, A2):\n",
    "    def __init__(self):\n",
    "        super().__init__()\n",
    "        print(\"eseguo B\")\n",
    "\n",
    "b = B()"
   ]
  },
  {
   "cell_type": "code",
   "execution_count": 14,
   "id": "8ede1997-8ee7-4e85-9e03-ba9d9b88e0d6",
   "metadata": {},
   "outputs": [
    {
     "data": {
      "text/plain": [
       "(__main__.B, __main__.A1, __main__.A2, __main__.A, object)"
      ]
     },
     "execution_count": 14,
     "metadata": {},
     "output_type": "execute_result"
    }
   ],
   "source": [
    "B.__mro__"
   ]
  },
  {
   "cell_type": "markdown",
   "id": "2dac15b3-a6aa-4406-b332-6a61af807dd8",
   "metadata": {},
   "source": [
    "<p>Cosa è successo? Parte B, la prima istruzione è super, perciò legge nell'__mro__ qual'è il successivo, ovvero A1. Qui accade la stessa cosa perchè c'è il super come prima istruzione, e quindi va avanti in A2. Di nuovo la stessa cosa e va ad A. A questo punto printa \"eseguo A\", torna indietro ad A2 e printa e cosi via.</p>"
   ]
  },
  {
   "cell_type": "markdown",
   "id": "1ac2fd2f-6ae8-4b02-9c4d-4d1ae3f43bcc",
   "metadata": {},
   "source": [
    "<p>USARE SEMPRE LA CLASSE SUPER PER GESTIRE L'EREDITARIETÀ</p>"
   ]
  }
 ],
 "metadata": {
  "kernelspec": {
   "display_name": "Python 3 (ipykernel)",
   "language": "python",
   "name": "python3"
  },
  "language_info": {
   "codemirror_mode": {
    "name": "ipython",
    "version": 3
   },
   "file_extension": ".py",
   "mimetype": "text/x-python",
   "name": "python",
   "nbconvert_exporter": "python",
   "pygments_lexer": "ipython3",
   "version": "3.11.0"
  }
 },
 "nbformat": 4,
 "nbformat_minor": 5
}
