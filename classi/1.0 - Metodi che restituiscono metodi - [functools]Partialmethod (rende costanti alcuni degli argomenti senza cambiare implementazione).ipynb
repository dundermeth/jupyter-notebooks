{
 "cells": [
  {
   "cell_type": "markdown",
   "id": "327c0891-9e75-4bdd-85cc-ad51a71a91f2",
   "metadata": {},
   "source": [
    "<h1>Partialmethod</h1>"
   ]
  },
  {
   "cell_type": "markdown",
   "id": "a57aa4e3-6c44-4cfb-b30b-87f9cd5cc12b",
   "metadata": {},
   "source": [
    "<p>Come in <a href=\"\"><strong>partial</strong></a> ma all'interno delle classi. Vediamo un esempio meno generico rispetto a quello visto in partial\n",
    "</p>"
   ]
  },
  {
   "cell_type": "code",
   "execution_count": 1,
   "id": "658cf3f2-b64d-4db0-868b-7f6ff2da2cc7",
   "metadata": {},
   "outputs": [],
   "source": [
    "from functools import partialmethod"
   ]
  },
  {
   "cell_type": "code",
   "execution_count": 2,
   "id": "144df574-1e65-4410-8da6-e0e214b27e77",
   "metadata": {},
   "outputs": [],
   "source": [
    "class Stato:\n",
    "    def __init__(self):\n",
    "        self._stato = False\n",
    "        \n",
    "    @property\n",
    "    def stato(self): #getter\n",
    "        return self._stato\n",
    "    def set_stato(self, nuovo): #setter\n",
    "        self._stato = bool(nuovo)\n",
    "        \n",
    "    set_online = partialmethod(set_stato, True) #setter parzializzati\n",
    "    set_offline = partialmethod(set_stato, False)    "
   ]
  },
  {
   "cell_type": "markdown",
   "id": "61b28ac8-47a0-4a9b-bf16-df7d2b5267ae",
   "metadata": {},
   "source": [
    "<p>In questo caso sfruttiamo partial per creare una funzione setter diversa per l'online e l'offline</p>"
   ]
  },
  {
   "cell_type": "code",
   "execution_count": 3,
   "id": "081ef13c-9737-450a-9bb9-d098b190c165",
   "metadata": {},
   "outputs": [
    {
     "name": "stdout",
     "output_type": "stream",
     "text": [
      "False\n",
      "True\n",
      "False\n"
     ]
    }
   ],
   "source": [
    "s = Stato()\n",
    "print(s.stato) # getter\n",
    "\n",
    "s.set_online() # setter parzializzato 1\n",
    "print(s.stato)\n",
    "\n",
    "s.set_offline() # setter parzializzato 2\n",
    "print(s.stato)"
   ]
  },
  {
   "cell_type": "markdown",
   "id": "32107897-d65b-486b-9be1-fa08037810b7",
   "metadata": {},
   "source": [
    "<p>In questo esempio abbiamo visto come parzializzanado una funzione anche con un solo argomento, possiamo rendere il codice più leggibile.</p>"
   ]
  },
  {
   "cell_type": "markdown",
   "id": "019c1f65-d888-41c7-bd65-06c0f9c68585",
   "metadata": {},
   "source": [
    "<p>Se invece dobbiamo cambiare l'implementazione del metodo in funzione degli argomenti che gli diamo, allora usare <a href=\"http://localhost:8888/notebooks/Jupyter/Python%20Learn/Librerie%20builtin/Decoratori/2.0%20-%20Decoratori%20per%20metodi%20-%20[functools]Singledispatchmethod%20(overloading%20di%20metodi%20nelle%20classi).ipynb\"><em>@singledispatchmethod</em></a></p>"
   ]
  },
  {
   "cell_type": "markdown",
   "id": "43506a3e-a053-4dd9-815a-26b5ba3dc326",
   "metadata": {},
   "source": [
    "<p>Per maggiori dettagli la documentazione ufficiale di <a href=\"https://docs.python.org/3/library/functools.html\">functools</a>.\n",
    "</p>"
   ]
  },
  {
   "cell_type": "code",
   "execution_count": null,
   "id": "6928e3fb-06b1-4ef3-8da5-c4979499fbb9",
   "metadata": {},
   "outputs": [],
   "source": []
  }
 ],
 "metadata": {
  "kernelspec": {
   "display_name": "Python 3 (ipykernel)",
   "language": "python",
   "name": "python3"
  },
  "language_info": {
   "codemirror_mode": {
    "name": "ipython",
    "version": 3
   },
   "file_extension": ".py",
   "mimetype": "text/x-python",
   "name": "python",
   "nbconvert_exporter": "python",
   "pygments_lexer": "ipython3",
   "version": "3.11.0"
  }
 },
 "nbformat": 4,
 "nbformat_minor": 5
}
