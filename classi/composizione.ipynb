{
 "cells": [
  {
   "cell_type": "markdown",
   "id": "5811c654-0f4b-4e0d-81a4-3017412e7567",
   "metadata": {},
   "source": [
    "<h1>Composizione</h1>"
   ]
  },
  {
   "cell_type": "markdown",
   "id": "0c43a5c8-fb8f-431a-9ba9-fc550344d375",
   "metadata": {},
   "source": [
    "<h2>Un oggetto di una classe ha dentro l'oggetto di un'altra classe (has-a)</h2>"
   ]
  },
  {
   "cell_type": "markdown",
   "id": "fb3bc70b-5a54-456c-bb65-425fd5c2275d",
   "metadata": {},
   "source": [
    "<p>Creo una classe per definire un punto, con al suo interno un metodo per definirne la distanza dal centro (0,0)</p>"
   ]
  },
  {
   "cell_type": "code",
   "execution_count": 1,
   "id": "605f99f2-983d-43df-a440-9bfc7d5eaad9",
   "metadata": {},
   "outputs": [],
   "source": [
    "import math"
   ]
  },
  {
   "cell_type": "code",
   "execution_count": 2,
   "id": "7aec5dc8-80e4-4bce-8831-a574f1968b9b",
   "metadata": {},
   "outputs": [],
   "source": [
    "class Punto:\n",
    "    def __init__(self, x=0, y=0):\n",
    "        self.x = x\n",
    "        self.y = y\n",
    "\n",
    "    def distanza(self):\n",
    "        \"\"\"Restituisce la distanza dall'origine\"\"\"\n",
    "        return math.sqrt(self.x**2 + self.y**2)\n",
    "\n",
    "    def __str__(self):\n",
    "        return str((self.x, self.y))"
   ]
  },
  {
   "cell_type": "code",
   "execution_count": 3,
   "id": "e3f9781e-10e0-4cc8-beef-32283aad1cbc",
   "metadata": {},
   "outputs": [
    {
     "name": "stdout",
     "output_type": "stream",
     "text": [
      "(0, 0)\n",
      "0.0\n"
     ]
    }
   ],
   "source": [
    "p = Punto()\n",
    "print(p)\n",
    "print(p.distanza())"
   ]
  },
  {
   "cell_type": "code",
   "execution_count": 4,
   "id": "ea7590b9-d9df-42b9-86d7-487487d50861",
   "metadata": {},
   "outputs": [
    {
     "name": "stdout",
     "output_type": "stream",
     "text": [
      "(3, 4)\n",
      "5.0\n"
     ]
    }
   ],
   "source": [
    "p = Punto(3,4)\n",
    "print(p)\n",
    "print(p.distanza())"
   ]
  },
  {
   "cell_type": "markdown",
   "id": "11bc6948-fbb1-4fdd-8072-3198f8fdb016",
   "metadata": {},
   "source": [
    "<p>Adesso creo un'atra classe che definisce il cerchio, usando l'oggetto della classe punto come suo centro sul piano cartesiano. Anche qui creo un metodo che fornisce la distanza dal centro del piano (0,0).</p>"
   ]
  },
  {
   "cell_type": "code",
   "execution_count": 5,
   "id": "ed375736-52cb-45fb-a75f-ea9b5c2587a2",
   "metadata": {},
   "outputs": [],
   "source": [
    "class Cerchio:\n",
    "    def __init__(self, raggio=1, centro=Punto()):\n",
    "        self.raggio = raggio\n",
    "        self.centro = centro\n",
    "\n",
    "    def area(self):\n",
    "        return math.pi * self.raggio**2\n",
    "\n",
    "    def distanza(self):\n",
    "        \"\"\"Di nuovo, restituisce la distanza dall'origine, chiamando il metodo di Punto\"\"\"\n",
    "        return self.centro.distanza()\n",
    "\n",
    "    def __str__(self):\n",
    "        return \"raggio: %f, centro: %s\" %(self.raggio, self.centro)"
   ]
  },
  {
   "cell_type": "code",
   "execution_count": 6,
   "id": "ac70ec6c-ffc0-4715-9241-5e3cc41424ba",
   "metadata": {},
   "outputs": [
    {
     "name": "stdout",
     "output_type": "stream",
     "text": [
      "raggio: 1.000000, centro: (0, 0)\n"
     ]
    }
   ],
   "source": [
    "c = Cerchio()\n",
    "print(c)"
   ]
  },
  {
   "cell_type": "code",
   "execution_count": 7,
   "id": "f6c2d3ef-5545-482a-8e04-8ea387cea67a",
   "metadata": {},
   "outputs": [
    {
     "name": "stdout",
     "output_type": "stream",
     "text": [
      "raggio: 10.000000, centro: (3, 4)\n",
      "5.0\n",
      "314.1592653589793\n"
     ]
    }
   ],
   "source": [
    "c = Cerchio(10, Punto(3,4))\n",
    "print(c)\n",
    "print(c.distanza())\n",
    "print(c.area())\n"
   ]
  }
 ],
 "metadata": {
  "kernelspec": {
   "display_name": "Python 3 (ipykernel)",
   "language": "python",
   "name": "python3"
  },
  "language_info": {
   "codemirror_mode": {
    "name": "ipython",
    "version": 3
   },
   "file_extension": ".py",
   "mimetype": "text/x-python",
   "name": "python",
   "nbconvert_exporter": "python",
   "pygments_lexer": "ipython3",
   "version": "3.11.0"
  }
 },
 "nbformat": 4,
 "nbformat_minor": 5
}
