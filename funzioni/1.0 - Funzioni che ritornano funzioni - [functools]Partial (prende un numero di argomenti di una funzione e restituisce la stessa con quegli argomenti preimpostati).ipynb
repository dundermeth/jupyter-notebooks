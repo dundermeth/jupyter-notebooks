{
 "cells": [
  {
   "cell_type": "markdown",
   "id": "0eb978c4-47a6-40fd-af9f-4e95407e16e5",
   "metadata": {},
   "source": [
    "<h1>Partial</h1>"
   ]
  },
  {
   "cell_type": "markdown",
   "id": "b6239528-693f-4cba-9a67-b728fb2ae606",
   "metadata": {},
   "source": [
    "<h1>Per funzioni complesse con molti argomenti, da richiamare piu volte senza specificare sempre gli stessi argomenti</h1>"
   ]
  },
  {
   "cell_type": "code",
   "execution_count": 1,
   "id": "d32da08e-feb3-4643-82d9-b2c2091bc67e",
   "metadata": {},
   "outputs": [],
   "source": [
    "from functools import partial"
   ]
  },
  {
   "cell_type": "code",
   "execution_count": 2,
   "id": "47bade3e-24fe-41c9-bdbf-6551e3161eca",
   "metadata": {},
   "outputs": [
    {
     "name": "stdout",
     "output_type": "stream",
     "text": [
      "True\n"
     ]
    }
   ],
   "source": [
    "def maggiore_di(a, b):\n",
    "    return a > b\n",
    "print(maggiore_di(15, 10))"
   ]
  },
  {
   "cell_type": "code",
   "execution_count": 4,
   "id": "6ea40243-744d-43ca-95f7-e3098d67d1b7",
   "metadata": {},
   "outputs": [
    {
     "name": "stdout",
     "output_type": "stream",
     "text": [
      "False\n"
     ]
    }
   ],
   "source": [
    "maggiore_di_20 = partial(maggiore_di, b=20)\n",
    "print(maggiore_di_20(15))"
   ]
  },
  {
   "cell_type": "markdown",
   "id": "ee24bb06-153f-41b0-9fc1-a002a898d33e",
   "metadata": {},
   "source": [
    "<p>Partial rende costante uno o più argomenti della funzione, questo per poterla richiamare più volte in più modi ben leggibili. \n",
    "Da notare che <U>l'implementazione</U> della funzione però, <U>è sempre la stessa</U>.\n",
    "<br>\n",
    "Se si vuole modificare l'implementazione a seconda del tipo di argomento inserito, usare \n",
    "<a href=\"http://localhost:8888/notebooks/Jupyter/Python%20Learn/Librerie%20builtin/Decoratori/1.0%20-%20Decoratori%20per%20funzioni%20-%20[functools]Singedispatch%20(overloading%20di%20funzioni).ipynb\"><em>@singledispatch</em></a>\n",
    "</p>"
   ]
  },
  {
   "cell_type": "markdown",
   "id": "e461ccd6-fdf7-4456-a710-e7ccd093916e",
   "metadata": {},
   "source": [
    "<p>Vi è anche la versione per i metodi nelle classi, sempre in functools, ed è <a href=\"http://localhost:8888/notebooks/Jupyter/Python%20Learn/Librerie%20builtin/Classi/1.0%20-%20Metodi%20che%20restituiscono%20metodi%20-%20[functools]Partialmethod%20(rende%20costanti%20alcuni%20degli%20argomenti%20senza%20cambiare%20implementazione).ipynb\"><strong>partialmethod</strong></a>\n",
    "</p>"
   ]
  },
  {
   "cell_type": "markdown",
   "id": "b58ddfe8-5dd2-499e-8f5f-26f6f80de2d6",
   "metadata": {},
   "source": [
    "<p>Per maggiori dettagli la documentazione ufficiale di <a href=\"https://docs.python.org/3/library/functools.html\">functools</a>.\n",
    "</p>"
   ]
  },
  {
   "cell_type": "code",
   "execution_count": null,
   "id": "18c5d420-f5e7-4c2a-abaf-8c11c1086bad",
   "metadata": {},
   "outputs": [],
   "source": []
  }
 ],
 "metadata": {
  "kernelspec": {
   "display_name": "Python 3 (ipykernel)",
   "language": "python",
   "name": "python3"
  },
  "language_info": {
   "codemirror_mode": {
    "name": "ipython",
    "version": 3
   },
   "file_extension": ".py",
   "mimetype": "text/x-python",
   "name": "python",
   "nbconvert_exporter": "python",
   "pygments_lexer": "ipython3",
   "version": "3.11.0"
  }
 },
 "nbformat": 4,
 "nbformat_minor": 5
}
